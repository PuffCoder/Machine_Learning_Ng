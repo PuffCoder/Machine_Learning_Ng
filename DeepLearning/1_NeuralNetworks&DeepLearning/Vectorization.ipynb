{
 "cells": [
  {
   "cell_type": "markdown",
   "metadata": {},
   "source": [
    "# Vectorization\n"
   ]
  },
  {
   "cell_type": "markdown",
   "metadata": {},
   "source": [
    "### Paralle Computering Hardware implimenting matrix mulifications; like GPUs; some CPUs functions"
   ]
  },
  {
   "cell_type": "markdown",
   "metadata": {},
   "source": [
    "#### ``` for loop ```"
   ]
  },
  {
   "cell_type": "code",
   "execution_count": 37,
   "metadata": {},
   "outputs": [
    {
     "name": "stdout",
     "output_type": "stream",
     "text": [
      "(2, 3)\n",
      "[1. 0. 1.]\n"
     ]
    }
   ],
   "source": [
    "# for loop \n",
    "import numpy as np\n",
    "\n",
    "x = np.array([200, 17])\n",
    "\n",
    "W = np.array([\n",
    "    [1,-3,5],\n",
    "    [-2,4,-6]\n",
    "])\n",
    "\n",
    "b = np.array([-1,1,2],)\n",
    "\n",
    "def g(x):\n",
    "    return 1 / (1 + np.exp(-x))\n",
    "\n",
    "print(W.shape)\n",
    "def dense(a_in,W,b):\n",
    "    units = W.shape[1]\n",
    "    a_out = np.zeros(units)\n",
    "\n",
    "    for j in range(units):\n",
    "        w = W[:,j]\n",
    "        z = np.dot(w,a_in) + b[j]\n",
    "        \n",
    "        a_out[j] = g(z)\n",
    "    return a_out\n",
    "\n",
    "print(np.around(dense(x,W,b)))"
   ]
  },
  {
   "cell_type": "markdown",
   "metadata": {},
   "source": [
    "#### ``` matrix mulitification ```"
   ]
  },
  {
   "cell_type": "code",
   "execution_count": 2,
   "metadata": {},
   "outputs": [
    {
     "ename": "NameError",
     "evalue": "name 'x' is not defined",
     "output_type": "error",
     "traceback": [
      "\u001b[0;31m---------------------------------------------------------------------------\u001b[0m",
      "\u001b[0;31mNameError\u001b[0m                                 Traceback (most recent call last)",
      "Cell \u001b[0;32mIn[2], line 20\u001b[0m\n\u001b[1;32m     17\u001b[0m     A_out \u001b[39m=\u001b[39m g(Z)\n\u001b[1;32m     18\u001b[0m     \u001b[39mreturn\u001b[39;00m A_out\n\u001b[0;32m---> 20\u001b[0m \u001b[39mprint\u001b[39m(np\u001b[39m.\u001b[39maround(dense(x,W,b)))\n",
      "\u001b[0;31mNameError\u001b[0m: name 'x' is not defined"
     ]
    }
   ],
   "source": [
    "import numpy as np\n",
    "X = np.array([200, 17]) # 2D array\n",
    "\n",
    "W = np.array([\n",
    "    [1,-3,5],\n",
    "    [-2,4,-6]\n",
    "]) # 2x3 Matrix / 2D array\n",
    "\n",
    "B = np.array([-1,1,2],) # 1x3 3D array\n",
    "\n",
    "def g(x):\n",
    "    return 1 / (1 + np.exp(-x))\n",
    "\n",
    "def dense(A_in,W,B):\n",
    "    # Z = np.matmul(A_in, W) + B # same with @ => np.matmul\n",
    "    Z = A_in @ W + B\n",
    "    A_out = g(Z)\n",
    "    return A_out\n",
    "\n",
    "print(np.around(dense(x,W,b)))"
   ]
  },
  {
   "cell_type": "code",
   "execution_count": 21,
   "metadata": {},
   "outputs": [
    {
     "name": "stdout",
     "output_type": "stream",
     "text": [
      "[[-1 -1]\n",
      " [-2 -2]]\n"
     ]
    }
   ],
   "source": [
    "W = np.array([\n",
    "    [3,5],\n",
    "    [4,6]\n",
    "])\n",
    "\n",
    "A = np.array([\n",
    "    [1,-1],\n",
    "    [2,-2]\n",
    "])\n",
    "\n",
    "c = np.dot(A,W)\n",
    "print(c)"
   ]
  },
  {
   "cell_type": "code",
   "execution_count": 24,
   "metadata": {},
   "outputs": [
    {
     "data": {
      "text/plain": [
       "array([[ 11,  17],\n",
       "       [-11, -17]])"
      ]
     },
     "execution_count": 24,
     "metadata": {},
     "output_type": "execute_result"
    }
   ],
   "source": [
    "A.T @ W\n",
    "# A @ W"
   ]
  },
  {
   "cell_type": "code",
   "execution_count": null,
   "metadata": {},
   "outputs": [],
   "source": []
  }
 ],
 "metadata": {
  "kernelspec": {
   "display_name": "Python 3.12.1 64-bit ('3.12.1')",
   "language": "python",
   "name": "python3"
  },
  "language_info": {
   "codemirror_mode": {
    "name": "ipython",
    "version": 3
   },
   "file_extension": ".py",
   "mimetype": "text/x-python",
   "name": "python",
   "nbconvert_exporter": "python",
   "pygments_lexer": "ipython3",
   "version": "3.12.1"
  },
  "orig_nbformat": 4,
  "vscode": {
   "interpreter": {
    "hash": "49a2be796fb9d467b4a32eeffd280e817abf000e884f8f05778a9b063df0518a"
   }
  }
 },
 "nbformat": 4,
 "nbformat_minor": 2
}
