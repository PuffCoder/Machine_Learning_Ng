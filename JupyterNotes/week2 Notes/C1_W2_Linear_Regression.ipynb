{
 "cells": [
  {
   "cell_type": "markdown",
   "metadata": {},
   "source": [
    "# Practice Lab: Linear Regression\n",
    "\n",
    "Welcome to your first practice lab! In this lab, you will implement linear regression with one variable to predict profits for a restaurant franchise.\n",
    "\n",
    "\n",
    "# Outline\n",
    "- [ 1 - Packages ](#1)\n",
    "- [ 2 - Linear regression with one variable ](#2)\n",
    "  - [ 2.1 Problem Statement](#2.1)\n",
    "  - [ 2.2  Dataset](#2.2)\n",
    "  - [ 2.3 Refresher on linear regression](#2.3)\n",
    "  - [ 2.4  Compute Cost](#2.4)\n",
    "    - [ Exercise 1](#ex01)\n",
    "  - [ 2.5 Gradient descent ](#2.5)\n",
    "    - [ Exercise 2](#ex02)\n",
    "  - [ 2.6 Learning parameters using batch gradient descent ](#2.6)\n"
   ]
  },
  {
   "cell_type": "markdown",
   "metadata": {},
   "source": [
    "_**NOTE:** To prevent errors from the autograder, you are not allowed to edit or delete non-graded cells in this notebook . Please also refrain from adding any new cells. \n",
    "**Once you have passed this assignment** and want to experiment with any of the non-graded code, you may follow the instructions at the bottom of this notebook._"
   ]
  },
  {
   "cell_type": "markdown",
   "metadata": {},
   "source": [
    "<a name=\"1\"></a>\n",
    "## 1 - Packages \n",
    "\n",
    "First, let's run the cell below to import all the packages that you will need during this assignment.\n",
    "- [numpy](www.numpy.org) is the fundamental package for working with matrices in Python.\n",
    "- [matplotlib](http://matplotlib.org) is a famous library to plot graphs in Python.\n",
    "- ``utils.py`` contains helper functions for this assignment. You do not need to modify code in this file.\n"
   ]
  },
  {
   "cell_type": "code",
   "execution_count": 11,
   "metadata": {
    "deletable": false,
    "editable": false
   },
   "outputs": [],
   "source": [
    "import numpy as np\n",
    "import matplotlib.pyplot as plt\n",
    "from utils import *\n",
    "import copy\n",
    "import math\n",
    "%matplotlib inline"
   ]
  },
  {
   "cell_type": "markdown",
   "metadata": {},
   "source": [
    "## 2 -  Problem Statement\n",
    "\n",
    "Suppose you are the CEO of a restaurant franchise and are considering different cities for opening a new outlet.\n",
    "- You would like to expand your business to cities that may give your restaurant higher profits.\n",
    "- The chain already has restaurants in various cities and you have data for profits and populations from the cities.\n",
    "- You also have data on cities that are candidates for a new restaurant. \n",
    "    - For these cities, you have the city population.\n",
    "    \n",
    "Can you use the data to help you identify which cities may potentially give your business higher profits?\n",
    "\n",
    "## 3 - Dataset\n",
    "\n",
    "You will start by loading the dataset for this task. \n",
    "- The `load_data()` function shown below loads the data into variables `x_train` and `y_train`\n",
    "  - `x_train` is the population of a city\n",
    "  - `y_train` is the profit of a restaurant in that city. A negative value for profit indicates a loss.   \n",
    "  - Both `X_train` and `y_train` are numpy arrays."
   ]
  },
  {
   "cell_type": "code",
   "execution_count": 12,
   "metadata": {
    "deletable": false,
    "editable": false
   },
   "outputs": [],
   "source": [
    "# load the dataset\n",
    "x_train, y_train = load_data()"
   ]
  },
  {
   "cell_type": "markdown",
   "metadata": {},
   "source": [
    "#### View the variables\n",
    "Before starting on any task, it is useful to get more familiar with your dataset.  \n",
    "- A good place to start is to just print out each variable and see what it contains.\n",
    "\n",
    "The code below prints the variable `x_train` and the type of the variable."
   ]
  },
  {
   "cell_type": "code",
   "execution_count": 13,
   "metadata": {
    "deletable": false,
    "editable": false
   },
   "outputs": [
    {
     "name": "stdout",
     "output_type": "stream",
     "text": [
      "Type of x_train: <class 'numpy.ndarray'>\n",
      "First five elements of x_train are:\n",
      " [6.1101 5.5277 8.5186 7.0032 5.8598]\n"
     ]
    }
   ],
   "source": [
    "# print x_train\n",
    "print(\"Type of x_train:\",type(x_train))\n",
    "print(\"First five elements of x_train are:\\n\", x_train[:5]) "
   ]
  },
  {
   "cell_type": "markdown",
   "metadata": {},
   "source": [
    "`x_train` is a numpy array that contains decimal values that are all greater than zero.\n",
    "- These values represent the city population times 10,000\n",
    "- For example, 6.1101 means that the population for that city is 61,101\n",
    "  \n",
    "Now, let's print `y_train`"
   ]
  },
  {
   "cell_type": "code",
   "execution_count": 14,
   "metadata": {
    "deletable": false,
    "editable": false
   },
   "outputs": [
    {
     "name": "stdout",
     "output_type": "stream",
     "text": [
      "Type of y_train: <class 'numpy.ndarray'>\n",
      "First five elements of y_train are:\n",
      " [17.592   9.1302 13.662  11.854   6.8233]\n"
     ]
    }
   ],
   "source": [
    "# print y_train\n",
    "print(\"Type of y_train:\",type(y_train))\n",
    "print(\"First five elements of y_train are:\\n\", y_train[:5])  "
   ]
  },
  {
   "cell_type": "markdown",
   "metadata": {},
   "source": [
    "Similarly, `y_train` is a numpy array that has decimal values, some negative, some positive.\n",
    "- These represent your restaurant's average monthly profits in each city, in units of \\$10,000.\n",
    "  - For example, 17.592 represents \\$175,920 in average monthly profits for that city.\n",
    "  - -2.6807 represents -\\$26,807 in average monthly loss for that city."
   ]
  },
  {
   "cell_type": "markdown",
   "metadata": {},
   "source": [
    "#### Check the dimensions of your variables\n",
    "\n",
    "Another useful way to get familiar with your data is to view its dimensions.\n",
    "\n",
    "Please print the shape of `x_train` and `y_train` and see how many training examples you have in your dataset."
   ]
  },
  {
   "cell_type": "code",
   "execution_count": 15,
   "metadata": {
    "deletable": false,
    "editable": false
   },
   "outputs": [
    {
     "name": "stdout",
     "output_type": "stream",
     "text": [
      "The shape of x_train is: (97,)\n",
      "The shape of y_train is:  (97,)\n",
      "Number of training examples (m): 97\n"
     ]
    }
   ],
   "source": [
    "print ('The shape of x_train is:', x_train.shape)\n",
    "print ('The shape of y_train is: ', y_train.shape)\n",
    "print ('Number of training examples (m):', len(x_train))"
   ]
  },
  {
   "cell_type": "markdown",
   "metadata": {},
   "source": [
    "The city population array has 97 data points, and the monthly average profits also has 97 data points. These are NumPy 1D arrays."
   ]
  },
  {
   "cell_type": "markdown",
   "metadata": {},
   "source": [
    "#### Visualize your data\n",
    "\n",
    "It is often useful to understand the data by visualizing it. \n",
    "- For this dataset, you can use a scatter plot to visualize the data, since it has only two properties to plot (profit and population). \n",
    "- Many other problems that you will encounter in real life have more than two properties (for example, population, average household income, monthly profits, monthly sales).When you have more than two properties, you can still use a scatter plot to see the relationship between each pair of properties.\n"
   ]
  },
  {
   "cell_type": "code",
   "execution_count": 16,
   "metadata": {
    "deletable": false,
    "editable": false
   },
   "outputs": [
    {
     "data": {
      "image/png": "[encoded data removed]",
      "image/svg+xml": "<?xml version=\"1.0\" encoding=\"utf-8\" standalone=\"no\"?>\n<!DOCTYPE svg PUBLIC \"-//W3C//DTD SVG 1.1//EN\"\n  \"http://www.w3.org/Graphics/SVG/1.1/DTD/svg11.dtd\">\n<svg xmlns:xlink=\"http://www.w3.org/1999/xlink\" width=\"405.436964pt\" height=\"325.986375pt\" viewBox=\"0 0 405.436964 325.986375\" xmlns=\"http://www.w3.org/2000/svg\" version=\"1.1\">\n <metadata>\n  <rdf:RDF xmlns:dc=\"http://purl.org/dc/elements/1.1/\" xmlns:cc=\"http://creativecommons.org/ns#\" xmlns:rdf=\"http://www.w3.org/1999/02/22-rdf-syntax-ns#\">\n   <cc:Work>\n    <dc:type rdf:resource=\"http://purl.org/dc/dcmitype/StillImage\"/>\n    <dc:date>2023-12-26T20:34:45.815844</dc:date>\n    <dc:format>image/svg+xml</dc:format>\n    <dc:creator>\n     <cc:Agent>\n      <dc:title>Matplotlib v3.8.2, https://matplotlib.org/</dc:title>\n     </cc:Agent>\n    </dc:creator>\n   </cc:Work>\n  </rdf:RDF>\n </metadata>\n <defs>\n  <style type=\"text/css\">*{stroke-linejoin: round; stroke-linecap: butt}</style>\n </defs>\n <g id=\"figure_1\">\n  <g id=\"patch_1\">\n   <path d=\"M 0 325.986375 \nL 405.436964 325.986375 \nL 405.436964 0 \nL 0 0 \nz\n\"/>\n  </g>\n  <g id=\"axes_1\">\n   <g id=\"patch_2\">\n    <path d=\"M 40.603125 288.430125 \nL 397.723125 288.430125 \nL 397.723125 22.318125 \nL 40.603125 22.318125 \nz\n\"/>\n   </g>\n   <g id=\"PathCollection_1\">\n    <defs>\n     <path id=\"m6c2cae8d53\" d=\"M -3 3 \nL 3 -3 \nM -3 -3 \nL 3 3 \n\" style=\"stroke: #ff0000; stroke-width: 1.5\"/>\n    </defs>\n    <g clip-path=\"url(#p99e485367b)\">\n     <use xlink:href=\"#m6c2cae8d53\" x=\"77.309988\" y=\"93.524134\" style=\"fill: #ff0000; stroke: #ff0000; stroke-width: 1.5\"/>\n     <use xlink:href=\"#m6c2cae8d53\" x=\"66.301738\" y=\"169.828799\" style=\"fill: #ff0000; stroke: #ff0000; stroke-width: 1.5\"/>\n     <use xlink:href=\"#m6c2cae8d53\" x=\"122.83432\" y=\"128.963087\" style=\"fill: #ff0000; stroke: #ff0000; stroke-width: 1.5\"/>\n     <use xlink:href=\"#m6c2cae8d53\" x=\"94.190943\" y=\"145.266809\" style=\"fill: #ff0000; stroke: #ff0000; stroke-width: 1.5\"/>\n     <use xlink:href=\"#m6c2cae8d53\" x=\"72.578935\" y=\"190.631374\" style=\"fill: #ff0000; stroke: #ff0000; stroke-width: 1.5\"/>\n     <use xlink:href=\"#m6c2cae8d53\" x=\"120.269382\" y=\"144.978248\" style=\"fill: #ff0000; stroke: #ff0000; stroke-width: 1.5\"/>\n     <use xlink:href=\"#m6c2cae8d53\" x=\"103.135147\" y=\"212.949799\" style=\"fill: #ff0000; stroke: #ff0000; stroke-width: 1.5\"/>\n     <use xlink:href=\"#m6c2cae8d53\" x=\"123.958961\" y=\"143.950248\" style=\"fill: #ff0000; stroke: #ff0000; stroke-width: 1.5\"/>\n     <use xlink:href=\"#m6c2cae8d53\" x=\"84.418853\" y=\"192.656715\" style=\"fill: #ff0000; stroke: #ff0000; stroke-width: 1.5\"/>\n     <use xlink:href=\"#m6c2cae8d53\" x=\"57.359425\" y=\"217.744428\" style=\"fill: #ff0000; stroke: #ff0000; stroke-width: 1.5\"/>\n     <use xlink:href=\"#m6c2cae8d53\" x=\"69.760718\" y=\"222.83393\" style=\"fill: #ff0000; stroke: #ff0000; stroke-width: 1.5\"/>\n     <use xlink:href=\"#m6c2cae8d53\" x=\"229.541009\" y=\"112.343751\" style=\"fill: #ff0000; stroke: #ff0000; stroke-width: 1.5\"/>\n     <use xlink:href=\"#m6c2cae8d53\" x=\"70.201123\" y=\"223.709534\" style=\"fill: #ff0000; stroke: #ff0000; stroke-width: 1.5\"/>\n     <use xlink:href=\"#m6c2cae8d53\" x=\"120.751371\" y=\"187.001813\" style=\"fill: #ff0000; stroke: #ff0000; stroke-width: 1.5\"/>\n     <use xlink:href=\"#m6c2cae8d53\" x=\"68.437611\" y=\"245.702606\" style=\"fill: #ff0000; stroke: #ff0000; stroke-width: 1.5\"/>\n     <use xlink:href=\"#m6c2cae8d53\" x=\"63.498641\" y=\"220.483056\" style=\"fill: #ff0000; stroke: #ff0000; stroke-width: 1.5\"/>\n     <use xlink:href=\"#m6c2cae8d53\" x=\"82.135548\" y=\"204.324517\" style=\"fill: #ff0000; stroke: #ff0000; stroke-width: 1.5\"/>\n     <use xlink:href=\"#m6c2cae8d53\" x=\"58.78649\" y=\"247.104022\" style=\"fill: #ff0000; stroke: #ff0000; stroke-width: 1.5\"/>\n     <use xlink:href=\"#m6c2cae8d53\" x=\"83.349026\" y=\"219.230519\" style=\"fill: #ff0000; stroke: #ff0000; stroke-width: 1.5\"/>\n     <use xlink:href=\"#m6c2cae8d53\" x=\"95.468687\" y=\"203.562534\" style=\"fill: #ff0000; stroke: #ff0000; stroke-width: 1.5\"/>\n     <use xlink:href=\"#m6c2cae8d53\" x=\"78.803209\" y=\"223.858324\" style=\"fill: #ff0000; stroke: #ff0000; stroke-width: 1.5\"/>\n     <use xlink:href=\"#m6c2cae8d53\" x=\"344.953743\" y=\"55.875883\" style=\"fill: #ff0000; stroke: #ff0000; stroke-width: 1.5\"/>\n     <use xlink:href=\"#m6c2cae8d53\" x=\"65.59104\" y=\"213.718996\" style=\"fill: #ff0000; stroke: #ff0000; stroke-width: 1.5\"/>\n     <use xlink:href=\"#m6c2cae8d53\" x=\"81.392718\" y=\"205.382275\" style=\"fill: #ff0000; stroke: #ff0000; stroke-width: 1.5\"/>\n     <use xlink:href=\"#m6c2cae8d53\" x=\"67.004875\" y=\"224.364208\" style=\"fill: #ff0000; stroke: #ff0000; stroke-width: 1.5\"/>\n     <use xlink:href=\"#m6c2cae8d53\" x=\"319.909218\" y=\"48.021601\" style=\"fill: #ff0000; stroke: #ff0000; stroke-width: 1.5\"/>\n     <use xlink:href=\"#m6c2cae8d53\" x=\"204.288567\" y=\"130.414912\" style=\"fill: #ff0000; stroke: #ff0000; stroke-width: 1.5\"/>\n     <use xlink:href=\"#m6c2cae8d53\" x=\"168.923807\" y=\"188.616855\" style=\"fill: #ff0000; stroke: #ff0000; stroke-width: 1.5\"/>\n     <use xlink:href=\"#m6c2cae8d53\" x=\"210.866299\" y=\"119.675016\" style=\"fill: #ff0000; stroke: #ff0000; stroke-width: 1.5\"/>\n     <use xlink:href=\"#m6c2cae8d53\" x=\"381.490398\" y=\"34.414125\" style=\"fill: #ff0000; stroke: #ff0000; stroke-width: 1.5\"/>\n     <use xlink:href=\"#m6c2cae8d53\" x=\"61.098147\" y=\"263.162197\" style=\"fill: #ff0000; stroke: #ff0000; stroke-width: 1.5\"/>\n     <use xlink:href=\"#m6c2cae8d53\" x=\"86.369491\" y=\"198.086179\" style=\"fill: #ff0000; stroke: #ff0000; stroke-width: 1.5\"/>\n     <use xlink:href=\"#m6c2cae8d53\" x=\"136.624875\" y=\"142.741897\" style=\"fill: #ff0000; stroke: #ff0000; stroke-width: 1.5\"/>\n     <use xlink:href=\"#m6c2cae8d53\" x=\"73.183784\" y=\"235.482841\" style=\"fill: #ff0000; stroke: #ff0000; stroke-width: 1.5\"/>\n     <use xlink:href=\"#m6c2cae8d53\" x=\"117.0221\" y=\"193.162599\" style=\"fill: #ff0000; stroke: #ff0000; stroke-width: 1.5\"/>\n     <use xlink:href=\"#m6c2cae8d53\" x=\"111.773145\" y=\"211.020044\" style=\"fill: #ff0000; stroke: #ff0000; stroke-width: 1.5\"/>\n     <use xlink:href=\"#m6c2cae8d53\" x=\"114.844644\" y=\"215.040968\" style=\"fill: #ff0000; stroke: #ff0000; stroke-width: 1.5\"/>\n     <use xlink:href=\"#m6c2cae8d53\" x=\"67.787398\" y=\"221.566064\" style=\"fill: #ff0000; stroke: #ff0000; stroke-width: 1.5\"/>\n     <use xlink:href=\"#m6c2cae8d53\" x=\"204.439779\" y=\"160.930286\" style=\"fill: #ff0000; stroke: #ff0000; stroke-width: 1.5\"/>\n     <use xlink:href=\"#m6c2cae8d53\" x=\"81.90873\" y=\"202.587738\" style=\"fill: #ff0000; stroke: #ff0000; stroke-width: 1.5\"/>\n     <use xlink:href=\"#m6c2cae8d53\" x=\"64.018433\" y=\"247.141896\" style=\"fill: #ff0000; stroke: #ff0000; stroke-width: 1.5\"/>\n     <use xlink:href=\"#m6c2cae8d53\" x=\"91.909529\" y=\"216.888663\" style=\"fill: #ff0000; stroke: #ff0000; stroke-width: 1.5\"/>\n     <use xlink:href=\"#m6c2cae8d53\" x=\"183.118855\" y=\"203.597703\" style=\"fill: #ff0000; stroke: #ff0000; stroke-width: 1.5\"/>\n     <use xlink:href=\"#m6c2cae8d53\" x=\"70.951514\" y=\"230.15257\" style=\"fill: #ff0000; stroke: #ff0000; stroke-width: 1.5\"/>\n     <use xlink:href=\"#m6c2cae8d53\" x=\"109.718549\" y=\"191.45648\" style=\"fill: #ff0000; stroke: #ff0000; stroke-width: 1.5\"/>\n     <use xlink:href=\"#m6c2cae8d53\" x=\"95.890191\" y=\"242.725734\" style=\"fill: #ff0000; stroke: #ff0000; stroke-width: 1.5\"/>\n     <use xlink:href=\"#m6c2cae8d53\" x=\"57.654288\" y=\"205.867419\" style=\"fill: #ff0000; stroke: #ff0000; stroke-width: 1.5\"/>\n     <use xlink:href=\"#m6c2cae8d53\" x=\"71.475086\" y=\"235.532438\" style=\"fill: #ff0000; stroke: #ff0000; stroke-width: 1.5\"/>\n     <use xlink:href=\"#m6c2cae8d53\" x=\"182.967643\" y=\"179.981653\" style=\"fill: #ff0000; stroke: #ff0000; stroke-width: 1.5\"/>\n     <use xlink:href=\"#m6c2cae8d53\" x=\"66.564469\" y=\"242.981832\" style=\"fill: #ff0000; stroke: #ff0000; stroke-width: 1.5\"/>\n     <use xlink:href=\"#m6c2cae8d53\" x=\"104.341064\" y=\"191.288754\" style=\"fill: #ff0000; stroke: #ff0000; stroke-width: 1.5\"/>\n     <use xlink:href=\"#m6c2cae8d53\" x=\"62.143402\" y=\"235.572115\" style=\"fill: #ff0000; stroke: #ff0000; stroke-width: 1.5\"/>\n     <use xlink:href=\"#m6c2cae8d53\" x=\"102.142816\" y=\"213.489048\" style=\"fill: #ff0000; stroke: #ff0000; stroke-width: 1.5\"/>\n     <use xlink:href=\"#m6c2cae8d53\" x=\"105.52997\" y=\"207.090198\" style=\"fill: #ff0000; stroke: #ff0000; stroke-width: 1.5\"/>\n     <use xlink:href=\"#m6c2cae8d53\" x=\"81.519358\" y=\"239.326119\" style=\"fill: #ff0000; stroke: #ff0000; stroke-width: 1.5\"/>\n     <use xlink:href=\"#m6c2cae8d53\" x=\"82.012688\" y=\"264.975625\" style=\"fill: #ff0000; stroke: #ff0000; stroke-width: 1.5\"/>\n     <use xlink:href=\"#m6c2cae8d53\" x=\"80.411729\" y=\"229.836956\" style=\"fill: #ff0000; stroke: #ff0000; stroke-width: 1.5\"/>\n     <use xlink:href=\"#m6c2cae8d53\" x=\"68.418709\" y=\"210.642209\" style=\"fill: #ff0000; stroke: #ff0000; stroke-width: 1.5\"/>\n     <use xlink:href=\"#m6c2cae8d53\" x=\"137.79677\" y=\"216.42967\" style=\"fill: #ff0000; stroke: #ff0000; stroke-width: 1.5\"/>\n     <use xlink:href=\"#m6c2cae8d53\" x=\"140.507249\" y=\"203.338899\" style=\"fill: #ff0000; stroke: #ff0000; stroke-width: 1.5\"/>\n     <use xlink:href=\"#m6c2cae8d53\" x=\"128.633309\" y=\"205.545493\" style=\"fill: #ff0000; stroke: #ff0000; stroke-width: 1.5\"/>\n     <use xlink:href=\"#m6c2cae8d53\" x=\"59.716445\" y=\"258.858934\" style=\"fill: #ff0000; stroke: #ff0000; stroke-width: 1.5\"/>\n     <use xlink:href=\"#m6c2cae8d53\" x=\"364.025385\" y=\"90.485222\" style=\"fill: #ff0000; stroke: #ff0000; stroke-width: 1.5\"/>\n     <use xlink:href=\"#m6c2cae8d53\" x=\"243.603747\" y=\"143.4633\" style=\"fill: #ff0000; stroke: #ff0000; stroke-width: 1.5\"/>\n     <use xlink:href=\"#m6c2cae8d53\" x=\"320.173839\" y=\"98.375574\" style=\"fill: #ff0000; stroke: #ff0000; stroke-width: 1.5\"/>\n     <use xlink:href=\"#m6c2cae8d53\" x=\"98.254772\" y=\"208.108279\" style=\"fill: #ff0000; stroke: #ff0000; stroke-width: 1.5\"/>\n     <use xlink:href=\"#m6c2cae8d53\" x=\"118.609828\" y=\"200.362208\" style=\"fill: #ff0000; stroke: #ff0000; stroke-width: 1.5\"/>\n     <use xlink:href=\"#m6c2cae8d53\" x=\"155.295805\" y=\"182.04577\" style=\"fill: #ff0000; stroke: #ff0000; stroke-width: 1.5\"/>\n     <use xlink:href=\"#m6c2cae8d53\" x=\"65.766825\" y=\"242.987242\" style=\"fill: #ff0000; stroke: #ff0000; stroke-width: 1.5\"/>\n     <use xlink:href=\"#m6c2cae8d53\" x=\"346.295751\" y=\"62.86448\" style=\"fill: #ff0000; stroke: #ff0000; stroke-width: 1.5\"/>\n     <use xlink:href=\"#m6c2cae8d53\" x=\"153.405652\" y=\"191.92449\" style=\"fill: #ff0000; stroke: #ff0000; stroke-width: 1.5\"/>\n     <use xlink:href=\"#m6c2cae8d53\" x=\"100.45302\" y=\"215.857056\" style=\"fill: #ff0000; stroke: #ff0000; stroke-width: 1.5\"/>\n     <use xlink:href=\"#m6c2cae8d53\" x=\"75.346119\" y=\"240.632761\" style=\"fill: #ff0000; stroke: #ff0000; stroke-width: 1.5\"/>\n     <use xlink:href=\"#m6c2cae8d53\" x=\"98.400314\" y=\"222.032271\" style=\"fill: #ff0000; stroke: #ff0000; stroke-width: 1.5\"/>\n     <use xlink:href=\"#m6c2cae8d53\" x=\"56.835852\" y=\"276.334125\" style=\"fill: #ff0000; stroke: #ff0000; stroke-width: 1.5\"/>\n     <use xlink:href=\"#m6c2cae8d53\" x=\"85.585077\" y=\"249.484564\" style=\"fill: #ff0000; stroke: #ff0000; stroke-width: 1.5\"/>\n     <use xlink:href=\"#m6c2cae8d53\" x=\"104.310822\" y=\"217.132137\" style=\"fill: #ff0000; stroke: #ff0000; stroke-width: 1.5\"/>\n     <use xlink:href=\"#m6c2cae8d53\" x=\"57.017307\" y=\"200.748159\" style=\"fill: #ff0000; stroke: #ff0000; stroke-width: 1.5\"/>\n     <use xlink:href=\"#m6c2cae8d53\" x=\"156.014063\" y=\"191.268915\" style=\"fill: #ff0000; stroke: #ff0000; stroke-width: 1.5\"/>\n     <use xlink:href=\"#m6c2cae8d53\" x=\"58.363096\" y=\"233.60629\" style=\"fill: #ff0000; stroke: #ff0000; stroke-width: 1.5\"/>\n     <use xlink:href=\"#m6c2cae8d53\" x=\"70.110396\" y=\"247.836608\" style=\"fill: #ff0000; stroke: #ff0000; stroke-width: 1.5\"/>\n     <use xlink:href=\"#m6c2cae8d53\" x=\"59.888449\" y=\"250.319318\" style=\"fill: #ff0000; stroke: #ff0000; stroke-width: 1.5\"/>\n     <use xlink:href=\"#m6c2cae8d53\" x=\"81.952203\" y=\"246.041395\" style=\"fill: #ff0000; stroke: #ff0000; stroke-width: 1.5\"/>\n     <use xlink:href=\"#m6c2cae8d53\" x=\"146.463121\" y=\"184.136938\" style=\"fill: #ff0000; stroke: #ff0000; stroke-width: 1.5\"/>\n     <use xlink:href=\"#m6c2cae8d53\" x=\"84.980228\" y=\"203.974636\" style=\"fill: #ff0000; stroke: #ff0000; stroke-width: 1.5\"/>\n     <use xlink:href=\"#m6c2cae8d53\" x=\"122.807858\" y=\"213.912873\" style=\"fill: #ff0000; stroke: #ff0000; stroke-width: 1.5\"/>\n     <use xlink:href=\"#m6c2cae8d53\" x=\"135.339571\" y=\"190.858617\" style=\"fill: #ff0000; stroke: #ff0000; stroke-width: 1.5\"/>\n     <use xlink:href=\"#m6c2cae8d53\" x=\"75.266733\" y=\"243.801978\" style=\"fill: #ff0000; stroke: #ff0000; stroke-width: 1.5\"/>\n     <use xlink:href=\"#m6c2cae8d53\" x=\"66.163757\" y=\"250.790124\" style=\"fill: #ff0000; stroke: #ff0000; stroke-width: 1.5\"/>\n     <use xlink:href=\"#m6c2cae8d53\" x=\"57.450152\" y=\"226.718689\" style=\"fill: #ff0000; stroke: #ff0000; stroke-width: 1.5\"/>\n     <use xlink:href=\"#m6c2cae8d53\" x=\"69.704013\" y=\"235.522518\" style=\"fill: #ff0000; stroke: #ff0000; stroke-width: 1.5\"/>\n     <use xlink:href=\"#m6c2cae8d53\" x=\"106.163171\" y=\"213.422318\" style=\"fill: #ff0000; stroke: #ff0000; stroke-width: 1.5\"/>\n     <use xlink:href=\"#m6c2cae8d53\" x=\"72.784962\" y=\"187.208314\" style=\"fill: #ff0000; stroke: #ff0000; stroke-width: 1.5\"/>\n     <use xlink:href=\"#m6c2cae8d53\" x=\"62.099928\" y=\"234.243831\" style=\"fill: #ff0000; stroke: #ff0000; stroke-width: 1.5\"/>\n     <use xlink:href=\"#m6c2cae8d53\" x=\"118.577695\" y=\"250.857395\" style=\"fill: #ff0000; stroke: #ff0000; stroke-width: 1.5\"/>\n     <use xlink:href=\"#m6c2cae8d53\" x=\"214.986832\" y=\"170.506017\" style=\"fill: #ff0000; stroke: #ff0000; stroke-width: 1.5\"/>\n     <use xlink:href=\"#m6c2cae8d53\" x=\"64.585479\" y=\"246.596515\" style=\"fill: #ff0000; stroke: #ff0000; stroke-width: 1.5\"/>\n    </g>\n   </g>\n   <g id=\"matplotlib.axis_1\">\n    <g id=\"xtick_1\">\n     <g id=\"line2d_1\">\n      <defs>\n       <path id=\"m1334d56ab9\" d=\"M 0 0 \nL 0 3.5 \n\" style=\"stroke: #ffffff; stroke-width: 0.8\"/>\n      </defs>\n      <g>\n       <use xlink:href=\"#m1334d56ab9\" x=\"56.327401\" y=\"288.430125\" style=\"fill: #ffffff; stroke: #ffffff; stroke-width: 0.8\"/>\n      </g>\n     </g>\n     <g id=\"text_1\">\n      <!-- 5.0 -->\n      <g style=\"fill: #ffffff\" transform=\"translate(48.375839 303.028562) scale(0.1 -0.1)\">\n       <defs>\n        <path id=\"DejaVuSans-35\" d=\"M 691 4666 \nL 3169 4666 \nL 3169 4134 \nL 1269 4134 \nL 1269 2991 \nQ 1406 3038 1543 3061 \nQ 1681 3084 1819 3084 \nQ 2600 3084 3056 2656 \nQ 3513 2228 3513 1497 \nQ 3513 744 3044 326 \nQ 2575 -91 1722 -91 \nQ 1428 -91 1123 -41 \nQ 819 9 494 109 \nL 494 744 \nQ 775 591 1075 516 \nQ 1375 441 1709 441 \nQ 2250 441 2565 725 \nQ 2881 1009 2881 1497 \nQ 2881 1984 2565 2268 \nQ 2250 2553 1709 2553 \nQ 1456 2553 1204 2497 \nQ 953 2441 691 2322 \nL 691 4666 \nz\n\" transform=\"scale(0.015625)\"/>\n        <path id=\"DejaVuSans-2e\" d=\"M 684 794 \nL 1344 794 \nL 1344 0 \nL 684 0 \nL 684 794 \nz\n\" transform=\"scale(0.015625)\"/>\n        <path id=\"DejaVuSans-30\" d=\"M 2034 4250 \nQ 1547 4250 1301 3770 \nQ 1056 3291 1056 2328 \nQ 1056 1369 1301 889 \nQ 1547 409 2034 409 \nQ 2525 409 2770 889 \nQ 3016 1369 3016 2328 \nQ 3016 3291 2770 3770 \nQ 2525 4250 2034 4250 \nz\nM 2034 4750 \nQ 2819 4750 3233 4129 \nQ 3647 3509 3647 2328 \nQ 3647 1150 3233 529 \nQ 2819 -91 2034 -91 \nQ 1250 -91 836 529 \nQ 422 1150 422 2328 \nQ 422 3509 836 4129 \nQ 1250 4750 2034 4750 \nz\n\" transform=\"scale(0.015625)\"/>\n       </defs>\n       <use xlink:href=\"#DejaVuSans-35\"/>\n       <use xlink:href=\"#DejaVuSans-2e\" x=\"63.623047\"/>\n       <use xlink:href=\"#DejaVuSans-30\" x=\"95.410156\"/>\n      </g>\n     </g>\n    </g>\n    <g id=\"xtick_2\">\n     <g id=\"line2d_2\">\n      <g>\n       <use xlink:href=\"#m1334d56ab9\" x=\"103.581223\" y=\"288.430125\" style=\"fill: #ffffff; stroke: #ffffff; stroke-width: 0.8\"/>\n      </g>\n     </g>\n     <g id=\"text_2\">\n      <!-- 7.5 -->\n      <g style=\"fill: #ffffff\" transform=\"translate(95.62966 303.028562) scale(0.1 -0.1)\">\n       <defs>\n        <path id=\"DejaVuSans-37\" d=\"M 525 4666 \nL 3525 4666 \nL 3525 4397 \nL 1831 0 \nL 1172 0 \nL 2766 4134 \nL 525 4134 \nL 525 4666 \nz\n\" transform=\"scale(0.015625)\"/>\n       </defs>\n       <use xlink:href=\"#DejaVuSans-37\"/>\n       <use xlink:href=\"#DejaVuSans-2e\" x=\"63.623047\"/>\n       <use xlink:href=\"#DejaVuSans-35\" x=\"95.410156\"/>\n      </g>\n     </g>\n    </g>\n    <g id=\"xtick_3\">\n     <g id=\"line2d_3\">\n      <g>\n       <use xlink:href=\"#m1334d56ab9\" x=\"150.835044\" y=\"288.430125\" style=\"fill: #ffffff; stroke: #ffffff; stroke-width: 0.8\"/>\n      </g>\n     </g>\n     <g id=\"text_3\">\n      <!-- 10.0 -->\n      <g style=\"fill: #ffffff\" transform=\"translate(139.702232 303.028562) scale(0.1 -0.1)\">\n       <defs>\n        <path id=\"DejaVuSans-31\" d=\"M 794 531 \nL 1825 531 \nL 1825 4091 \nL 703 3866 \nL 703 4441 \nL 1819 4666 \nL 2450 4666 \nL 2450 531 \nL 3481 531 \nL 3481 0 \nL 794 0 \nL 794 531 \nz\n\" transform=\"scale(0.015625)\"/>\n       </defs>\n       <use xlink:href=\"#DejaVuSans-31\"/>\n       <use xlink:href=\"#DejaVuSans-30\" x=\"63.623047\"/>\n       <use xlink:href=\"#DejaVuSans-2e\" x=\"127.246094\"/>\n       <use xlink:href=\"#DejaVuSans-30\" x=\"159.033203\"/>\n      </g>\n     </g>\n    </g>\n    <g id=\"xtick_4\">\n     <g id=\"line2d_4\">\n      <g>\n       <use xlink:href=\"#m1334d56ab9\" x=\"198.088866\" y=\"288.430125\" style=\"fill: #ffffff; stroke: #ffffff; stroke-width: 0.8\"/>\n      </g>\n     </g>\n     <g id=\"text_4\">\n      <!-- 12.5 -->\n      <g style=\"fill: #ffffff\" transform=\"translate(186.956053 303.028562) scale(0.1 -0.1)\">\n       <defs>\n        <path id=\"DejaVuSans-32\" d=\"M 1228 531 \nL 3431 531 \nL 3431 0 \nL 469 0 \nL 469 531 \nQ 828 903 1448 1529 \nQ 2069 2156 2228 2338 \nQ 2531 2678 2651 2914 \nQ 2772 3150 2772 3378 \nQ 2772 3750 2511 3984 \nQ 2250 4219 1831 4219 \nQ 1534 4219 1204 4116 \nQ 875 4013 500 3803 \nL 500 4441 \nQ 881 4594 1212 4672 \nQ 1544 4750 1819 4750 \nQ 2544 4750 2975 4387 \nQ 3406 4025 3406 3419 \nQ 3406 3131 3298 2873 \nQ 3191 2616 2906 2266 \nQ 2828 2175 2409 1742 \nQ 1991 1309 1228 531 \nz\n\" transform=\"scale(0.015625)\"/>\n       </defs>\n       <use xlink:href=\"#DejaVuSans-31\"/>\n       <use xlink:href=\"#DejaVuSans-32\" x=\"63.623047\"/>\n       <use xlink:href=\"#DejaVuSans-2e\" x=\"127.246094\"/>\n       <use xlink:href=\"#DejaVuSans-35\" x=\"159.033203\"/>\n      </g>\n     </g>\n    </g>\n    <g id=\"xtick_5\">\n     <g id=\"line2d_5\">\n      <g>\n       <use xlink:href=\"#m1334d56ab9\" x=\"245.342687\" y=\"288.430125\" style=\"fill: #ffffff; stroke: #ffffff; stroke-width: 0.8\"/>\n      </g>\n     </g>\n     <g id=\"text_5\">\n      <!-- 15.0 -->\n      <g style=\"fill: #ffffff\" transform=\"translate(234.209875 303.028562) scale(0.1 -0.1)\">\n       <use xlink:href=\"#DejaVuSans-31\"/>\n       <use xlink:href=\"#DejaVuSans-35\" x=\"63.623047\"/>\n       <use xlink:href=\"#DejaVuSans-2e\" x=\"127.246094\"/>\n       <use xlink:href=\"#DejaVuSans-30\" x=\"159.033203\"/>\n      </g>\n     </g>\n    </g>\n    <g id=\"xtick_6\">\n     <g id=\"line2d_6\">\n      <g>\n       <use xlink:href=\"#m1334d56ab9\" x=\"292.596509\" y=\"288.430125\" style=\"fill: #ffffff; stroke: #ffffff; stroke-width: 0.8\"/>\n      </g>\n     </g>\n     <g id=\"text_6\">\n      <!-- 17.5 -->\n      <g style=\"fill: #ffffff\" transform=\"translate(281.463696 303.028562) scale(0.1 -0.1)\">\n       <use xlink:href=\"#DejaVuSans-31\"/>\n       <use xlink:href=\"#DejaVuSans-37\" x=\"63.623047\"/>\n       <use xlink:href=\"#DejaVuSans-2e\" x=\"127.246094\"/>\n       <use xlink:href=\"#DejaVuSans-35\" x=\"159.033203\"/>\n      </g>\n     </g>\n    </g>\n    <g id=\"xtick_7\">\n     <g id=\"line2d_7\">\n      <g>\n       <use xlink:href=\"#m1334d56ab9\" x=\"339.85033\" y=\"288.430125\" style=\"fill: #ffffff; stroke: #ffffff; stroke-width: 0.8\"/>\n      </g>\n     </g>\n     <g id=\"text_7\">\n      <!-- 20.0 -->\n      <g style=\"fill: #ffffff\" transform=\"translate(328.717518 303.028562) scale(0.1 -0.1)\">\n       <use xlink:href=\"#DejaVuSans-32\"/>\n       <use xlink:href=\"#DejaVuSans-30\" x=\"63.623047\"/>\n       <use xlink:href=\"#DejaVuSans-2e\" x=\"127.246094\"/>\n       <use xlink:href=\"#DejaVuSans-30\" x=\"159.033203\"/>\n      </g>\n     </g>\n    </g>\n    <g id=\"xtick_8\">\n     <g id=\"line2d_8\">\n      <g>\n       <use xlink:href=\"#m1334d56ab9\" x=\"387.104152\" y=\"288.430125\" style=\"fill: #ffffff; stroke: #ffffff; stroke-width: 0.8\"/>\n      </g>\n     </g>\n     <g id=\"text_8\">\n      <!-- 22.5 -->\n      <g style=\"fill: #ffffff\" transform=\"translate(375.971339 303.028562) scale(0.1 -0.1)\">\n       <use xlink:href=\"#DejaVuSans-32\"/>\n       <use xlink:href=\"#DejaVuSans-32\" x=\"63.623047\"/>\n       <use xlink:href=\"#DejaVuSans-2e\" x=\"127.246094\"/>\n       <use xlink:href=\"#DejaVuSans-35\" x=\"159.033203\"/>\n      </g>\n     </g>\n    </g>\n    <g id=\"text_9\">\n     <!-- Population of City in 10,000s -->\n     <g style=\"fill: #ffffff\" transform=\"translate(147.263125 316.706687) scale(0.1 -0.1)\">\n      <defs>\n       <path id=\"DejaVuSans-50\" d=\"M 1259 4147 \nL 1259 2394 \nL 2053 2394 \nQ 2494 2394 2734 2622 \nQ 2975 2850 2975 3272 \nQ 2975 3691 2734 3919 \nQ 2494 4147 2053 4147 \nL 1259 4147 \nz\nM 628 4666 \nL 2053 4666 \nQ 2838 4666 3239 4311 \nQ 3641 3956 3641 3272 \nQ 3641 2581 3239 2228 \nQ 2838 1875 2053 1875 \nL 1259 1875 \nL 1259 0 \nL 628 0 \nL 628 4666 \nz\n\" transform=\"scale(0.015625)\"/>\n       <path id=\"DejaVuSans-6f\" d=\"M 1959 3097 \nQ 1497 3097 1228 2736 \nQ 959 2375 959 1747 \nQ 959 1119 1226 758 \nQ 1494 397 1959 397 \nQ 2419 397 2687 759 \nQ 2956 1122 2956 1747 \nQ 2956 2369 2687 2733 \nQ 2419 3097 1959 3097 \nz\nM 1959 3584 \nQ 2709 3584 3137 3096 \nQ 3566 2609 3566 1747 \nQ 3566 888 3137 398 \nQ 2709 -91 1959 -91 \nQ 1206 -91 779 398 \nQ 353 888 353 1747 \nQ 353 2609 779 3096 \nQ 1206 3584 1959 3584 \nz\n\" transform=\"scale(0.015625)\"/>\n       <path id=\"DejaVuSans-70\" d=\"M 1159 525 \nL 1159 -1331 \nL 581 -1331 \nL 581 3500 \nL 1159 3500 \nL 1159 2969 \nQ 1341 3281 1617 3432 \nQ 1894 3584 2278 3584 \nQ 2916 3584 3314 3078 \nQ 3713 2572 3713 1747 \nQ 3713 922 3314 415 \nQ 2916 -91 2278 -91 \nQ 1894 -91 1617 61 \nQ 1341 213 1159 525 \nz\nM 3116 1747 \nQ 3116 2381 2855 2742 \nQ 2594 3103 2138 3103 \nQ 1681 3103 1420 2742 \nQ 1159 2381 1159 1747 \nQ 1159 1113 1420 752 \nQ 1681 391 2138 391 \nQ 2594 391 2855 752 \nQ 3116 1113 3116 1747 \nz\n\" transform=\"scale(0.015625)\"/>\n       <path id=\"DejaVuSans-75\" d=\"M 544 1381 \nL 544 3500 \nL 1119 3500 \nL 1119 1403 \nQ 1119 906 1312 657 \nQ 1506 409 1894 409 \nQ 2359 409 2629 706 \nQ 2900 1003 2900 1516 \nL 2900 3500 \nL 3475 3500 \nL 3475 0 \nL 2900 0 \nL 2900 538 \nQ 2691 219 2414 64 \nQ 2138 -91 1772 -91 \nQ 1169 -91 856 284 \nQ 544 659 544 1381 \nz\nM 1991 3584 \nL 1991 3584 \nz\n\" transform=\"scale(0.015625)\"/>\n       <path id=\"DejaVuSans-6c\" d=\"M 603 4863 \nL 1178 4863 \nL 1178 0 \nL 603 0 \nL 603 4863 \nz\n\" transform=\"scale(0.015625)\"/>\n       <path id=\"DejaVuSans-61\" d=\"M 2194 1759 \nQ 1497 1759 1228 1600 \nQ 959 1441 959 1056 \nQ 959 750 1161 570 \nQ 1363 391 1709 391 \nQ 2188 391 2477 730 \nQ 2766 1069 2766 1631 \nL 2766 1759 \nL 2194 1759 \nz\nM 3341 1997 \nL 3341 0 \nL 2766 0 \nL 2766 531 \nQ 2569 213 2275 61 \nQ 1981 -91 1556 -91 \nQ 1019 -91 701 211 \nQ 384 513 384 1019 \nQ 384 1609 779 1909 \nQ 1175 2209 1959 2209 \nL 2766 2209 \nL 2766 2266 \nQ 2766 2663 2505 2880 \nQ 2244 3097 1772 3097 \nQ 1472 3097 1187 3025 \nQ 903 2953 641 2809 \nL 641 3341 \nQ 956 3463 1253 3523 \nQ 1550 3584 1831 3584 \nQ 2591 3584 2966 3190 \nQ 3341 2797 3341 1997 \nz\n\" transform=\"scale(0.015625)\"/>\n       <path id=\"DejaVuSans-74\" d=\"M 1172 4494 \nL 1172 3500 \nL 2356 3500 \nL 2356 3053 \nL 1172 3053 \nL 1172 1153 \nQ 1172 725 1289 603 \nQ 1406 481 1766 481 \nL 2356 481 \nL 2356 0 \nL 1766 0 \nQ 1100 0 847 248 \nQ 594 497 594 1153 \nL 594 3053 \nL 172 3053 \nL 172 3500 \nL 594 3500 \nL 594 4494 \nL 1172 4494 \nz\n\" transform=\"scale(0.015625)\"/>\n       <path id=\"DejaVuSans-69\" d=\"M 603 3500 \nL 1178 3500 \nL 1178 0 \nL 603 0 \nL 603 3500 \nz\nM 603 4863 \nL 1178 4863 \nL 1178 4134 \nL 603 4134 \nL 603 4863 \nz\n\" transform=\"scale(0.015625)\"/>\n       <path id=\"DejaVuSans-6e\" d=\"M 3513 2113 \nL 3513 0 \nL 2938 0 \nL 2938 2094 \nQ 2938 2591 2744 2837 \nQ 2550 3084 2163 3084 \nQ 1697 3084 1428 2787 \nQ 1159 2491 1159 1978 \nL 1159 0 \nL 581 0 \nL 581 3500 \nL 1159 3500 \nL 1159 2956 \nQ 1366 3272 1645 3428 \nQ 1925 3584 2291 3584 \nQ 2894 3584 3203 3211 \nQ 3513 2838 3513 2113 \nz\n\" transform=\"scale(0.015625)\"/>\n       <path id=\"DejaVuSans-20\" transform=\"scale(0.015625)\"/>\n       <path id=\"DejaVuSans-66\" d=\"M 2375 4863 \nL 2375 4384 \nL 1825 4384 \nQ 1516 4384 1395 4259 \nQ 1275 4134 1275 3809 \nL 1275 3500 \nL 2222 3500 \nL 2222 3053 \nL 1275 3053 \nL 1275 0 \nL 697 0 \nL 697 3053 \nL 147 3053 \nL 147 3500 \nL 697 3500 \nL 697 3744 \nQ 697 4328 969 4595 \nQ 1241 4863 1831 4863 \nL 2375 4863 \nz\n\" transform=\"scale(0.015625)\"/>\n       <path id=\"DejaVuSans-43\" d=\"M 4122 4306 \nL 4122 3641 \nQ 3803 3938 3442 4084 \nQ 3081 4231 2675 4231 \nQ 1875 4231 1450 3742 \nQ 1025 3253 1025 2328 \nQ 1025 1406 1450 917 \nQ 1875 428 2675 428 \nQ 3081 428 3442 575 \nQ 3803 722 4122 1019 \nL 4122 359 \nQ 3791 134 3420 21 \nQ 3050 -91 2638 -91 \nQ 1578 -91 968 557 \nQ 359 1206 359 2328 \nQ 359 3453 968 4101 \nQ 1578 4750 2638 4750 \nQ 3056 4750 3426 4639 \nQ 3797 4528 4122 4306 \nz\n\" transform=\"scale(0.015625)\"/>\n       <path id=\"DejaVuSans-79\" d=\"M 2059 -325 \nQ 1816 -950 1584 -1140 \nQ 1353 -1331 966 -1331 \nL 506 -1331 \nL 506 -850 \nL 844 -850 \nQ 1081 -850 1212 -737 \nQ 1344 -625 1503 -206 \nL 1606 56 \nL 191 3500 \nL 800 3500 \nL 1894 763 \nL 2988 3500 \nL 3597 3500 \nL 2059 -325 \nz\n\" transform=\"scale(0.015625)\"/>\n       <path id=\"DejaVuSans-2c\" d=\"M 750 794 \nL 1409 794 \nL 1409 256 \nL 897 -744 \nL 494 -744 \nL 750 256 \nL 750 794 \nz\n\" transform=\"scale(0.015625)\"/>\n       <path id=\"DejaVuSans-73\" d=\"M 2834 3397 \nL 2834 2853 \nQ 2591 2978 2328 3040 \nQ 2066 3103 1784 3103 \nQ 1356 3103 1142 2972 \nQ 928 2841 928 2578 \nQ 928 2378 1081 2264 \nQ 1234 2150 1697 2047 \nL 1894 2003 \nQ 2506 1872 2764 1633 \nQ 3022 1394 3022 966 \nQ 3022 478 2636 193 \nQ 2250 -91 1575 -91 \nQ 1294 -91 989 -36 \nQ 684 19 347 128 \nL 347 722 \nQ 666 556 975 473 \nQ 1284 391 1588 391 \nQ 1994 391 2212 530 \nQ 2431 669 2431 922 \nQ 2431 1156 2273 1281 \nQ 2116 1406 1581 1522 \nL 1381 1569 \nQ 847 1681 609 1914 \nQ 372 2147 372 2553 \nQ 372 3047 722 3315 \nQ 1072 3584 1716 3584 \nQ 2034 3584 2315 3537 \nQ 2597 3491 2834 3397 \nz\n\" transform=\"scale(0.015625)\"/>\n      </defs>\n      <use xlink:href=\"#DejaVuSans-50\"/>\n      <use xlink:href=\"#DejaVuSans-6f\" x=\"56.677734\"/>\n      <use xlink:href=\"#DejaVuSans-70\" x=\"117.859375\"/>\n      <use xlink:href=\"#DejaVuSans-75\" x=\"181.335938\"/>\n      <use xlink:href=\"#DejaVuSans-6c\" x=\"244.714844\"/>\n      <use xlink:href=\"#DejaVuSans-61\" x=\"272.498047\"/>\n      <use xlink:href=\"#DejaVuSans-74\" x=\"333.777344\"/>\n      <use xlink:href=\"#DejaVuSans-69\" x=\"372.986328\"/>\n      <use xlink:href=\"#DejaVuSans-6f\" x=\"400.769531\"/>\n      <use xlink:href=\"#DejaVuSans-6e\" x=\"461.951172\"/>\n      <use xlink:href=\"#DejaVuSans-20\" x=\"525.330078\"/>\n      <use xlink:href=\"#DejaVuSans-6f\" x=\"557.117188\"/>\n      <use xlink:href=\"#DejaVuSans-66\" x=\"618.298828\"/>\n      <use xlink:href=\"#DejaVuSans-20\" x=\"653.503906\"/>\n      <use xlink:href=\"#DejaVuSans-43\" x=\"685.291016\"/>\n      <use xlink:href=\"#DejaVuSans-69\" x=\"755.115234\"/>\n      <use xlink:href=\"#DejaVuSans-74\" x=\"782.898438\"/>\n      <use xlink:href=\"#DejaVuSans-79\" x=\"822.107422\"/>\n      <use xlink:href=\"#DejaVuSans-20\" x=\"881.287109\"/>\n      <use xlink:href=\"#DejaVuSans-69\" x=\"913.074219\"/>\n      <use xlink:href=\"#DejaVuSans-6e\" x=\"940.857422\"/>\n      <use xlink:href=\"#DejaVuSans-20\" x=\"1004.236328\"/>\n      <use xlink:href=\"#DejaVuSans-31\" x=\"1036.023438\"/>\n      <use xlink:href=\"#DejaVuSans-30\" x=\"1099.646484\"/>\n      <use xlink:href=\"#DejaVuSans-2c\" x=\"1163.269531\"/>\n      <use xlink:href=\"#DejaVuSans-30\" x=\"1195.056641\"/>\n      <use xlink:href=\"#DejaVuSans-30\" x=\"1258.679688\"/>\n      <use xlink:href=\"#DejaVuSans-30\" x=\"1322.302734\"/>\n      <use xlink:href=\"#DejaVuSans-73\" x=\"1385.925781\"/>\n     </g>\n    </g>\n   </g>\n   <g id=\"matplotlib.axis_2\">\n    <g id=\"ytick_1\">\n     <g id=\"line2d_9\">\n      <defs>\n       <path id=\"me116b555c8\" d=\"M 0 0 \nL -3.5 0 \n\" style=\"stroke: #ffffff; stroke-width: 0.8\"/>\n      </defs>\n      <g>\n       <use xlink:href=\"#me116b555c8\" x=\"40.603125\" y=\"252.160791\" style=\"fill: #ffffff; stroke: #ffffff; stroke-width: 0.8\"/>\n      </g>\n     </g>\n     <g id=\"text_10\">\n      <!-- 0 -->\n      <g style=\"fill: #ffffff\" transform=\"translate(27.240625 255.96001) scale(0.1 -0.1)\">\n       <use xlink:href=\"#DejaVuSans-30\"/>\n      </g>\n     </g>\n    </g>\n    <g id=\"ytick_2\">\n     <g id=\"line2d_10\">\n      <g>\n       <use xlink:href=\"#me116b555c8\" x=\"40.603125\" y=\"207.073065\" style=\"fill: #ffffff; stroke: #ffffff; stroke-width: 0.8\"/>\n      </g>\n     </g>\n     <g id=\"text_11\">\n      <!-- 5 -->\n      <g style=\"fill: #ffffff\" transform=\"translate(27.240625 210.872284) scale(0.1 -0.1)\">\n       <use xlink:href=\"#DejaVuSans-35\"/>\n      </g>\n     </g>\n    </g>\n    <g id=\"ytick_3\">\n     <g id=\"line2d_11\">\n      <g>\n       <use xlink:href=\"#me116b555c8\" x=\"40.603125\" y=\"161.985338\" style=\"fill: #ffffff; stroke: #ffffff; stroke-width: 0.8\"/>\n      </g>\n     </g>\n     <g id=\"text_12\">\n      <!-- 10 -->\n      <g style=\"fill: #ffffff\" transform=\"translate(20.878125 165.784557) scale(0.1 -0.1)\">\n       <use xlink:href=\"#DejaVuSans-31\"/>\n       <use xlink:href=\"#DejaVuSans-30\" x=\"63.623047\"/>\n      </g>\n     </g>\n    </g>\n    <g id=\"ytick_4\">\n     <g id=\"line2d_12\">\n      <g>\n       <use xlink:href=\"#me116b555c8\" x=\"40.603125\" y=\"116.897612\" style=\"fill: #ffffff; stroke: #ffffff; stroke-width: 0.8\"/>\n      </g>\n     </g>\n     <g id=\"text_13\">\n      <!-- 15 -->\n      <g style=\"fill: #ffffff\" transform=\"translate(20.878125 120.696831) scale(0.1 -0.1)\">\n       <use xlink:href=\"#DejaVuSans-31\"/>\n       <use xlink:href=\"#DejaVuSans-35\" x=\"63.623047\"/>\n      </g>\n     </g>\n    </g>\n    <g id=\"ytick_5\">\n     <g id=\"line2d_13\">\n      <g>\n       <use xlink:href=\"#me116b555c8\" x=\"40.603125\" y=\"71.809885\" style=\"fill: #ffffff; stroke: #ffffff; stroke-width: 0.8\"/>\n      </g>\n     </g>\n     <g id=\"text_14\">\n      <!-- 20 -->\n      <g style=\"fill: #ffffff\" transform=\"translate(20.878125 75.609104) scale(0.1 -0.1)\">\n       <use xlink:href=\"#DejaVuSans-32\"/>\n       <use xlink:href=\"#DejaVuSans-30\" x=\"63.623047\"/>\n      </g>\n     </g>\n    </g>\n    <g id=\"ytick_6\">\n     <g id=\"line2d_14\">\n      <g>\n       <use xlink:href=\"#me116b555c8\" x=\"40.603125\" y=\"26.722159\" style=\"fill: #ffffff; stroke: #ffffff; stroke-width: 0.8\"/>\n      </g>\n     </g>\n     <g id=\"text_15\">\n      <!-- 25 -->\n      <g style=\"fill: #ffffff\" transform=\"translate(20.878125 30.521378) scale(0.1 -0.1)\">\n       <use xlink:href=\"#DejaVuSans-32\"/>\n       <use xlink:href=\"#DejaVuSans-35\" x=\"63.623047\"/>\n      </g>\n     </g>\n    </g>\n    <g id=\"text_16\">\n     <!-- Profit in $10,000 -->\n     <g style=\"fill: #ffffff\" transform=\"translate(14.798438 196.825687) rotate(-90) scale(0.1 -0.1)\">\n      <defs>\n       <path id=\"DejaVuSans-72\" d=\"M 2631 2963 \nQ 2534 3019 2420 3045 \nQ 2306 3072 2169 3072 \nQ 1681 3072 1420 2755 \nQ 1159 2438 1159 1844 \nL 1159 0 \nL 581 0 \nL 581 3500 \nL 1159 3500 \nL 1159 2956 \nQ 1341 3275 1631 3429 \nQ 1922 3584 2338 3584 \nQ 2397 3584 2469 3576 \nQ 2541 3569 2628 3553 \nL 2631 2963 \nz\n\" transform=\"scale(0.015625)\"/>\n       <path id=\"DejaVuSans-24\" d=\"M 2163 -941 \nL 1850 -941 \nL 1847 0 \nQ 1519 6 1191 76 \nQ 863 147 531 288 \nL 531 850 \nQ 850 650 1176 548 \nQ 1503 447 1850 444 \nL 1850 1869 \nQ 1159 1981 845 2250 \nQ 531 2519 531 2988 \nQ 531 3497 872 3790 \nQ 1213 4084 1850 4128 \nL 1850 4863 \nL 2163 4863 \nL 2163 4138 \nQ 2453 4125 2725 4076 \nQ 2997 4028 3256 3944 \nL 3256 3397 \nQ 2997 3528 2723 3600 \nQ 2450 3672 2163 3684 \nL 2163 2350 \nQ 2872 2241 3206 1959 \nQ 3541 1678 3541 1191 \nQ 3541 663 3186 358 \nQ 2831 53 2163 6 \nL 2163 -941 \nz\nM 1850 2406 \nL 1850 3688 \nQ 1488 3647 1297 3481 \nQ 1106 3316 1106 3041 \nQ 1106 2772 1282 2622 \nQ 1459 2472 1850 2406 \nz\nM 2163 1806 \nL 2163 453 \nQ 2559 506 2761 678 \nQ 2963 850 2963 1131 \nQ 2963 1406 2770 1568 \nQ 2578 1731 2163 1806 \nz\n\" transform=\"scale(0.015625)\"/>\n      </defs>\n      <use xlink:href=\"#DejaVuSans-50\"/>\n      <use xlink:href=\"#DejaVuSans-72\" x=\"58.552734\"/>\n      <use xlink:href=\"#DejaVuSans-6f\" x=\"97.416016\"/>\n      <use xlink:href=\"#DejaVuSans-66\" x=\"158.597656\"/>\n      <use xlink:href=\"#DejaVuSans-69\" x=\"193.802734\"/>\n      <use xlink:href=\"#DejaVuSans-74\" x=\"221.585938\"/>\n      <use xlink:href=\"#DejaVuSans-20\" x=\"260.794922\"/>\n      <use xlink:href=\"#DejaVuSans-69\" x=\"292.582031\"/>\n      <use xlink:href=\"#DejaVuSans-6e\" x=\"320.365234\"/>\n      <use xlink:href=\"#DejaVuSans-20\" x=\"383.744141\"/>\n      <use xlink:href=\"#DejaVuSans-24\" x=\"415.53125\"/>\n      <use xlink:href=\"#DejaVuSans-31\" x=\"479.154297\"/>\n      <use xlink:href=\"#DejaVuSans-30\" x=\"542.777344\"/>\n      <use xlink:href=\"#DejaVuSans-2c\" x=\"606.400391\"/>\n      <use xlink:href=\"#DejaVuSans-30\" x=\"638.1875\"/>\n      <use xlink:href=\"#DejaVuSans-30\" x=\"701.810547\"/>\n      <use xlink:href=\"#DejaVuSans-30\" x=\"765.433594\"/>\n     </g>\n    </g>\n   </g>\n   <g id=\"patch_3\">\n    <path d=\"M 40.603125 288.430125 \nL 40.603125 22.318125 \n\" style=\"fill: none; stroke: #ffffff; stroke-width: 0.8; stroke-linejoin: miter; stroke-linecap: square\"/>\n   </g>\n   <g id=\"patch_4\">\n    <path d=\"M 397.723125 288.430125 \nL 397.723125 22.318125 \n\" style=\"fill: none; stroke: #ffffff; stroke-width: 0.8; stroke-linejoin: miter; stroke-linecap: square\"/>\n   </g>\n   <g id=\"patch_5\">\n    <path d=\"M 40.603125 288.430125 \nL 397.723125 288.430125 \n\" style=\"fill: none; stroke: #ffffff; stroke-width: 0.8; stroke-linejoin: miter; stroke-linecap: square\"/>\n   </g>\n   <g id=\"patch_6\">\n    <path d=\"M 40.603125 22.318125 \nL 397.723125 22.318125 \n\" style=\"fill: none; stroke: #ffffff; stroke-width: 0.8; stroke-linejoin: miter; stroke-linecap: square\"/>\n   </g>\n   <g id=\"text_17\">\n    <!-- Profits vs. Population per city -->\n    <g style=\"fill: #ffffff\" transform=\"translate(131.822812 16.318125) scale(0.12 -0.12)\">\n     <defs>\n      <path id=\"DejaVuSans-76\" d=\"M 191 3500 \nL 800 3500 \nL 1894 563 \nL 2988 3500 \nL 3597 3500 \nL 2284 0 \nL 1503 0 \nL 191 3500 \nz\n\" transform=\"scale(0.015625)\"/>\n      <path id=\"DejaVuSans-65\" d=\"M 3597 1894 \nL 3597 1613 \nL 953 1613 \nQ 991 1019 1311 708 \nQ 1631 397 2203 397 \nQ 2534 397 2845 478 \nQ 3156 559 3463 722 \nL 3463 178 \nQ 3153 47 2828 -22 \nQ 2503 -91 2169 -91 \nQ 1331 -91 842 396 \nQ 353 884 353 1716 \nQ 353 2575 817 3079 \nQ 1281 3584 2069 3584 \nQ 2775 3584 3186 3129 \nQ 3597 2675 3597 1894 \nz\nM 3022 2063 \nQ 3016 2534 2758 2815 \nQ 2500 3097 2075 3097 \nQ 1594 3097 1305 2825 \nQ 1016 2553 972 2059 \nL 3022 2063 \nz\n\" transform=\"scale(0.015625)\"/>\n      <path id=\"DejaVuSans-63\" d=\"M 3122 3366 \nL 3122 2828 \nQ 2878 2963 2633 3030 \nQ 2388 3097 2138 3097 \nQ 1578 3097 1268 2742 \nQ 959 2388 959 1747 \nQ 959 1106 1268 751 \nQ 1578 397 2138 397 \nQ 2388 397 2633 464 \nQ 2878 531 3122 666 \nL 3122 134 \nQ 2881 22 2623 -34 \nQ 2366 -91 2075 -91 \nQ 1284 -91 818 406 \nQ 353 903 353 1747 \nQ 353 2603 823 3093 \nQ 1294 3584 2113 3584 \nQ 2378 3584 2631 3529 \nQ 2884 3475 3122 3366 \nz\n\" transform=\"scale(0.015625)\"/>\n     </defs>\n     <use xlink:href=\"#DejaVuSans-50\"/>\n     <use xlink:href=\"#DejaVuSans-72\" x=\"58.552734\"/>\n     <use xlink:href=\"#DejaVuSans-6f\" x=\"97.416016\"/>\n     <use xlink:href=\"#DejaVuSans-66\" x=\"158.597656\"/>\n     <use xlink:href=\"#DejaVuSans-69\" x=\"193.802734\"/>\n     <use xlink:href=\"#DejaVuSans-74\" x=\"221.585938\"/>\n     <use xlink:href=\"#DejaVuSans-73\" x=\"260.794922\"/>\n     <use xlink:href=\"#DejaVuSans-20\" x=\"312.894531\"/>\n     <use xlink:href=\"#DejaVuSans-76\" x=\"344.681641\"/>\n     <use xlink:href=\"#DejaVuSans-73\" x=\"403.861328\"/>\n     <use xlink:href=\"#DejaVuSans-2e\" x=\"455.960938\"/>\n     <use xlink:href=\"#DejaVuSans-20\" x=\"487.748047\"/>\n     <use xlink:href=\"#DejaVuSans-50\" x=\"519.535156\"/>\n     <use xlink:href=\"#DejaVuSans-6f\" x=\"576.212891\"/>\n     <use xlink:href=\"#DejaVuSans-70\" x=\"637.394531\"/>\n     <use xlink:href=\"#DejaVuSans-75\" x=\"700.871094\"/>\n     <use xlink:href=\"#DejaVuSans-6c\" x=\"764.25\"/>\n     <use xlink:href=\"#DejaVuSans-61\" x=\"792.033203\"/>\n     <use xlink:href=\"#DejaVuSans-74\" x=\"853.3125\"/>\n     <use xlink:href=\"#DejaVuSans-69\" x=\"892.521484\"/>\n     <use xlink:href=\"#DejaVuSans-6f\" x=\"920.304688\"/>\n     <use xlink:href=\"#DejaVuSans-6e\" x=\"981.486328\"/>\n     <use xlink:href=\"#DejaVuSans-20\" x=\"1044.865234\"/>\n     <use xlink:href=\"#DejaVuSans-70\" x=\"1076.652344\"/>\n     <use xlink:href=\"#DejaVuSans-65\" x=\"1140.128906\"/>\n     <use xlink:href=\"#DejaVuSans-72\" x=\"1201.652344\"/>\n     <use xlink:href=\"#DejaVuSans-20\" x=\"1242.765625\"/>\n     <use xlink:href=\"#DejaVuSans-63\" x=\"1274.552734\"/>\n     <use xlink:href=\"#DejaVuSans-69\" x=\"1329.533203\"/>\n     <use xlink:href=\"#DejaVuSans-74\" x=\"1357.316406\"/>\n     <use xlink:href=\"#DejaVuSans-79\" x=\"1396.525391\"/>\n    </g>\n   </g>\n  </g>\n </g>\n <defs>\n  <clipPath id=\"p99e485367b\">\n   <rect x=\"40.603125\" y=\"22.318125\" width=\"357.12\" height=\"266.112\"/>\n  </clipPath>\n </defs>\n</svg>\n",
      "text/plain": [
       "<Figure size 640x480 with 1 Axes>"
      ]
     },
     "metadata": {},
     "output_type": "display_data"
    }
   ],
   "source": [
    "# Create a scatter plot of the data. To change the markers to red \"x\",\n",
    "# we used the 'marker' and 'c' parameters\n",
    "plt.scatter(x_train, y_train, marker='x', c='r') \n",
    "\n",
    "# Set the title\n",
    "plt.title(\"Profits vs. Population per city\")\n",
    "# Set the y-axis label\n",
    "plt.ylabel('Profit in $10,000')\n",
    "# Set the x-axis label\n",
    "plt.xlabel('Population of City in 10,000s')\n",
    "plt.show()"
   ]
  },
  {
   "cell_type": "markdown",
   "metadata": {},
   "source": [
    "Your goal is to build a linear regression model to fit this data.\n",
    "- With this model, you can then input a new city's population, and have the model estimate your restaurant's potential monthly profits for that city."
   ]
  },
  {
   "cell_type": "markdown",
   "metadata": {},
   "source": [
    "<a name=\"4\"></a>\n",
    "## 4 - Refresher on linear regression\n",
    "\n",
    "In this practice lab, you will fit the linear regression parameters $(w,b)$ to your dataset.\n",
    "- The model function for linear regression, which is a function that maps from `x` (city population) to `y` (your restaurant's monthly profit for that city) is represented as \n",
    "    $$f_{w,b}(x) = wx + b$$\n",
    "    \n",
    "\n",
    "- To train a linear regression model, you want to find the best $(w,b)$ parameters that fit your dataset.  \n",
    "\n",
    "    - To compare how one choice of $(w,b)$ is better or worse than another choice, you can evaluate it with a cost function $J(w,b)$\n",
    "      - $J$ is a function of $(w,b)$. That is, the value of the cost $J(w,b)$ depends on the value of $(w,b)$.\n",
    "  \n",
    "    - The choice of $(w,b)$ that fits your data the best is the one that has the smallest cost $J(w,b)$.\n",
    "\n",
    "\n",
    "- To find the values $(w,b)$ that gets the smallest possible cost $J(w,b)$, you can use a method called **gradient descent**. \n",
    "  - With each step of gradient descent, your parameters $(w,b)$ come closer to the optimal values that will achieve the lowest cost $J(w,b)$.\n",
    "  \n",
    "\n",
    "- The trained linear regression model can then take the input feature $x$ (city population) and output a prediction $f_{w,b}(x)$ (predicted monthly profit for a restaurant in that city)."
   ]
  },
  {
   "cell_type": "markdown",
   "metadata": {},
   "source": [
    "<a name=\"5\"></a>\n",
    "## 5 - Compute Cost\n",
    "\n",
    "Gradient descent involves repeated steps to adjust the value of your parameter $(w,b)$ to gradually get a smaller and smaller cost $J(w,b)$.\n",
    "- At each step of gradient descent, it will be helpful for you to monitor your progress by computing the cost $J(w,b)$ as $(w,b)$ gets updated. \n",
    "- In this section, you will implement a function to calculate $J(w,b)$ so that you can check the progress of your gradient descent implementation.\n",
    "\n",
    "#### Cost function\n",
    "As you may recall from the lecture, for one variable, the cost function for linear regression $J(w,b)$ is defined as\n",
    "\n",
    "$$J(w,b) = \\frac{1}{2m} \\sum\\limits_{i = 0}^{m-1} (f_{w,b}(x^{(i)}) - y^{(i)})^2$$ \n",
    "\n",
    "- You can think of $f_{w,b}(x^{(i)})$ as the model's prediction of your restaurant's profit, as opposed to $y^{(i)}$, which is the actual profit that is recorded in the data.\n",
    "- $m$ is the number of training examples in the dataset\n",
    "\n",
    "#### Model prediction\n",
    "\n",
    "- For linear regression with one variable, the prediction of the model $f_{w,b}$ for an example $x^{(i)}$ is representented as:\n",
    "\n",
    "$$ f_{w,b}(x^{(i)}) = wx^{(i)} + b$$\n",
    "\n",
    "This is the equation for a line, with an intercept $b$ and a slope $w$\n",
    "\n",
    "#### Implementation\n",
    "\n",
    "Please complete the `compute_cost()` function below to compute the cost $J(w,b)$."
   ]
  },
  {
   "cell_type": "markdown",
   "metadata": {},
   "source": [
    "<a name=\"ex01\"></a>\n",
    "### Exercise 1\n",
    "\n",
    "Complete the `compute_cost` below to:\n",
    "\n",
    "* Iterate over the training examples, and for each example, compute:\n",
    "    * The prediction of the model for that example \n",
    "    $$\n",
    "    f_{wb}(x^{(i)}) =  wx^{(i)} + b \n",
    "    $$\n",
    "   \n",
    "    * The cost for that example  $$cost^{(i)} =  (f_{wb} - y^{(i)})^2$$\n",
    "    \n",
    "\n",
    "* Return the total cost over all examples\n",
    "$$J(\\mathbf{w},b) = \\frac{1}{2m} \\sum\\limits_{i = 0}^{m-1} cost^{(i)}$$\n",
    "  * Here, $m$ is the number of training examples and $\\sum$ is the summation operator\n",
    "\n",
    "If you get stuck, you can check out the hints presented after the cell below to help you with the implementation."
   ]
  },
  {
   "cell_type": "code",
   "execution_count": 42,
   "metadata": {
    "deletable": false
   },
   "outputs": [],
   "source": [
    "def compute_cost(x, y, w, b):\n",
    "    \"\"\"\n",
    "    Compute the cost function for linear regression.\n",
    "\n",
    "    Args:\n",
    "        x (ndarray): Shape (m,) Input to the model (Population of cities)\n",
    "        y (ndarray): Shape (m,) Label (Actual profits for the cities)\n",
    "        w, b (scalar): Parameters of the model\n",
    "\n",
    "    Returns:\n",
    "        total_cost (float): The cost of using w, b as the parameters for linear regression \n",
    "                            to fit the data points in x and y\n",
    "    \"\"\"\n",
    "    m = x.shape[0]  # number of training examples\n",
    "    total_cost = 0  # cost initialized to 0\n",
    "\n",
    "    # Iterate over each training example\n",
    "    for i in range(m):\n",
    "        # Compute the prediction of the model for that example\n",
    "        f_wb = w * x[i] + b\n",
    "        \n",
    "        # Compute the cost for that example\n",
    "        cost_i = (f_wb - y[i]) ** 2\n",
    "        \n",
    "        # Add the cost of the current example to the total cost\n",
    "        total_cost += cost_i\n",
    "\n",
    "    # Compute the total cost over all examples\n",
    "    total_cost = total_cost / (2 * m)\n",
    "\n",
    "    return total_cost\n"
   ]
  },
  {
   "cell_type": "markdown",
   "metadata": {},
   "source": [
    "<details>\n",
    "  <summary><font size=\"3\" color=\"darkgreen\"><b>Click for hints</b></font></summary>\n",
    "    \n",
    "    \n",
    "   * You can represent a summation operator eg: $h = \\sum\\limits_{i = 0}^{m-1} 2i$ in code as follows:\n",
    "    \n",
    "    ```python \n",
    "    h = 0\n",
    "    for i in range(m):\n",
    "        h = h + 2*i\n",
    "    ```\n",
    "  \n",
    "   * In this case, you can iterate over all the examples in `x` using a for loop and add the `cost` from each iteration to a variable (`cost_sum`) initialized outside the loop.\n",
    "\n",
    "   * Then, you can return the `total_cost` as `cost_sum` divided by `2m`.\n",
    "   * If you are new to Python, please check that your code is properly indented with consistent spaces or tabs. Otherwise, it might produce a different output or raise an `IndentationError: unexpected indent` error. You can refer to [this topic](https://community.deeplearning.ai/t/indentation-in-python-indentationerror-unexpected-indent/159398) in our community for details.\n",
    "\n",
    "    <details>\n",
    "          <summary><font size=\"2\" color=\"darkblue\"><b> Click for more hints</b></font></summary>\n",
    "        \n",
    "    * Here's how you can structure the overall implementation for this function\n",
    "    \n",
    "    ```python \n",
    "    def compute_cost(x, y, w, b):\n",
    "        # number of training examples\n",
    "        m = x.shape[0] \n",
    "    \n",
    "        # You need to return this variable correctly\n",
    "        total_cost = 0\n",
    "    \n",
    "        ### START CODE HERE ###  \n",
    "        # Variable to keep track of sum of cost from each example\n",
    "        cost_sum = 0\n",
    "    \n",
    "        # Loop over training examples\n",
    "        for i in range(m):\n",
    "            # Your code here to get the prediction f_wb for the ith example\n",
    "            f_wb = \n",
    "            # Your code here to get the cost associated with the ith example\n",
    "            cost = \n",
    "        \n",
    "            # Add to sum of cost for each example\n",
    "            cost_sum = cost_sum + cost \n",
    "\n",
    "        # Get the total cost as the sum divided by (2*m)\n",
    "        total_cost = (1 / (2 * m)) * cost_sum\n",
    "        ### END CODE HERE ### \n",
    "\n",
    "        return total_cost\n",
    "    ```\n",
    "    \n",
    "    * If you're still stuck, you can check the hints presented below to figure out how to calculate `f_wb` and `cost`.\n",
    "    \n",
    "    <details>\n",
    "          <summary><font size=\"2\" color=\"darkblue\"><b>Hint to calculate f_wb</b></font></summary>\n",
    "           &emsp; &emsp; For scalars $a$, $b$ and $c$ (<code>x[i]</code>, <code>w</code> and <code>b</code> are all scalars), you can calculate the equation $h = ab + c$ in code as <code>h = a * b + c</code>\n",
    "          <details>\n",
    "              <summary><font size=\"2\" color=\"blue\"><b>&emsp; &emsp; More hints to calculate f</b></font></summary>\n",
    "               &emsp; &emsp; You can compute f_wb as <code>f_wb = w * x[i] + b </code>\n",
    "           </details>\n",
    "    </details>\n",
    "\n",
    "     <details>\n",
    "          <summary><font size=\"2\" color=\"darkblue\"><b>Hint to calculate cost</b></font></summary>\n",
    "          &emsp; &emsp; You can calculate the square of a variable z as z**2\n",
    "          <details>\n",
    "              <summary><font size=\"2\" color=\"blue\"><b>&emsp; &emsp; More hints to calculate cost</b></font></summary>\n",
    "              &emsp; &emsp; You can compute cost as <code>cost = (f_wb - y[i]) ** 2</code>\n",
    "          </details>\n",
    "    </details>\n",
    "        \n",
    "    </details>\n",
    "\n",
    "</details>\n",
    "\n",
    "    \n"
   ]
  },
  {
   "cell_type": "markdown",
   "metadata": {},
   "source": [
    "You can check if your implementation was correct by running the following test code:"
   ]
  },
  {
   "cell_type": "code",
   "execution_count": 43,
   "metadata": {
    "deletable": false,
    "editable": false
   },
   "outputs": [
    {
     "name": "stdout",
     "output_type": "stream",
     "text": [
      "<class 'numpy.float64'>\n",
      "Cost at initial w: 75.203\n",
      "\u001b[92mAll tests passed!\n"
     ]
    }
   ],
   "source": [
    "# Compute cost with some initial values for paramaters w, b\n",
    "initial_w = 2\n",
    "initial_b = 1\n",
    "\n",
    "cost = compute_cost(x_train, y_train, initial_w, initial_b)\n",
    "print(type(cost))\n",
    "print(f'Cost at initial w: {cost:.3f}')\n",
    "\n",
    "# Public tests\n",
    "from public_tests import *\n",
    "compute_cost_test(compute_cost)"
   ]
  },
  {
   "cell_type": "markdown",
   "metadata": {},
   "source": [
    "**Expected Output**:\n",
    "<table>\n",
    "  <tr>\n",
    "    <td> <b>Cost at initial w:<b> 75.203 </td> \n",
    "  </tr>\n",
    "</table>"
   ]
  },
  {
   "cell_type": "markdown",
   "metadata": {},
   "source": [
    "<a name=\"6\"></a>\n",
    "## 6 - Gradient descent \n",
    "\n",
    "In this section, you will implement the gradient for parameters $w, b$ for linear regression. "
   ]
  },
  {
   "cell_type": "markdown",
   "metadata": {},
   "source": [
    "As described in the lecture videos, the gradient descent algorithm is:\n",
    "\n",
    "$$\\begin{align*}& \\text{repeat until convergence:} \\; \\lbrace \\newline \\; & \\phantom {0000} b := b -  \\alpha \\frac{\\partial J(w,b)}{\\partial b} \\newline       \\; & \\phantom {0000} w := w -  \\alpha \\frac{\\partial J(w,b)}{\\partial w} \\tag{1}  \\; & \n",
    "\\newline & \\rbrace\\end{align*}$$\n",
    "\n",
    "where, parameters $w, b$ are both updated simultaniously and where  \n",
    "$$\n",
    "\\frac{\\partial J(w,b)}{\\partial b}  = \\frac{1}{m} \\sum\\limits_{i = 0}^{m-1} (f_{w,b}(x^{(i)}) - y^{(i)}) \\tag{2}\n",
    "$$\n",
    "$$\n",
    "\\frac{\\partial J(w,b)}{\\partial w}  = \\frac{1}{m} \\sum\\limits_{i = 0}^{m-1} (f_{w,b}(x^{(i)}) -y^{(i)})x^{(i)} \\tag{3}\n",
    "$$\n",
    "* m is the number of training examples in the dataset\n",
    "\n",
    "    \n",
    "*  $f_{w,b}(x^{(i)})$ is the model's prediction, while $y^{(i)}$, is the target value\n",
    "\n",
    "\n",
    "You will implement a function called `compute_gradient` which calculates $\\frac{\\partial J(w)}{\\partial w}$, $\\frac{\\partial J(w)}{\\partial b}$ "
   ]
  },
  {
   "cell_type": "markdown",
   "metadata": {},
   "source": [
    "<a name=\"ex02\"></a>\n",
    "### Exercise 2\n",
    "\n",
    "Please complete the `compute_gradient` function to:\n",
    "\n",
    "* Iterate over the training examples, and for each example, compute:\n",
    "    * The prediction of the model for that example \n",
    "    $$\n",
    "    f_{wb}(x^{(i)}) =  wx^{(i)} + b \n",
    "    $$\n",
    "   \n",
    "    * The gradient for the parameters $w, b$ from that example \n",
    "        $$\n",
    "        \\frac{\\partial J(w,b)}{\\partial b}^{(i)}  =  (f_{w,b}(x^{(i)}) - y^{(i)}) \n",
    "        $$\n",
    "        $$\n",
    "        \\frac{\\partial J(w,b)}{\\partial w}^{(i)}  =  (f_{w,b}(x^{(i)}) -y^{(i)})x^{(i)} \n",
    "        $$\n",
    "    \n",
    "\n",
    "* Return the total gradient update from all the examples\n",
    "    $$\n",
    "    \\frac{\\partial J(w,b)}{\\partial b}  = \\frac{1}{m} \\sum\\limits_{i = 0}^{m-1} \\frac{\\partial J(w,b)}{\\partial b}^{(i)}\n",
    "    $$\n",
    "    \n",
    "    $$\n",
    "    \\frac{\\partial J(w,b)}{\\partial w}  = \\frac{1}{m} \\sum\\limits_{i = 0}^{m-1} \\frac{\\partial J(w,b)}{\\partial w}^{(i)} \n",
    "    $$\n",
    "  * Here, $m$ is the number of training examples and $\\sum$ is the summation operator\n",
    "\n",
    "If you get stuck, you can check out the hints presented after the cell below to help you with the implementation."
   ]
  },
  {
   "cell_type": "code",
   "execution_count": 44,
   "metadata": {
    "deletable": false
   },
   "outputs": [],
   "source": [
    "# UNQ_C2\n",
    "# GRADED FUNCTION: compute_gradient\n",
    "def compute_gradient(x, y, w, b): \n",
    "    \"\"\"\n",
    "    Computes the gradient for linear regression \n",
    "    Args:\n",
    "      x (ndarray): Shape (m,) Input to the model (Population of cities) \n",
    "      y (ndarray): Shape (m,) Label (Actual profits for the cities)\n",
    "      w, b (scalar): Parameters of the model  \n",
    "    Returns\n",
    "      dj_dw (scalar): The gradient of the cost w.r.t. the parameters w\n",
    "      dj_db (scalar): The gradient of the cost w.r.t. the parameter b     \n",
    "     \"\"\"\n",
    "    \n",
    "    # Number of training examples\n",
    "    m = x.shape[0]\n",
    "    \n",
    "    # You need to return the following variables correctly\n",
    "    dj_dw = 0\n",
    "    dj_db = 0\n",
    "    \n",
    "    ### START CODE HERE ###\n",
    "    for i in range(m):\n",
    "        dj_db += w * x[i] + b  - y[i]\n",
    "        dj_dw += ( w * x[i] + b - y[i] ) * x[i] \n",
    "        \n",
    "    dj_db = dj_db / m\n",
    "    dj_dw = dj_dw / m\n",
    "    ### END CODE HERE ### \n",
    "        \n",
    "    return dj_dw, dj_db"
   ]
  },
  {
   "cell_type": "markdown",
   "metadata": {},
   "source": [
    "<details>\n",
    "  <summary><font size=\"3\" color=\"darkgreen\"><b>Click for hints</b></font></summary>\n",
    "    \n",
    "   * You can represent a summation operator eg: $h = \\sum\\limits_{i = 0}^{m-1} 2i$ in code as follows:\n",
    "    \n",
    "   ```python \n",
    "    h = 0\n",
    "    for i in range(m):\n",
    "        h = h + 2*i\n",
    "   ```\n",
    "    \n",
    "   * In this case, you can iterate over all the examples in `x` using a for loop and for each example, keep adding the gradient from that example to the variables `dj_dw` and `dj_db` which are initialized outside the loop. \n",
    "\n",
    "   * Then, you can return `dj_dw` and `dj_db` both divided by `m`.    \n",
    "    <details>\n",
    "          <summary><font size=\"2\" color=\"darkblue\"><b> Click for more hints</b></font></summary>\n",
    "        \n",
    "    * Here's how you can structure the overall implementation for this function\n",
    "    \n",
    "    ```python \n",
    "    def compute_gradient(x, y, w, b): \n",
    "        \"\"\"\n",
    "        Computes the gradient for linear regression \n",
    "        Args:\n",
    "          x (ndarray): Shape (m,) Input to the model (Population of cities) \n",
    "          y (ndarray): Shape (m,) Label (Actual profits for the cities)\n",
    "          w, b (scalar): Parameters of the model  \n",
    "        Returns\n",
    "          dj_dw (scalar): The gradient of the cost w.r.t. the parameters w\n",
    "          dj_db (scalar): The gradient of the cost w.r.t. the parameter b     \n",
    "        \"\"\"\n",
    "    \n",
    "        # Number of training examples\n",
    "        m = x.shape[0]\n",
    "    \n",
    "        # You need to return the following variables correctly\n",
    "        dj_dw = 0\n",
    "        dj_db = 0\n",
    "    \n",
    "        ### START CODE HERE ### \n",
    "        # Loop over examples\n",
    "        for i in range(m):  \n",
    "            # Your code here to get prediction f_wb for the ith example\n",
    "            f_wb = \n",
    "            \n",
    "            # Your code here to get the gradient for w from the ith example \n",
    "            dj_dw_i = \n",
    "        \n",
    "            # Your code here to get the gradient for b from the ith example \n",
    "            dj_db_i = \n",
    "     \n",
    "            # Update dj_db : In Python, a += 1  is the same as a = a + 1\n",
    "            dj_db += dj_db_i\n",
    "        \n",
    "            # Update dj_dw\n",
    "            dj_dw += dj_dw_i\n",
    "    \n",
    "        # Divide both dj_dw and dj_db by m\n",
    "        dj_dw = dj_dw / m\n",
    "        dj_db = dj_db / m\n",
    "        ### END CODE HERE ### \n",
    "        \n",
    "        return dj_dw, dj_db\n",
    "    ```\n",
    "        \n",
    "    * If you're still stuck, you can check the hints presented below to figure out how to calculate `f_wb` and `cost`.\n",
    "    \n",
    "    <details>\n",
    "          <summary><font size=\"2\" color=\"darkblue\"><b>Hint to calculate f_wb</b></font></summary>\n",
    "           &emsp; &emsp; You did this in the previous exercise! For scalars $a$, $b$ and $c$ (<code>x[i]</code>, <code>w</code> and <code>b</code> are all scalars), you can calculate the equation $h = ab + c$ in code as <code>h = a * b + c</code>\n",
    "          <details>\n",
    "              <summary><font size=\"2\" color=\"blue\"><b>&emsp; &emsp; More hints to calculate f</b></font></summary>\n",
    "               &emsp; &emsp; You can compute f_wb as <code>f_wb = w * x[i] + b </code>\n",
    "           </details>\n",
    "    </details>\n",
    "        \n",
    "    <details>\n",
    "          <summary><font size=\"2\" color=\"darkblue\"><b>Hint to calculate dj_dw_i</b></font></summary>\n",
    "           &emsp; &emsp; For scalars $a$, $b$ and $c$ (<code>f_wb</code>, <code>y[i]</code> and <code>x[i]</code> are all scalars), you can calculate the equation $h = (a - b)c$ in code as <code>h = (a-b)*c</code>\n",
    "          <details>\n",
    "              <summary><font size=\"2\" color=\"blue\"><b>&emsp; &emsp; More hints to calculate f</b></font></summary>\n",
    "               &emsp; &emsp; You can compute dj_dw_i as <code>dj_dw_i = (f_wb - y[i]) * x[i] </code>\n",
    "           </details>\n",
    "    </details>\n",
    "        \n",
    "    <details>\n",
    "          <summary><font size=\"2\" color=\"darkblue\"><b>Hint to calculate dj_db_i</b></font></summary>\n",
    "             &emsp; &emsp; You can compute dj_db_i as <code> dj_db_i = f_wb - y[i] </code>\n",
    "    </details>\n",
    "        \n",
    "    </details>\n",
    "\n",
    "</details>\n",
    "\n",
    "    \n"
   ]
  },
  {
   "cell_type": "markdown",
   "metadata": {},
   "source": [
    "Run the cells below to check your implementation of the `compute_gradient` function with two different initializations of the parameters $w$,$b$."
   ]
  },
  {
   "cell_type": "code",
   "execution_count": 45,
   "metadata": {
    "deletable": false,
    "editable": false
   },
   "outputs": [
    {
     "name": "stdout",
     "output_type": "stream",
     "text": [
      "Gradient at initial w, b (zeros): -65.32884974555672 -5.83913505154639\n",
      "Using X with shape (4, 1)\n",
      "\u001b[92mAll tests passed!\n"
     ]
    }
   ],
   "source": [
    "# Compute and display gradient with w initialized to zeroes\n",
    "initial_w = 0\n",
    "initial_b = 0\n",
    "\n",
    "tmp_dj_dw, tmp_dj_db = compute_gradient(x_train, y_train, initial_w, initial_b)\n",
    "print('Gradient at initial w, b (zeros):', tmp_dj_dw, tmp_dj_db)\n",
    "\n",
    "compute_gradient_test(compute_gradient)"
   ]
  },
  {
   "cell_type": "markdown",
   "metadata": {},
   "source": [
    "Now let's run the gradient descent algorithm implemented above on our dataset.\n",
    "\n",
    "**Expected Output**:\n",
    "<table>\n",
    "  <tr>\n",
    "    <td> <b>Gradient at initial , b (zeros)<b></td>\n",
    "    <td> -65.32884975 -5.83913505154639</td> \n",
    "  </tr>\n",
    "</table>"
   ]
  },
  {
   "cell_type": "code",
   "execution_count": 34,
   "metadata": {
    "deletable": false,
    "editable": false
   },
   "outputs": [
    {
     "name": "stdout",
     "output_type": "stream",
     "text": [
      "Gradient at test w, b: -47.41610118114435 -4.007175051546391\n"
     ]
    }
   ],
   "source": [
    "# Compute and display cost and gradient with non-zero w\n",
    "test_w = 0.2\n",
    "test_b = 0.2\n",
    "tmp_dj_dw, tmp_dj_db = compute_gradient(x_train, y_train, test_w, test_b)\n",
    "\n",
    "print('Gradient at test w, b:', tmp_dj_dw, tmp_dj_db)"
   ]
  },
  {
   "cell_type": "markdown",
   "metadata": {},
   "source": [
    "**Expected Output**:\n",
    "<table>\n",
    "  <tr>\n",
    "    <td> <b>Gradient at test w<b></td>\n",
    "    <td> -47.41610118 -4.007175051546391</td> \n",
    "  </tr>\n",
    "</table>"
   ]
  },
  {
   "cell_type": "markdown",
   "metadata": {},
   "source": [
    "<a name=\"2.6\"></a>\n",
    "### 2.6 Learning parameters using batch gradient descent \n",
    "\n",
    "You will now find the optimal parameters of a linear regression model by using batch gradient descent. Recall batch refers to running all the examples in one iteration.\n",
    "- You don't need to implement anything for this part. Simply run the cells below. \n",
    "\n",
    "- A good way to verify that gradient descent is working correctly is to look\n",
    "at the value of $J(w,b)$ and check that it is decreasing with each step. \n",
    "\n",
    "- Assuming you have implemented the gradient and computed the cost correctly and you have an appropriate value for the learning rate alpha, $J(w,b)$ should never increase and should converge to a steady value by the end of the algorithm."
   ]
  },
  {
   "cell_type": "code",
   "execution_count": 35,
   "metadata": {
    "deletable": false,
    "editable": false
   },
   "outputs": [],
   "source": [
    "def gradient_descent(x, y, w_in, b_in, cost_function, gradient_function, alpha, num_iters): \n",
    "    \"\"\"\n",
    "    Performs batch gradient descent to learn theta. Updates theta by taking \n",
    "    num_iters gradient steps with learning rate alpha\n",
    "    \n",
    "    Args:\n",
    "      x :    (ndarray): Shape (m,)\n",
    "      y :    (ndarray): Shape (m,)\n",
    "      w_in, b_in : (scalar) Initial values of parameters of the model\n",
    "      cost_function: function to compute cost\n",
    "      gradient_function: function to compute the gradient\n",
    "      alpha : (float) Learning rate\n",
    "      num_iters : (int) number of iterations to run gradient descent\n",
    "    Returns\n",
    "      w : (ndarray): Shape (1,) Updated values of parameters of the model after\n",
    "          running gradient descent\n",
    "      b : (scalar)                Updated value of parameter of the model after\n",
    "          running gradient descent\n",
    "    \"\"\"\n",
    "    \n",
    "    # number of training examples\n",
    "    m = len(x)\n",
    "    \n",
    "    # An array to store cost J and w's at each iteration — primarily for graphing later\n",
    "    J_history = []\n",
    "    w_history = []\n",
    "    w = copy.deepcopy(w_in)  #avoid modifying global w within function\n",
    "    b = b_in\n",
    "    \n",
    "    for i in range(num_iters):\n",
    "\n",
    "        # Calculate the gradient and update the parameters\n",
    "        dj_dw, dj_db = gradient_function(x, y, w, b )  \n",
    "\n",
    "        # Update Parameters using w, b, alpha and gradient\n",
    "        w = w - alpha * dj_dw               \n",
    "        b = b - alpha * dj_db               \n",
    "\n",
    "        # Save cost J at each iteration\n",
    "        if i<100000:      # prevent resource exhaustion \n",
    "            cost =  cost_function(x, y, w, b)\n",
    "            J_history.append(cost)\n",
    "\n",
    "        # Print cost every at intervals 10 times or as many iterations if < 10\n",
    "        if i% math.ceil(num_iters/10) == 0:\n",
    "            w_history.append(w)\n",
    "            print(f\"Iteration {i:4}: Cost {float(J_history[-1]):8.2f}   \")\n",
    "        \n",
    "    return w, b, J_history, w_history #return w and J,w history for graphing"
   ]
  },
  {
   "cell_type": "markdown",
   "metadata": {},
   "source": [
    "Now let's run the gradient descent algorithm above to learn the parameters for our dataset."
   ]
  },
  {
   "cell_type": "code",
   "execution_count": 36,
   "metadata": {
    "deletable": false,
    "editable": false
   },
   "outputs": [
    {
     "name": "stdout",
     "output_type": "stream",
     "text": [
      "Iteration    0: Cost     6.74   \n",
      "Iteration  150: Cost     5.31   \n",
      "Iteration  300: Cost     4.96   \n",
      "Iteration  450: Cost     4.76   \n",
      "Iteration  600: Cost     4.64   \n",
      "Iteration  750: Cost     4.57   \n",
      "Iteration  900: Cost     4.53   \n",
      "Iteration 1050: Cost     4.51   \n",
      "Iteration 1200: Cost     4.50   \n",
      "Iteration 1350: Cost     4.49   \n",
      "w,b found by gradient descent: 1.166362350335582 -3.63029143940436\n"
     ]
    }
   ],
   "source": [
    "# initialize fitting parameters. Recall that the shape of w is (n,)\n",
    "initial_w = 0.\n",
    "initial_b = 0.\n",
    "\n",
    "# some gradient descent settings\n",
    "iterations = 1500\n",
    "alpha = 0.01\n",
    "\n",
    "w,b,_,_ = gradient_descent(x_train ,y_train, initial_w, initial_b, \n",
    "                     compute_cost, compute_gradient, alpha, iterations)\n",
    "print(\"w,b found by gradient descent:\", w, b)"
   ]
  },
  {
   "cell_type": "markdown",
   "metadata": {},
   "source": [
    "**Expected Output**:\n",
    "<table>\n",
    "  <tr>\n",
    "    <td> <b> w, b found by gradient descent<b></td>\n",
    "    <td> 1.16636235 -3.63029143940436</td> \n",
    "  </tr>\n",
    "</table>"
   ]
  },
  {
   "cell_type": "markdown",
   "metadata": {},
   "source": [
    "We will now use the final parameters from gradient descent to plot the linear fit. \n",
    "\n",
    "Recall that we can get the prediction for a single example $f(x^{(i)})= wx^{(i)}+b$. \n",
    "\n",
    "To calculate the predictions on the entire dataset, we can loop through all the training examples and calculate the prediction for each example. This is shown in the code block below."
   ]
  },
  {
   "cell_type": "code",
   "execution_count": 38,
   "metadata": {
    "deletable": false,
    "editable": false
   },
   "outputs": [],
   "source": [
    "m = x_train.shape[0]\n",
    "predicted = np.zeros(m)\n",
    "\n",
    "for i in range(m):\n",
    "    predicted[i] = w * x_train[i] + b"
   ]
  },
  {
   "cell_type": "markdown",
   "metadata": {},
   "source": [
    "We will now plot the predicted values to see the linear fit."
   ]
  },
  {
   "cell_type": "code",
   "execution_count": 39,
   "metadata": {
    "deletable": false,
    "editable": false
   },
   "outputs": [
    {
     "data": {
      "text/plain": [
       "Text(0.5, 0, 'Population of City in 10,000s')"
      ]
     },
     "execution_count": 39,
     "metadata": {},
     "output_type": "execute_result"
    },
    {
     "data": {
      "image/png": "[encoded data removed]",
      "image/svg+xml": "<?xml version=\"1.0\" encoding=\"utf-8\" standalone=\"no\"?>\n<!DOCTYPE svg PUBLIC \"-//W3C//DTD SVG 1.1//EN\"\n  \"http://www.w3.org/Graphics/SVG/1.1/DTD/svg11.dtd\">\n<svg xmlns:xlink=\"http://www.w3.org/1999/xlink\" width=\"405.436964pt\" height=\"325.986375pt\" viewBox=\"0 0 405.436964 325.986375\" xmlns=\"http://www.w3.org/2000/svg\" version=\"1.1\">\n <metadata>\n  <rdf:RDF xmlns:dc=\"http://purl.org/dc/elements/1.1/\" xmlns:cc=\"http://creativecommons.org/ns#\" xmlns:rdf=\"http://www.w3.org/1999/02/22-rdf-syntax-ns#\">\n   <cc:Work>\n    <dc:type rdf:resource=\"http://purl.org/dc/dcmitype/StillImage\"/>\n    <dc:date>2023-12-26T20:38:32.663295</dc:date>\n    <dc:format>image/svg+xml</dc:format>\n    <dc:creator>\n     <cc:Agent>\n      <dc:title>Matplotlib v3.8.2, https://matplotlib.org/</dc:title>\n     </cc:Agent>\n    </dc:creator>\n   </cc:Work>\n  </rdf:RDF>\n </metadata>\n <defs>\n  <style type=\"text/css\">*{stroke-linejoin: round; stroke-linecap: butt}</style>\n </defs>\n <g id=\"figure_1\">\n  <g id=\"patch_1\">\n   <path d=\"M 0 325.986375 \nL 405.436964 325.986375 \nL 405.436964 0 \nL 0 0 \nz\n\"/>\n  </g>\n  <g id=\"axes_1\">\n   <g id=\"patch_2\">\n    <path d=\"M 40.603125 288.430125 \nL 397.723125 288.430125 \nL 397.723125 22.318125 \nL 40.603125 22.318125 \nz\n\"/>\n   </g>\n   <g id=\"PathCollection_1\">\n    <defs>\n     <path id=\"m38d275ba1e\" d=\"M -3 3 \nL 3 -3 \nM -3 -3 \nL 3 3 \n\" style=\"stroke: #ff0000; stroke-width: 1.5\"/>\n    </defs>\n    <g clip-path=\"url(#p365e9848c6)\">\n     <use xlink:href=\"#m38d275ba1e\" x=\"77.309988\" y=\"93.524134\" style=\"fill: #ff0000; stroke: #ff0000; stroke-width: 1.5\"/>\n     <use xlink:href=\"#m38d275ba1e\" x=\"66.301738\" y=\"169.828799\" style=\"fill: #ff0000; stroke: #ff0000; stroke-width: 1.5\"/>\n     <use xlink:href=\"#m38d275ba1e\" x=\"122.83432\" y=\"128.963087\" style=\"fill: #ff0000; stroke: #ff0000; stroke-width: 1.5\"/>\n     <use xlink:href=\"#m38d275ba1e\" x=\"94.190943\" y=\"145.266809\" style=\"fill: #ff0000; stroke: #ff0000; stroke-width: 1.5\"/>\n     <use xlink:href=\"#m38d275ba1e\" x=\"72.578935\" y=\"190.631374\" style=\"fill: #ff0000; stroke: #ff0000; stroke-width: 1.5\"/>\n     <use xlink:href=\"#m38d275ba1e\" x=\"120.269382\" y=\"144.978248\" style=\"fill: #ff0000; stroke: #ff0000; stroke-width: 1.5\"/>\n     <use xlink:href=\"#m38d275ba1e\" x=\"103.135147\" y=\"212.949799\" style=\"fill: #ff0000; stroke: #ff0000; stroke-width: 1.5\"/>\n     <use xlink:href=\"#m38d275ba1e\" x=\"123.958961\" y=\"143.950248\" style=\"fill: #ff0000; stroke: #ff0000; stroke-width: 1.5\"/>\n     <use xlink:href=\"#m38d275ba1e\" x=\"84.418853\" y=\"192.656715\" style=\"fill: #ff0000; stroke: #ff0000; stroke-width: 1.5\"/>\n     <use xlink:href=\"#m38d275ba1e\" x=\"57.359425\" y=\"217.744428\" style=\"fill: #ff0000; stroke: #ff0000; stroke-width: 1.5\"/>\n     <use xlink:href=\"#m38d275ba1e\" x=\"69.760718\" y=\"222.83393\" style=\"fill: #ff0000; stroke: #ff0000; stroke-width: 1.5\"/>\n     <use xlink:href=\"#m38d275ba1e\" x=\"229.541009\" y=\"112.343751\" style=\"fill: #ff0000; stroke: #ff0000; stroke-width: 1.5\"/>\n     <use xlink:href=\"#m38d275ba1e\" x=\"70.201123\" y=\"223.709534\" style=\"fill: #ff0000; stroke: #ff0000; stroke-width: 1.5\"/>\n     <use xlink:href=\"#m38d275ba1e\" x=\"120.751371\" y=\"187.001813\" style=\"fill: #ff0000; stroke: #ff0000; stroke-width: 1.5\"/>\n     <use xlink:href=\"#m38d275ba1e\" x=\"68.437611\" y=\"245.702606\" style=\"fill: #ff0000; stroke: #ff0000; stroke-width: 1.5\"/>\n     <use xlink:href=\"#m38d275ba1e\" x=\"63.498641\" y=\"220.483056\" style=\"fill: #ff0000; stroke: #ff0000; stroke-width: 1.5\"/>\n     <use xlink:href=\"#m38d275ba1e\" x=\"82.135548\" y=\"204.324517\" style=\"fill: #ff0000; stroke: #ff0000; stroke-width: 1.5\"/>\n     <use xlink:href=\"#m38d275ba1e\" x=\"58.78649\" y=\"247.104022\" style=\"fill: #ff0000; stroke: #ff0000; stroke-width: 1.5\"/>\n     <use xlink:href=\"#m38d275ba1e\" x=\"83.349026\" y=\"219.230519\" style=\"fill: #ff0000; stroke: #ff0000; stroke-width: 1.5\"/>\n     <use xlink:href=\"#m38d275ba1e\" x=\"95.468687\" y=\"203.562534\" style=\"fill: #ff0000; stroke: #ff0000; stroke-width: 1.5\"/>\n     <use xlink:href=\"#m38d275ba1e\" x=\"78.803209\" y=\"223.858324\" style=\"fill: #ff0000; stroke: #ff0000; stroke-width: 1.5\"/>\n     <use xlink:href=\"#m38d275ba1e\" x=\"344.953743\" y=\"55.875883\" style=\"fill: #ff0000; stroke: #ff0000; stroke-width: 1.5\"/>\n     <use xlink:href=\"#m38d275ba1e\" x=\"65.59104\" y=\"213.718996\" style=\"fill: #ff0000; stroke: #ff0000; stroke-width: 1.5\"/>\n     <use xlink:href=\"#m38d275ba1e\" x=\"81.392718\" y=\"205.382275\" style=\"fill: #ff0000; stroke: #ff0000; stroke-width: 1.5\"/>\n     <use xlink:href=\"#m38d275ba1e\" x=\"67.004875\" y=\"224.364208\" style=\"fill: #ff0000; stroke: #ff0000; stroke-width: 1.5\"/>\n     <use xlink:href=\"#m38d275ba1e\" x=\"319.909218\" y=\"48.021601\" style=\"fill: #ff0000; stroke: #ff0000; stroke-width: 1.5\"/>\n     <use xlink:href=\"#m38d275ba1e\" x=\"204.288567\" y=\"130.414912\" style=\"fill: #ff0000; stroke: #ff0000; stroke-width: 1.5\"/>\n     <use xlink:href=\"#m38d275ba1e\" x=\"168.923807\" y=\"188.616855\" style=\"fill: #ff0000; stroke: #ff0000; stroke-width: 1.5\"/>\n     <use xlink:href=\"#m38d275ba1e\" x=\"210.866299\" y=\"119.675016\" style=\"fill: #ff0000; stroke: #ff0000; stroke-width: 1.5\"/>\n     <use xlink:href=\"#m38d275ba1e\" x=\"381.490398\" y=\"34.414125\" style=\"fill: #ff0000; stroke: #ff0000; stroke-width: 1.5\"/>\n     <use xlink:href=\"#m38d275ba1e\" x=\"61.098147\" y=\"263.162197\" style=\"fill: #ff0000; stroke: #ff0000; stroke-width: 1.5\"/>\n     <use xlink:href=\"#m38d275ba1e\" x=\"86.369491\" y=\"198.086179\" style=\"fill: #ff0000; stroke: #ff0000; stroke-width: 1.5\"/>\n     <use xlink:href=\"#m38d275ba1e\" x=\"136.624875\" y=\"142.741897\" style=\"fill: #ff0000; stroke: #ff0000; stroke-width: 1.5\"/>\n     <use xlink:href=\"#m38d275ba1e\" x=\"73.183784\" y=\"235.482841\" style=\"fill: #ff0000; stroke: #ff0000; stroke-width: 1.5\"/>\n     <use xlink:href=\"#m38d275ba1e\" x=\"117.0221\" y=\"193.162599\" style=\"fill: #ff0000; stroke: #ff0000; stroke-width: 1.5\"/>\n     <use xlink:href=\"#m38d275ba1e\" x=\"111.773145\" y=\"211.020044\" style=\"fill: #ff0000; stroke: #ff0000; stroke-width: 1.5\"/>\n     <use xlink:href=\"#m38d275ba1e\" x=\"114.844644\" y=\"215.040968\" style=\"fill: #ff0000; stroke: #ff0000; stroke-width: 1.5\"/>\n     <use xlink:href=\"#m38d275ba1e\" x=\"67.787398\" y=\"221.566064\" style=\"fill: #ff0000; stroke: #ff0000; stroke-width: 1.5\"/>\n     <use xlink:href=\"#m38d275ba1e\" x=\"204.439779\" y=\"160.930286\" style=\"fill: #ff0000; stroke: #ff0000; stroke-width: 1.5\"/>\n     <use xlink:href=\"#m38d275ba1e\" x=\"81.90873\" y=\"202.587738\" style=\"fill: #ff0000; stroke: #ff0000; stroke-width: 1.5\"/>\n     <use xlink:href=\"#m38d275ba1e\" x=\"64.018433\" y=\"247.141896\" style=\"fill: #ff0000; stroke: #ff0000; stroke-width: 1.5\"/>\n     <use xlink:href=\"#m38d275ba1e\" x=\"91.909529\" y=\"216.888663\" style=\"fill: #ff0000; stroke: #ff0000; stroke-width: 1.5\"/>\n     <use xlink:href=\"#m38d275ba1e\" x=\"183.118855\" y=\"203.597703\" style=\"fill: #ff0000; stroke: #ff0000; stroke-width: 1.5\"/>\n     <use xlink:href=\"#m38d275ba1e\" x=\"70.951514\" y=\"230.15257\" style=\"fill: #ff0000; stroke: #ff0000; stroke-width: 1.5\"/>\n     <use xlink:href=\"#m38d275ba1e\" x=\"109.718549\" y=\"191.45648\" style=\"fill: #ff0000; stroke: #ff0000; stroke-width: 1.5\"/>\n     <use xlink:href=\"#m38d275ba1e\" x=\"95.890191\" y=\"242.725734\" style=\"fill: #ff0000; stroke: #ff0000; stroke-width: 1.5\"/>\n     <use xlink:href=\"#m38d275ba1e\" x=\"57.654288\" y=\"205.867419\" style=\"fill: #ff0000; stroke: #ff0000; stroke-width: 1.5\"/>\n     <use xlink:href=\"#m38d275ba1e\" x=\"71.475086\" y=\"235.532438\" style=\"fill: #ff0000; stroke: #ff0000; stroke-width: 1.5\"/>\n     <use xlink:href=\"#m38d275ba1e\" x=\"182.967643\" y=\"179.981653\" style=\"fill: #ff0000; stroke: #ff0000; stroke-width: 1.5\"/>\n     <use xlink:href=\"#m38d275ba1e\" x=\"66.564469\" y=\"242.981832\" style=\"fill: #ff0000; stroke: #ff0000; stroke-width: 1.5\"/>\n     <use xlink:href=\"#m38d275ba1e\" x=\"104.341064\" y=\"191.288754\" style=\"fill: #ff0000; stroke: #ff0000; stroke-width: 1.5\"/>\n     <use xlink:href=\"#m38d275ba1e\" x=\"62.143402\" y=\"235.572115\" style=\"fill: #ff0000; stroke: #ff0000; stroke-width: 1.5\"/>\n     <use xlink:href=\"#m38d275ba1e\" x=\"102.142816\" y=\"213.489048\" style=\"fill: #ff0000; stroke: #ff0000; stroke-width: 1.5\"/>\n     <use xlink:href=\"#m38d275ba1e\" x=\"105.52997\" y=\"207.090198\" style=\"fill: #ff0000; stroke: #ff0000; stroke-width: 1.5\"/>\n     <use xlink:href=\"#m38d275ba1e\" x=\"81.519358\" y=\"239.326119\" style=\"fill: #ff0000; stroke: #ff0000; stroke-width: 1.5\"/>\n     <use xlink:href=\"#m38d275ba1e\" x=\"82.012688\" y=\"264.975625\" style=\"fill: #ff0000; stroke: #ff0000; stroke-width: 1.5\"/>\n     <use xlink:href=\"#m38d275ba1e\" x=\"80.411729\" y=\"229.836956\" style=\"fill: #ff0000; stroke: #ff0000; stroke-width: 1.5\"/>\n     <use xlink:href=\"#m38d275ba1e\" x=\"68.418709\" y=\"210.642209\" style=\"fill: #ff0000; stroke: #ff0000; stroke-width: 1.5\"/>\n     <use xlink:href=\"#m38d275ba1e\" x=\"137.79677\" y=\"216.42967\" style=\"fill: #ff0000; stroke: #ff0000; stroke-width: 1.5\"/>\n     <use xlink:href=\"#m38d275ba1e\" x=\"140.507249\" y=\"203.338899\" style=\"fill: #ff0000; stroke: #ff0000; stroke-width: 1.5\"/>\n     <use xlink:href=\"#m38d275ba1e\" x=\"128.633309\" y=\"205.545493\" style=\"fill: #ff0000; stroke: #ff0000; stroke-width: 1.5\"/>\n     <use xlink:href=\"#m38d275ba1e\" x=\"59.716445\" y=\"258.858934\" style=\"fill: #ff0000; stroke: #ff0000; stroke-width: 1.5\"/>\n     <use xlink:href=\"#m38d275ba1e\" x=\"364.025385\" y=\"90.485222\" style=\"fill: #ff0000; stroke: #ff0000; stroke-width: 1.5\"/>\n     <use xlink:href=\"#m38d275ba1e\" x=\"243.603747\" y=\"143.4633\" style=\"fill: #ff0000; stroke: #ff0000; stroke-width: 1.5\"/>\n     <use xlink:href=\"#m38d275ba1e\" x=\"320.173839\" y=\"98.375574\" style=\"fill: #ff0000; stroke: #ff0000; stroke-width: 1.5\"/>\n     <use xlink:href=\"#m38d275ba1e\" x=\"98.254772\" y=\"208.108279\" style=\"fill: #ff0000; stroke: #ff0000; stroke-width: 1.5\"/>\n     <use xlink:href=\"#m38d275ba1e\" x=\"118.609828\" y=\"200.362208\" style=\"fill: #ff0000; stroke: #ff0000; stroke-width: 1.5\"/>\n     <use xlink:href=\"#m38d275ba1e\" x=\"155.295805\" y=\"182.04577\" style=\"fill: #ff0000; stroke: #ff0000; stroke-width: 1.5\"/>\n     <use xlink:href=\"#m38d275ba1e\" x=\"65.766825\" y=\"242.987242\" style=\"fill: #ff0000; stroke: #ff0000; stroke-width: 1.5\"/>\n     <use xlink:href=\"#m38d275ba1e\" x=\"346.295751\" y=\"62.86448\" style=\"fill: #ff0000; stroke: #ff0000; stroke-width: 1.5\"/>\n     <use xlink:href=\"#m38d275ba1e\" x=\"153.405652\" y=\"191.92449\" style=\"fill: #ff0000; stroke: #ff0000; stroke-width: 1.5\"/>\n     <use xlink:href=\"#m38d275ba1e\" x=\"100.45302\" y=\"215.857056\" style=\"fill: #ff0000; stroke: #ff0000; stroke-width: 1.5\"/>\n     <use xlink:href=\"#m38d275ba1e\" x=\"75.346119\" y=\"240.632761\" style=\"fill: #ff0000; stroke: #ff0000; stroke-width: 1.5\"/>\n     <use xlink:href=\"#m38d275ba1e\" x=\"98.400314\" y=\"222.032271\" style=\"fill: #ff0000; stroke: #ff0000; stroke-width: 1.5\"/>\n     <use xlink:href=\"#m38d275ba1e\" x=\"56.835852\" y=\"276.334125\" style=\"fill: #ff0000; stroke: #ff0000; stroke-width: 1.5\"/>\n     <use xlink:href=\"#m38d275ba1e\" x=\"85.585077\" y=\"249.484564\" style=\"fill: #ff0000; stroke: #ff0000; stroke-width: 1.5\"/>\n     <use xlink:href=\"#m38d275ba1e\" x=\"104.310822\" y=\"217.132137\" style=\"fill: #ff0000; stroke: #ff0000; stroke-width: 1.5\"/>\n     <use xlink:href=\"#m38d275ba1e\" x=\"57.017307\" y=\"200.748159\" style=\"fill: #ff0000; stroke: #ff0000; stroke-width: 1.5\"/>\n     <use xlink:href=\"#m38d275ba1e\" x=\"156.014063\" y=\"191.268915\" style=\"fill: #ff0000; stroke: #ff0000; stroke-width: 1.5\"/>\n     <use xlink:href=\"#m38d275ba1e\" x=\"58.363096\" y=\"233.60629\" style=\"fill: #ff0000; stroke: #ff0000; stroke-width: 1.5\"/>\n     <use xlink:href=\"#m38d275ba1e\" x=\"70.110396\" y=\"247.836608\" style=\"fill: #ff0000; stroke: #ff0000; stroke-width: 1.5\"/>\n     <use xlink:href=\"#m38d275ba1e\" x=\"59.888449\" y=\"250.319318\" style=\"fill: #ff0000; stroke: #ff0000; stroke-width: 1.5\"/>\n     <use xlink:href=\"#m38d275ba1e\" x=\"81.952203\" y=\"246.041395\" style=\"fill: #ff0000; stroke: #ff0000; stroke-width: 1.5\"/>\n     <use xlink:href=\"#m38d275ba1e\" x=\"146.463121\" y=\"184.136938\" style=\"fill: #ff0000; stroke: #ff0000; stroke-width: 1.5\"/>\n     <use xlink:href=\"#m38d275ba1e\" x=\"84.980228\" y=\"203.974636\" style=\"fill: #ff0000; stroke: #ff0000; stroke-width: 1.5\"/>\n     <use xlink:href=\"#m38d275ba1e\" x=\"122.807858\" y=\"213.912873\" style=\"fill: #ff0000; stroke: #ff0000; stroke-width: 1.5\"/>\n     <use xlink:href=\"#m38d275ba1e\" x=\"135.339571\" y=\"190.858617\" style=\"fill: #ff0000; stroke: #ff0000; stroke-width: 1.5\"/>\n     <use xlink:href=\"#m38d275ba1e\" x=\"75.266733\" y=\"243.801978\" style=\"fill: #ff0000; stroke: #ff0000; stroke-width: 1.5\"/>\n     <use xlink:href=\"#m38d275ba1e\" x=\"66.163757\" y=\"250.790124\" style=\"fill: #ff0000; stroke: #ff0000; stroke-width: 1.5\"/>\n     <use xlink:href=\"#m38d275ba1e\" x=\"57.450152\" y=\"226.718689\" style=\"fill: #ff0000; stroke: #ff0000; stroke-width: 1.5\"/>\n     <use xlink:href=\"#m38d275ba1e\" x=\"69.704013\" y=\"235.522518\" style=\"fill: #ff0000; stroke: #ff0000; stroke-width: 1.5\"/>\n     <use xlink:href=\"#m38d275ba1e\" x=\"106.163171\" y=\"213.422318\" style=\"fill: #ff0000; stroke: #ff0000; stroke-width: 1.5\"/>\n     <use xlink:href=\"#m38d275ba1e\" x=\"72.784962\" y=\"187.208314\" style=\"fill: #ff0000; stroke: #ff0000; stroke-width: 1.5\"/>\n     <use xlink:href=\"#m38d275ba1e\" x=\"62.099928\" y=\"234.243831\" style=\"fill: #ff0000; stroke: #ff0000; stroke-width: 1.5\"/>\n     <use xlink:href=\"#m38d275ba1e\" x=\"118.577695\" y=\"250.857395\" style=\"fill: #ff0000; stroke: #ff0000; stroke-width: 1.5\"/>\n     <use xlink:href=\"#m38d275ba1e\" x=\"214.986832\" y=\"170.506017\" style=\"fill: #ff0000; stroke: #ff0000; stroke-width: 1.5\"/>\n     <use xlink:href=\"#m38d275ba1e\" x=\"64.585479\" y=\"246.596515\" style=\"fill: #ff0000; stroke: #ff0000; stroke-width: 1.5\"/>\n    </g>\n   </g>\n   <g id=\"matplotlib.axis_1\">\n    <g id=\"xtick_1\">\n     <g id=\"line2d_1\">\n      <defs>\n       <path id=\"ma30ff0c360\" d=\"M 0 0 \nL 0 3.5 \n\" style=\"stroke: #ffffff; stroke-width: 0.8\"/>\n      </defs>\n      <g>\n       <use xlink:href=\"#ma30ff0c360\" x=\"56.327401\" y=\"288.430125\" style=\"fill: #ffffff; stroke: #ffffff; stroke-width: 0.8\"/>\n      </g>\n     </g>\n     <g id=\"text_1\">\n      <!-- 5.0 -->\n      <g style=\"fill: #ffffff\" transform=\"translate(48.375839 303.028562) scale(0.1 -0.1)\">\n       <defs>\n        <path id=\"DejaVuSans-35\" d=\"M 691 4666 \nL 3169 4666 \nL 3169 4134 \nL 1269 4134 \nL 1269 2991 \nQ 1406 3038 1543 3061 \nQ 1681 3084 1819 3084 \nQ 2600 3084 3056 2656 \nQ 3513 2228 3513 1497 \nQ 3513 744 3044 326 \nQ 2575 -91 1722 -91 \nQ 1428 -91 1123 -41 \nQ 819 9 494 109 \nL 494 744 \nQ 775 591 1075 516 \nQ 1375 441 1709 441 \nQ 2250 441 2565 725 \nQ 2881 1009 2881 1497 \nQ 2881 1984 2565 2268 \nQ 2250 2553 1709 2553 \nQ 1456 2553 1204 2497 \nQ 953 2441 691 2322 \nL 691 4666 \nz\n\" transform=\"scale(0.015625)\"/>\n        <path id=\"DejaVuSans-2e\" d=\"M 684 794 \nL 1344 794 \nL 1344 0 \nL 684 0 \nL 684 794 \nz\n\" transform=\"scale(0.015625)\"/>\n        <path id=\"DejaVuSans-30\" d=\"M 2034 4250 \nQ 1547 4250 1301 3770 \nQ 1056 3291 1056 2328 \nQ 1056 1369 1301 889 \nQ 1547 409 2034 409 \nQ 2525 409 2770 889 \nQ 3016 1369 3016 2328 \nQ 3016 3291 2770 3770 \nQ 2525 4250 2034 4250 \nz\nM 2034 4750 \nQ 2819 4750 3233 4129 \nQ 3647 3509 3647 2328 \nQ 3647 1150 3233 529 \nQ 2819 -91 2034 -91 \nQ 1250 -91 836 529 \nQ 422 1150 422 2328 \nQ 422 3509 836 4129 \nQ 1250 4750 2034 4750 \nz\n\" transform=\"scale(0.015625)\"/>\n       </defs>\n       <use xlink:href=\"#DejaVuSans-35\"/>\n       <use xlink:href=\"#DejaVuSans-2e\" x=\"63.623047\"/>\n       <use xlink:href=\"#DejaVuSans-30\" x=\"95.410156\"/>\n      </g>\n     </g>\n    </g>\n    <g id=\"xtick_2\">\n     <g id=\"line2d_2\">\n      <g>\n       <use xlink:href=\"#ma30ff0c360\" x=\"103.581223\" y=\"288.430125\" style=\"fill: #ffffff; stroke: #ffffff; stroke-width: 0.8\"/>\n      </g>\n     </g>\n     <g id=\"text_2\">\n      <!-- 7.5 -->\n      <g style=\"fill: #ffffff\" transform=\"translate(95.62966 303.028562) scale(0.1 -0.1)\">\n       <defs>\n        <path id=\"DejaVuSans-37\" d=\"M 525 4666 \nL 3525 4666 \nL 3525 4397 \nL 1831 0 \nL 1172 0 \nL 2766 4134 \nL 525 4134 \nL 525 4666 \nz\n\" transform=\"scale(0.015625)\"/>\n       </defs>\n       <use xlink:href=\"#DejaVuSans-37\"/>\n       <use xlink:href=\"#DejaVuSans-2e\" x=\"63.623047\"/>\n       <use xlink:href=\"#DejaVuSans-35\" x=\"95.410156\"/>\n      </g>\n     </g>\n    </g>\n    <g id=\"xtick_3\">\n     <g id=\"line2d_3\">\n      <g>\n       <use xlink:href=\"#ma30ff0c360\" x=\"150.835044\" y=\"288.430125\" style=\"fill: #ffffff; stroke: #ffffff; stroke-width: 0.8\"/>\n      </g>\n     </g>\n     <g id=\"text_3\">\n      <!-- 10.0 -->\n      <g style=\"fill: #ffffff\" transform=\"translate(139.702232 303.028562) scale(0.1 -0.1)\">\n       <defs>\n        <path id=\"DejaVuSans-31\" d=\"M 794 531 \nL 1825 531 \nL 1825 4091 \nL 703 3866 \nL 703 4441 \nL 1819 4666 \nL 2450 4666 \nL 2450 531 \nL 3481 531 \nL 3481 0 \nL 794 0 \nL 794 531 \nz\n\" transform=\"scale(0.015625)\"/>\n       </defs>\n       <use xlink:href=\"#DejaVuSans-31\"/>\n       <use xlink:href=\"#DejaVuSans-30\" x=\"63.623047\"/>\n       <use xlink:href=\"#DejaVuSans-2e\" x=\"127.246094\"/>\n       <use xlink:href=\"#DejaVuSans-30\" x=\"159.033203\"/>\n      </g>\n     </g>\n    </g>\n    <g id=\"xtick_4\">\n     <g id=\"line2d_4\">\n      <g>\n       <use xlink:href=\"#ma30ff0c360\" x=\"198.088866\" y=\"288.430125\" style=\"fill: #ffffff; stroke: #ffffff; stroke-width: 0.8\"/>\n      </g>\n     </g>\n     <g id=\"text_4\">\n      <!-- 12.5 -->\n      <g style=\"fill: #ffffff\" transform=\"translate(186.956053 303.028562) scale(0.1 -0.1)\">\n       <defs>\n        <path id=\"DejaVuSans-32\" d=\"M 1228 531 \nL 3431 531 \nL 3431 0 \nL 469 0 \nL 469 531 \nQ 828 903 1448 1529 \nQ 2069 2156 2228 2338 \nQ 2531 2678 2651 2914 \nQ 2772 3150 2772 3378 \nQ 2772 3750 2511 3984 \nQ 2250 4219 1831 4219 \nQ 1534 4219 1204 4116 \nQ 875 4013 500 3803 \nL 500 4441 \nQ 881 4594 1212 4672 \nQ 1544 4750 1819 4750 \nQ 2544 4750 2975 4387 \nQ 3406 4025 3406 3419 \nQ 3406 3131 3298 2873 \nQ 3191 2616 2906 2266 \nQ 2828 2175 2409 1742 \nQ 1991 1309 1228 531 \nz\n\" transform=\"scale(0.015625)\"/>\n       </defs>\n       <use xlink:href=\"#DejaVuSans-31\"/>\n       <use xlink:href=\"#DejaVuSans-32\" x=\"63.623047\"/>\n       <use xlink:href=\"#DejaVuSans-2e\" x=\"127.246094\"/>\n       <use xlink:href=\"#DejaVuSans-35\" x=\"159.033203\"/>\n      </g>\n     </g>\n    </g>\n    <g id=\"xtick_5\">\n     <g id=\"line2d_5\">\n      <g>\n       <use xlink:href=\"#ma30ff0c360\" x=\"245.342687\" y=\"288.430125\" style=\"fill: #ffffff; stroke: #ffffff; stroke-width: 0.8\"/>\n      </g>\n     </g>\n     <g id=\"text_5\">\n      <!-- 15.0 -->\n      <g style=\"fill: #ffffff\" transform=\"translate(234.209875 303.028562) scale(0.1 -0.1)\">\n       <use xlink:href=\"#DejaVuSans-31\"/>\n       <use xlink:href=\"#DejaVuSans-35\" x=\"63.623047\"/>\n       <use xlink:href=\"#DejaVuSans-2e\" x=\"127.246094\"/>\n       <use xlink:href=\"#DejaVuSans-30\" x=\"159.033203\"/>\n      </g>\n     </g>\n    </g>\n    <g id=\"xtick_6\">\n     <g id=\"line2d_6\">\n      <g>\n       <use xlink:href=\"#ma30ff0c360\" x=\"292.596509\" y=\"288.430125\" style=\"fill: #ffffff; stroke: #ffffff; stroke-width: 0.8\"/>\n      </g>\n     </g>\n     <g id=\"text_6\">\n      <!-- 17.5 -->\n      <g style=\"fill: #ffffff\" transform=\"translate(281.463696 303.028562) scale(0.1 -0.1)\">\n       <use xlink:href=\"#DejaVuSans-31\"/>\n       <use xlink:href=\"#DejaVuSans-37\" x=\"63.623047\"/>\n       <use xlink:href=\"#DejaVuSans-2e\" x=\"127.246094\"/>\n       <use xlink:href=\"#DejaVuSans-35\" x=\"159.033203\"/>\n      </g>\n     </g>\n    </g>\n    <g id=\"xtick_7\">\n     <g id=\"line2d_7\">\n      <g>\n       <use xlink:href=\"#ma30ff0c360\" x=\"339.85033\" y=\"288.430125\" style=\"fill: #ffffff; stroke: #ffffff; stroke-width: 0.8\"/>\n      </g>\n     </g>\n     <g id=\"text_7\">\n      <!-- 20.0 -->\n      <g style=\"fill: #ffffff\" transform=\"translate(328.717518 303.028562) scale(0.1 -0.1)\">\n       <use xlink:href=\"#DejaVuSans-32\"/>\n       <use xlink:href=\"#DejaVuSans-30\" x=\"63.623047\"/>\n       <use xlink:href=\"#DejaVuSans-2e\" x=\"127.246094\"/>\n       <use xlink:href=\"#DejaVuSans-30\" x=\"159.033203\"/>\n      </g>\n     </g>\n    </g>\n    <g id=\"xtick_8\">\n     <g id=\"line2d_8\">\n      <g>\n       <use xlink:href=\"#ma30ff0c360\" x=\"387.104152\" y=\"288.430125\" style=\"fill: #ffffff; stroke: #ffffff; stroke-width: 0.8\"/>\n      </g>\n     </g>\n     <g id=\"text_8\">\n      <!-- 22.5 -->\n      <g style=\"fill: #ffffff\" transform=\"translate(375.971339 303.028562) scale(0.1 -0.1)\">\n       <use xlink:href=\"#DejaVuSans-32\"/>\n       <use xlink:href=\"#DejaVuSans-32\" x=\"63.623047\"/>\n       <use xlink:href=\"#DejaVuSans-2e\" x=\"127.246094\"/>\n       <use xlink:href=\"#DejaVuSans-35\" x=\"159.033203\"/>\n      </g>\n     </g>\n    </g>\n    <g id=\"text_9\">\n     <!-- Population of City in 10,000s -->\n     <g style=\"fill: #ffffff\" transform=\"translate(147.263125 316.706687) scale(0.1 -0.1)\">\n      <defs>\n       <path id=\"DejaVuSans-50\" d=\"M 1259 4147 \nL 1259 2394 \nL 2053 2394 \nQ 2494 2394 2734 2622 \nQ 2975 2850 2975 3272 \nQ 2975 3691 2734 3919 \nQ 2494 4147 2053 4147 \nL 1259 4147 \nz\nM 628 4666 \nL 2053 4666 \nQ 2838 4666 3239 4311 \nQ 3641 3956 3641 3272 \nQ 3641 2581 3239 2228 \nQ 2838 1875 2053 1875 \nL 1259 1875 \nL 1259 0 \nL 628 0 \nL 628 4666 \nz\n\" transform=\"scale(0.015625)\"/>\n       <path id=\"DejaVuSans-6f\" d=\"M 1959 3097 \nQ 1497 3097 1228 2736 \nQ 959 2375 959 1747 \nQ 959 1119 1226 758 \nQ 1494 397 1959 397 \nQ 2419 397 2687 759 \nQ 2956 1122 2956 1747 \nQ 2956 2369 2687 2733 \nQ 2419 3097 1959 3097 \nz\nM 1959 3584 \nQ 2709 3584 3137 3096 \nQ 3566 2609 3566 1747 \nQ 3566 888 3137 398 \nQ 2709 -91 1959 -91 \nQ 1206 -91 779 398 \nQ 353 888 353 1747 \nQ 353 2609 779 3096 \nQ 1206 3584 1959 3584 \nz\n\" transform=\"scale(0.015625)\"/>\n       <path id=\"DejaVuSans-70\" d=\"M 1159 525 \nL 1159 -1331 \nL 581 -1331 \nL 581 3500 \nL 1159 3500 \nL 1159 2969 \nQ 1341 3281 1617 3432 \nQ 1894 3584 2278 3584 \nQ 2916 3584 3314 3078 \nQ 3713 2572 3713 1747 \nQ 3713 922 3314 415 \nQ 2916 -91 2278 -91 \nQ 1894 -91 1617 61 \nQ 1341 213 1159 525 \nz\nM 3116 1747 \nQ 3116 2381 2855 2742 \nQ 2594 3103 2138 3103 \nQ 1681 3103 1420 2742 \nQ 1159 2381 1159 1747 \nQ 1159 1113 1420 752 \nQ 1681 391 2138 391 \nQ 2594 391 2855 752 \nQ 3116 1113 3116 1747 \nz\n\" transform=\"scale(0.015625)\"/>\n       <path id=\"DejaVuSans-75\" d=\"M 544 1381 \nL 544 3500 \nL 1119 3500 \nL 1119 1403 \nQ 1119 906 1312 657 \nQ 1506 409 1894 409 \nQ 2359 409 2629 706 \nQ 2900 1003 2900 1516 \nL 2900 3500 \nL 3475 3500 \nL 3475 0 \nL 2900 0 \nL 2900 538 \nQ 2691 219 2414 64 \nQ 2138 -91 1772 -91 \nQ 1169 -91 856 284 \nQ 544 659 544 1381 \nz\nM 1991 3584 \nL 1991 3584 \nz\n\" transform=\"scale(0.015625)\"/>\n       <path id=\"DejaVuSans-6c\" d=\"M 603 4863 \nL 1178 4863 \nL 1178 0 \nL 603 0 \nL 603 4863 \nz\n\" transform=\"scale(0.015625)\"/>\n       <path id=\"DejaVuSans-61\" d=\"M 2194 1759 \nQ 1497 1759 1228 1600 \nQ 959 1441 959 1056 \nQ 959 750 1161 570 \nQ 1363 391 1709 391 \nQ 2188 391 2477 730 \nQ 2766 1069 2766 1631 \nL 2766 1759 \nL 2194 1759 \nz\nM 3341 1997 \nL 3341 0 \nL 2766 0 \nL 2766 531 \nQ 2569 213 2275 61 \nQ 1981 -91 1556 -91 \nQ 1019 -91 701 211 \nQ 384 513 384 1019 \nQ 384 1609 779 1909 \nQ 1175 2209 1959 2209 \nL 2766 2209 \nL 2766 2266 \nQ 2766 2663 2505 2880 \nQ 2244 3097 1772 3097 \nQ 1472 3097 1187 3025 \nQ 903 2953 641 2809 \nL 641 3341 \nQ 956 3463 1253 3523 \nQ 1550 3584 1831 3584 \nQ 2591 3584 2966 3190 \nQ 3341 2797 3341 1997 \nz\n\" transform=\"scale(0.015625)\"/>\n       <path id=\"DejaVuSans-74\" d=\"M 1172 4494 \nL 1172 3500 \nL 2356 3500 \nL 2356 3053 \nL 1172 3053 \nL 1172 1153 \nQ 1172 725 1289 603 \nQ 1406 481 1766 481 \nL 2356 481 \nL 2356 0 \nL 1766 0 \nQ 1100 0 847 248 \nQ 594 497 594 1153 \nL 594 3053 \nL 172 3053 \nL 172 3500 \nL 594 3500 \nL 594 4494 \nL 1172 4494 \nz\n\" transform=\"scale(0.015625)\"/>\n       <path id=\"DejaVuSans-69\" d=\"M 603 3500 \nL 1178 3500 \nL 1178 0 \nL 603 0 \nL 603 3500 \nz\nM 603 4863 \nL 1178 4863 \nL 1178 4134 \nL 603 4134 \nL 603 4863 \nz\n\" transform=\"scale(0.015625)\"/>\n       <path id=\"DejaVuSans-6e\" d=\"M 3513 2113 \nL 3513 0 \nL 2938 0 \nL 2938 2094 \nQ 2938 2591 2744 2837 \nQ 2550 3084 2163 3084 \nQ 1697 3084 1428 2787 \nQ 1159 2491 1159 1978 \nL 1159 0 \nL 581 0 \nL 581 3500 \nL 1159 3500 \nL 1159 2956 \nQ 1366 3272 1645 3428 \nQ 1925 3584 2291 3584 \nQ 2894 3584 3203 3211 \nQ 3513 2838 3513 2113 \nz\n\" transform=\"scale(0.015625)\"/>\n       <path id=\"DejaVuSans-20\" transform=\"scale(0.015625)\"/>\n       <path id=\"DejaVuSans-66\" d=\"M 2375 4863 \nL 2375 4384 \nL 1825 4384 \nQ 1516 4384 1395 4259 \nQ 1275 4134 1275 3809 \nL 1275 3500 \nL 2222 3500 \nL 2222 3053 \nL 1275 3053 \nL 1275 0 \nL 697 0 \nL 697 3053 \nL 147 3053 \nL 147 3500 \nL 697 3500 \nL 697 3744 \nQ 697 4328 969 4595 \nQ 1241 4863 1831 4863 \nL 2375 4863 \nz\n\" transform=\"scale(0.015625)\"/>\n       <path id=\"DejaVuSans-43\" d=\"M 4122 4306 \nL 4122 3641 \nQ 3803 3938 3442 4084 \nQ 3081 4231 2675 4231 \nQ 1875 4231 1450 3742 \nQ 1025 3253 1025 2328 \nQ 1025 1406 1450 917 \nQ 1875 428 2675 428 \nQ 3081 428 3442 575 \nQ 3803 722 4122 1019 \nL 4122 359 \nQ 3791 134 3420 21 \nQ 3050 -91 2638 -91 \nQ 1578 -91 968 557 \nQ 359 1206 359 2328 \nQ 359 3453 968 4101 \nQ 1578 4750 2638 4750 \nQ 3056 4750 3426 4639 \nQ 3797 4528 4122 4306 \nz\n\" transform=\"scale(0.015625)\"/>\n       <path id=\"DejaVuSans-79\" d=\"M 2059 -325 \nQ 1816 -950 1584 -1140 \nQ 1353 -1331 966 -1331 \nL 506 -1331 \nL 506 -850 \nL 844 -850 \nQ 1081 -850 1212 -737 \nQ 1344 -625 1503 -206 \nL 1606 56 \nL 191 3500 \nL 800 3500 \nL 1894 763 \nL 2988 3500 \nL 3597 3500 \nL 2059 -325 \nz\n\" transform=\"scale(0.015625)\"/>\n       <path id=\"DejaVuSans-2c\" d=\"M 750 794 \nL 1409 794 \nL 1409 256 \nL 897 -744 \nL 494 -744 \nL 750 256 \nL 750 794 \nz\n\" transform=\"scale(0.015625)\"/>\n       <path id=\"DejaVuSans-73\" d=\"M 2834 3397 \nL 2834 2853 \nQ 2591 2978 2328 3040 \nQ 2066 3103 1784 3103 \nQ 1356 3103 1142 2972 \nQ 928 2841 928 2578 \nQ 928 2378 1081 2264 \nQ 1234 2150 1697 2047 \nL 1894 2003 \nQ 2506 1872 2764 1633 \nQ 3022 1394 3022 966 \nQ 3022 478 2636 193 \nQ 2250 -91 1575 -91 \nQ 1294 -91 989 -36 \nQ 684 19 347 128 \nL 347 722 \nQ 666 556 975 473 \nQ 1284 391 1588 391 \nQ 1994 391 2212 530 \nQ 2431 669 2431 922 \nQ 2431 1156 2273 1281 \nQ 2116 1406 1581 1522 \nL 1381 1569 \nQ 847 1681 609 1914 \nQ 372 2147 372 2553 \nQ 372 3047 722 3315 \nQ 1072 3584 1716 3584 \nQ 2034 3584 2315 3537 \nQ 2597 3491 2834 3397 \nz\n\" transform=\"scale(0.015625)\"/>\n      </defs>\n      <use xlink:href=\"#DejaVuSans-50\"/>\n      <use xlink:href=\"#DejaVuSans-6f\" x=\"56.677734\"/>\n      <use xlink:href=\"#DejaVuSans-70\" x=\"117.859375\"/>\n      <use xlink:href=\"#DejaVuSans-75\" x=\"181.335938\"/>\n      <use xlink:href=\"#DejaVuSans-6c\" x=\"244.714844\"/>\n      <use xlink:href=\"#DejaVuSans-61\" x=\"272.498047\"/>\n      <use xlink:href=\"#DejaVuSans-74\" x=\"333.777344\"/>\n      <use xlink:href=\"#DejaVuSans-69\" x=\"372.986328\"/>\n      <use xlink:href=\"#DejaVuSans-6f\" x=\"400.769531\"/>\n      <use xlink:href=\"#DejaVuSans-6e\" x=\"461.951172\"/>\n      <use xlink:href=\"#DejaVuSans-20\" x=\"525.330078\"/>\n      <use xlink:href=\"#DejaVuSans-6f\" x=\"557.117188\"/>\n      <use xlink:href=\"#DejaVuSans-66\" x=\"618.298828\"/>\n      <use xlink:href=\"#DejaVuSans-20\" x=\"653.503906\"/>\n      <use xlink:href=\"#DejaVuSans-43\" x=\"685.291016\"/>\n      <use xlink:href=\"#DejaVuSans-69\" x=\"755.115234\"/>\n      <use xlink:href=\"#DejaVuSans-74\" x=\"782.898438\"/>\n      <use xlink:href=\"#DejaVuSans-79\" x=\"822.107422\"/>\n      <use xlink:href=\"#DejaVuSans-20\" x=\"881.287109\"/>\n      <use xlink:href=\"#DejaVuSans-69\" x=\"913.074219\"/>\n      <use xlink:href=\"#DejaVuSans-6e\" x=\"940.857422\"/>\n      <use xlink:href=\"#DejaVuSans-20\" x=\"1004.236328\"/>\n      <use xlink:href=\"#DejaVuSans-31\" x=\"1036.023438\"/>\n      <use xlink:href=\"#DejaVuSans-30\" x=\"1099.646484\"/>\n      <use xlink:href=\"#DejaVuSans-2c\" x=\"1163.269531\"/>\n      <use xlink:href=\"#DejaVuSans-30\" x=\"1195.056641\"/>\n      <use xlink:href=\"#DejaVuSans-30\" x=\"1258.679688\"/>\n      <use xlink:href=\"#DejaVuSans-30\" x=\"1322.302734\"/>\n      <use xlink:href=\"#DejaVuSans-73\" x=\"1385.925781\"/>\n     </g>\n    </g>\n   </g>\n   <g id=\"matplotlib.axis_2\">\n    <g id=\"ytick_1\">\n     <g id=\"line2d_9\">\n      <defs>\n       <path id=\"mf19d88798b\" d=\"M 0 0 \nL -3.5 0 \n\" style=\"stroke: #ffffff; stroke-width: 0.8\"/>\n      </defs>\n      <g>\n       <use xlink:href=\"#mf19d88798b\" x=\"40.603125\" y=\"252.160791\" style=\"fill: #ffffff; stroke: #ffffff; stroke-width: 0.8\"/>\n      </g>\n     </g>\n     <g id=\"text_10\">\n      <!-- 0 -->\n      <g style=\"fill: #ffffff\" transform=\"translate(27.240625 255.96001) scale(0.1 -0.1)\">\n       <use xlink:href=\"#DejaVuSans-30\"/>\n      </g>\n     </g>\n    </g>\n    <g id=\"ytick_2\">\n     <g id=\"line2d_10\">\n      <g>\n       <use xlink:href=\"#mf19d88798b\" x=\"40.603125\" y=\"207.073065\" style=\"fill: #ffffff; stroke: #ffffff; stroke-width: 0.8\"/>\n      </g>\n     </g>\n     <g id=\"text_11\">\n      <!-- 5 -->\n      <g style=\"fill: #ffffff\" transform=\"translate(27.240625 210.872284) scale(0.1 -0.1)\">\n       <use xlink:href=\"#DejaVuSans-35\"/>\n      </g>\n     </g>\n    </g>\n    <g id=\"ytick_3\">\n     <g id=\"line2d_11\">\n      <g>\n       <use xlink:href=\"#mf19d88798b\" x=\"40.603125\" y=\"161.985338\" style=\"fill: #ffffff; stroke: #ffffff; stroke-width: 0.8\"/>\n      </g>\n     </g>\n     <g id=\"text_12\">\n      <!-- 10 -->\n      <g style=\"fill: #ffffff\" transform=\"translate(20.878125 165.784557) scale(0.1 -0.1)\">\n       <use xlink:href=\"#DejaVuSans-31\"/>\n       <use xlink:href=\"#DejaVuSans-30\" x=\"63.623047\"/>\n      </g>\n     </g>\n    </g>\n    <g id=\"ytick_4\">\n     <g id=\"line2d_12\">\n      <g>\n       <use xlink:href=\"#mf19d88798b\" x=\"40.603125\" y=\"116.897612\" style=\"fill: #ffffff; stroke: #ffffff; stroke-width: 0.8\"/>\n      </g>\n     </g>\n     <g id=\"text_13\">\n      <!-- 15 -->\n      <g style=\"fill: #ffffff\" transform=\"translate(20.878125 120.696831) scale(0.1 -0.1)\">\n       <use xlink:href=\"#DejaVuSans-31\"/>\n       <use xlink:href=\"#DejaVuSans-35\" x=\"63.623047\"/>\n      </g>\n     </g>\n    </g>\n    <g id=\"ytick_5\">\n     <g id=\"line2d_13\">\n      <g>\n       <use xlink:href=\"#mf19d88798b\" x=\"40.603125\" y=\"71.809885\" style=\"fill: #ffffff; stroke: #ffffff; stroke-width: 0.8\"/>\n      </g>\n     </g>\n     <g id=\"text_14\">\n      <!-- 20 -->\n      <g style=\"fill: #ffffff\" transform=\"translate(20.878125 75.609104) scale(0.1 -0.1)\">\n       <use xlink:href=\"#DejaVuSans-32\"/>\n       <use xlink:href=\"#DejaVuSans-30\" x=\"63.623047\"/>\n      </g>\n     </g>\n    </g>\n    <g id=\"ytick_6\">\n     <g id=\"line2d_14\">\n      <g>\n       <use xlink:href=\"#mf19d88798b\" x=\"40.603125\" y=\"26.722159\" style=\"fill: #ffffff; stroke: #ffffff; stroke-width: 0.8\"/>\n      </g>\n     </g>\n     <g id=\"text_15\">\n      <!-- 25 -->\n      <g style=\"fill: #ffffff\" transform=\"translate(20.878125 30.521378) scale(0.1 -0.1)\">\n       <use xlink:href=\"#DejaVuSans-32\"/>\n       <use xlink:href=\"#DejaVuSans-35\" x=\"63.623047\"/>\n      </g>\n     </g>\n    </g>\n    <g id=\"text_16\">\n     <!-- Profit in $10,000 -->\n     <g style=\"fill: #ffffff\" transform=\"translate(14.798438 196.825687) rotate(-90) scale(0.1 -0.1)\">\n      <defs>\n       <path id=\"DejaVuSans-72\" d=\"M 2631 2963 \nQ 2534 3019 2420 3045 \nQ 2306 3072 2169 3072 \nQ 1681 3072 1420 2755 \nQ 1159 2438 1159 1844 \nL 1159 0 \nL 581 0 \nL 581 3500 \nL 1159 3500 \nL 1159 2956 \nQ 1341 3275 1631 3429 \nQ 1922 3584 2338 3584 \nQ 2397 3584 2469 3576 \nQ 2541 3569 2628 3553 \nL 2631 2963 \nz\n\" transform=\"scale(0.015625)\"/>\n       <path id=\"DejaVuSans-24\" d=\"M 2163 -941 \nL 1850 -941 \nL 1847 0 \nQ 1519 6 1191 76 \nQ 863 147 531 288 \nL 531 850 \nQ 850 650 1176 548 \nQ 1503 447 1850 444 \nL 1850 1869 \nQ 1159 1981 845 2250 \nQ 531 2519 531 2988 \nQ 531 3497 872 3790 \nQ 1213 4084 1850 4128 \nL 1850 4863 \nL 2163 4863 \nL 2163 4138 \nQ 2453 4125 2725 4076 \nQ 2997 4028 3256 3944 \nL 3256 3397 \nQ 2997 3528 2723 3600 \nQ 2450 3672 2163 3684 \nL 2163 2350 \nQ 2872 2241 3206 1959 \nQ 3541 1678 3541 1191 \nQ 3541 663 3186 358 \nQ 2831 53 2163 6 \nL 2163 -941 \nz\nM 1850 2406 \nL 1850 3688 \nQ 1488 3647 1297 3481 \nQ 1106 3316 1106 3041 \nQ 1106 2772 1282 2622 \nQ 1459 2472 1850 2406 \nz\nM 2163 1806 \nL 2163 453 \nQ 2559 506 2761 678 \nQ 2963 850 2963 1131 \nQ 2963 1406 2770 1568 \nQ 2578 1731 2163 1806 \nz\n\" transform=\"scale(0.015625)\"/>\n      </defs>\n      <use xlink:href=\"#DejaVuSans-50\"/>\n      <use xlink:href=\"#DejaVuSans-72\" x=\"58.552734\"/>\n      <use xlink:href=\"#DejaVuSans-6f\" x=\"97.416016\"/>\n      <use xlink:href=\"#DejaVuSans-66\" x=\"158.597656\"/>\n      <use xlink:href=\"#DejaVuSans-69\" x=\"193.802734\"/>\n      <use xlink:href=\"#DejaVuSans-74\" x=\"221.585938\"/>\n      <use xlink:href=\"#DejaVuSans-20\" x=\"260.794922\"/>\n      <use xlink:href=\"#DejaVuSans-69\" x=\"292.582031\"/>\n      <use xlink:href=\"#DejaVuSans-6e\" x=\"320.365234\"/>\n      <use xlink:href=\"#DejaVuSans-20\" x=\"383.744141\"/>\n      <use xlink:href=\"#DejaVuSans-24\" x=\"415.53125\"/>\n      <use xlink:href=\"#DejaVuSans-31\" x=\"479.154297\"/>\n      <use xlink:href=\"#DejaVuSans-30\" x=\"542.777344\"/>\n      <use xlink:href=\"#DejaVuSans-2c\" x=\"606.400391\"/>\n      <use xlink:href=\"#DejaVuSans-30\" x=\"638.1875\"/>\n      <use xlink:href=\"#DejaVuSans-30\" x=\"701.810547\"/>\n      <use xlink:href=\"#DejaVuSans-30\" x=\"765.433594\"/>\n     </g>\n    </g>\n   </g>\n   <g id=\"line2d_15\">\n    <path d=\"M 77.309988 220.632755 \nL 66.301738 226.758279 \nL 122.83432 195.300814 \nL 94.190943 211.239375 \nL 72.578935 223.265342 \nL 120.269382 196.728069 \nL 103.135147 206.262387 \nL 123.958961 194.675009 \nL 84.418853 216.677039 \nL 57.359425 231.734214 \nL 69.760718 224.833535 \nL 229.541009 135.924047 \nL 70.201123 224.588472 \nL 120.751371 196.459867 \nL 68.437611 225.569776 \nL 63.498641 228.318057 \nL 82.135548 217.94758 \nL 58.78649 230.940126 \nL 83.349026 217.272342 \nL 95.468687 210.528377 \nL 78.803209 219.801855 \nL 344.953743 71.702816 \nL 65.59104 227.153745 \nL 81.392718 218.360927 \nL 67.004875 226.367019 \nL 319.909218 85.638802 \nL 204.288567 149.975728 \nL 168.923807 169.654392 \nL 210.866299 146.31556 \nL 381.490398 51.372053 \nL 61.098147 229.653808 \nL 86.369491 215.59161 \nL 136.624875 187.627081 \nL 73.183784 222.928775 \nL 117.0221 198.535014 \nL 111.773145 201.455787 \nL 114.844644 199.746656 \nL 67.787398 225.931585 \nL 204.439779 149.891587 \nL 81.90873 218.073793 \nL 64.018433 228.02882 \nL 91.909529 212.508864 \nL 183.118855 161.755581 \nL 70.951514 224.170918 \nL 109.718549 202.599063 \nL 95.890191 210.293831 \nL 57.654288 231.570138 \nL 71.475086 223.879577 \nL 182.967643 161.839722 \nL 66.564469 226.612082 \nL 104.341064 205.591356 \nL 62.143402 229.072178 \nL 102.142816 206.814568 \nL 105.52997 204.929791 \nL 81.519358 218.290458 \nL 82.012688 218.015945 \nL 80.411729 218.906797 \nL 68.418709 225.580293 \nL 137.79677 186.974982 \nL 140.507249 185.466741 \nL 128.633309 192.073976 \nL 59.716445 230.422654 \nL 364.025385 61.090432 \nL 243.603747 128.09886 \nL 320.173839 85.491554 \nL 98.254772 208.978064 \nL 118.609828 197.651525 \nL 155.295805 177.237672 \nL 65.766825 227.05593 \nL 346.295751 70.956058 \nL 153.405652 178.289445 \nL 100.45302 207.754852 \nL 75.346119 221.725547 \nL 98.400314 208.897077 \nL 56.835852 232.025555 \nL 85.585077 216.028095 \nL 104.310822 205.608185 \nL 57.017307 231.924585 \nL 156.014063 176.837999 \nL 58.363096 231.175723 \nL 70.110396 224.638957 \nL 59.888449 230.326943 \nL 81.952203 218.049602 \nL 146.463121 182.152605 \nL 84.980228 216.364662 \nL 122.807858 195.315539 \nL 135.339571 188.342287 \nL 75.266733 221.769721 \nL 66.163757 226.835058 \nL 57.450152 231.683729 \nL 69.704013 224.865088 \nL 106.163171 204.577448 \nL 72.784962 223.150699 \nL 62.099928 229.096369 \nL 118.577695 197.669406 \nL 214.986832 144.022696 \nL 64.585479 227.713288 \n\" clip-path=\"url(#p365e9848c6)\" style=\"fill: none; stroke: #0000ff; stroke-width: 1.5; stroke-linecap: square\"/>\n   </g>\n   <g id=\"patch_3\">\n    <path d=\"M 40.603125 288.430125 \nL 40.603125 22.318125 \n\" style=\"fill: none; stroke: #ffffff; stroke-width: 0.8; stroke-linejoin: miter; stroke-linecap: square\"/>\n   </g>\n   <g id=\"patch_4\">\n    <path d=\"M 397.723125 288.430125 \nL 397.723125 22.318125 \n\" style=\"fill: none; stroke: #ffffff; stroke-width: 0.8; stroke-linejoin: miter; stroke-linecap: square\"/>\n   </g>\n   <g id=\"patch_5\">\n    <path d=\"M 40.603125 288.430125 \nL 397.723125 288.430125 \n\" style=\"fill: none; stroke: #ffffff; stroke-width: 0.8; stroke-linejoin: miter; stroke-linecap: square\"/>\n   </g>\n   <g id=\"patch_6\">\n    <path d=\"M 40.603125 22.318125 \nL 397.723125 22.318125 \n\" style=\"fill: none; stroke: #ffffff; stroke-width: 0.8; stroke-linejoin: miter; stroke-linecap: square\"/>\n   </g>\n   <g id=\"text_17\">\n    <!-- Profits vs. Population per city -->\n    <g style=\"fill: #ffffff\" transform=\"translate(131.822812 16.318125) scale(0.12 -0.12)\">\n     <defs>\n      <path id=\"DejaVuSans-76\" d=\"M 191 3500 \nL 800 3500 \nL 1894 563 \nL 2988 3500 \nL 3597 3500 \nL 2284 0 \nL 1503 0 \nL 191 3500 \nz\n\" transform=\"scale(0.015625)\"/>\n      <path id=\"DejaVuSans-65\" d=\"M 3597 1894 \nL 3597 1613 \nL 953 1613 \nQ 991 1019 1311 708 \nQ 1631 397 2203 397 \nQ 2534 397 2845 478 \nQ 3156 559 3463 722 \nL 3463 178 \nQ 3153 47 2828 -22 \nQ 2503 -91 2169 -91 \nQ 1331 -91 842 396 \nQ 353 884 353 1716 \nQ 353 2575 817 3079 \nQ 1281 3584 2069 3584 \nQ 2775 3584 3186 3129 \nQ 3597 2675 3597 1894 \nz\nM 3022 2063 \nQ 3016 2534 2758 2815 \nQ 2500 3097 2075 3097 \nQ 1594 3097 1305 2825 \nQ 1016 2553 972 2059 \nL 3022 2063 \nz\n\" transform=\"scale(0.015625)\"/>\n      <path id=\"DejaVuSans-63\" d=\"M 3122 3366 \nL 3122 2828 \nQ 2878 2963 2633 3030 \nQ 2388 3097 2138 3097 \nQ 1578 3097 1268 2742 \nQ 959 2388 959 1747 \nQ 959 1106 1268 751 \nQ 1578 397 2138 397 \nQ 2388 397 2633 464 \nQ 2878 531 3122 666 \nL 3122 134 \nQ 2881 22 2623 -34 \nQ 2366 -91 2075 -91 \nQ 1284 -91 818 406 \nQ 353 903 353 1747 \nQ 353 2603 823 3093 \nQ 1294 3584 2113 3584 \nQ 2378 3584 2631 3529 \nQ 2884 3475 3122 3366 \nz\n\" transform=\"scale(0.015625)\"/>\n     </defs>\n     <use xlink:href=\"#DejaVuSans-50\"/>\n     <use xlink:href=\"#DejaVuSans-72\" x=\"58.552734\"/>\n     <use xlink:href=\"#DejaVuSans-6f\" x=\"97.416016\"/>\n     <use xlink:href=\"#DejaVuSans-66\" x=\"158.597656\"/>\n     <use xlink:href=\"#DejaVuSans-69\" x=\"193.802734\"/>\n     <use xlink:href=\"#DejaVuSans-74\" x=\"221.585938\"/>\n     <use xlink:href=\"#DejaVuSans-73\" x=\"260.794922\"/>\n     <use xlink:href=\"#DejaVuSans-20\" x=\"312.894531\"/>\n     <use xlink:href=\"#DejaVuSans-76\" x=\"344.681641\"/>\n     <use xlink:href=\"#DejaVuSans-73\" x=\"403.861328\"/>\n     <use xlink:href=\"#DejaVuSans-2e\" x=\"455.960938\"/>\n     <use xlink:href=\"#DejaVuSans-20\" x=\"487.748047\"/>\n     <use xlink:href=\"#DejaVuSans-50\" x=\"519.535156\"/>\n     <use xlink:href=\"#DejaVuSans-6f\" x=\"576.212891\"/>\n     <use xlink:href=\"#DejaVuSans-70\" x=\"637.394531\"/>\n     <use xlink:href=\"#DejaVuSans-75\" x=\"700.871094\"/>\n     <use xlink:href=\"#DejaVuSans-6c\" x=\"764.25\"/>\n     <use xlink:href=\"#DejaVuSans-61\" x=\"792.033203\"/>\n     <use xlink:href=\"#DejaVuSans-74\" x=\"853.3125\"/>\n     <use xlink:href=\"#DejaVuSans-69\" x=\"892.521484\"/>\n     <use xlink:href=\"#DejaVuSans-6f\" x=\"920.304688\"/>\n     <use xlink:href=\"#DejaVuSans-6e\" x=\"981.486328\"/>\n     <use xlink:href=\"#DejaVuSans-20\" x=\"1044.865234\"/>\n     <use xlink:href=\"#DejaVuSans-70\" x=\"1076.652344\"/>\n     <use xlink:href=\"#DejaVuSans-65\" x=\"1140.128906\"/>\n     <use xlink:href=\"#DejaVuSans-72\" x=\"1201.652344\"/>\n     <use xlink:href=\"#DejaVuSans-20\" x=\"1242.765625\"/>\n     <use xlink:href=\"#DejaVuSans-63\" x=\"1274.552734\"/>\n     <use xlink:href=\"#DejaVuSans-69\" x=\"1329.533203\"/>\n     <use xlink:href=\"#DejaVuSans-74\" x=\"1357.316406\"/>\n     <use xlink:href=\"#DejaVuSans-79\" x=\"1396.525391\"/>\n    </g>\n   </g>\n  </g>\n </g>\n <defs>\n  <clipPath id=\"p365e9848c6\">\n   <rect x=\"40.603125\" y=\"22.318125\" width=\"357.12\" height=\"266.112\"/>\n  </clipPath>\n </defs>\n</svg>\n",
      "text/plain": [
       "<Figure size 640x480 with 1 Axes>"
      ]
     },
     "metadata": {},
     "output_type": "display_data"
    }
   ],
   "source": [
    "# Plot the linear fit\n",
    "plt.plot(x_train, predicted, c = \"b\")\n",
    "\n",
    "# Create a scatter plot of the data. \n",
    "plt.scatter(x_train, y_train, marker='x', c='r') \n",
    "\n",
    "# Set the title\n",
    "plt.title(\"Profits vs. Population per city\")\n",
    "# Set the y-axis label\n",
    "plt.ylabel('Profit in $10,000')\n",
    "# Set the x-axis label\n",
    "plt.xlabel('Population of City in 10,000s')"
   ]
  },
  {
   "cell_type": "markdown",
   "metadata": {},
   "source": [
    "Your final values of $w,b$ can also be used to make predictions on profits. Let's predict what the profit would be in areas of 35,000 and 70,000 people. \n",
    "\n",
    "- The model takes in population of a city in 10,000s as input. \n",
    "\n",
    "- Therefore, 35,000 people can be translated into an input to the model as `np.array([3.5])`\n",
    "\n",
    "- Similarly, 70,000 people can be translated into an input to the model as `np.array([7.])`\n"
   ]
  },
  {
   "cell_type": "code",
   "execution_count": 40,
   "metadata": {
    "deletable": false,
    "editable": false
   },
   "outputs": [
    {
     "name": "stdout",
     "output_type": "stream",
     "text": [
      "For population = 35,000, we predict a profit of $4519.77\n",
      "For population = 70,000, we predict a profit of $45342.45\n"
     ]
    }
   ],
   "source": [
    "predict1 = 3.5 * w + b\n",
    "print('For population = 35,000, we predict a profit of $%.2f' % (predict1*10000))\n",
    "\n",
    "predict2 = 7.0 * w + b\n",
    "print('For population = 70,000, we predict a profit of $%.2f' % (predict2*10000))"
   ]
  },
  {
   "cell_type": "markdown",
   "metadata": {},
   "source": [
    "**Expected Output**:\n",
    "<table>\n",
    "  <tr>\n",
    "    <td> <b> For population = 35,000, we predict a profit of<b></td>\n",
    "    <td> $4519.77 </td> \n",
    "  </tr>\n",
    "  \n",
    "  <tr>\n",
    "    <td> <b> For population = 70,000, we predict a profit of<b></td>\n",
    "    <td> $45342.45 </td> \n",
    "  </tr>\n",
    "</table>"
   ]
  },
  {
   "cell_type": "markdown",
   "metadata": {},
   "source": [
    "**Congratulations on completing this practice lab on linear regression! Next week, you will create models to solve a different type of problem: classification. See you there!**"
   ]
  },
  {
   "cell_type": "markdown",
   "metadata": {},
   "source": [
    "<details>\n",
    "  <summary><font size=\"2\" color=\"darkgreen\"><b>Please click here if you want to experiment with any of the non-graded code.</b></font></summary>\n",
    "    <p><i><b>Important Note: Please only do this when you've already passed the assignment to avoid problems with the autograder.</b></i>\n",
    "    <ol>\n",
    "        <li> On the notebook’s menu, click “View” > “Cell Toolbar” > “Edit Metadata”</li>\n",
    "        <li> Hit the “Edit Metadata” button next to the code cell which you want to lock/unlock</li>\n",
    "        <li> Set the attribute value for “editable” to:\n",
    "            <ul>\n",
    "                <li> “true” if you want to unlock it </li>\n",
    "                <li> “false” if you want to lock it </li>\n",
    "            </ul>\n",
    "        </li>\n",
    "        <li> On the notebook’s menu, click “View” > “Cell Toolbar” > “None” </li>\n",
    "    </ol>\n",
    "    <p> Here's a short demo of how to do the steps above: \n",
    "        <br>\n",
    "        <img src=\"https://drive.google.com/uc?export=view&id=14Xy_Mb17CZVgzVAgq7NCjMVBvSae3xO1\" align=\"center\" alt=\"unlock_cells.gif\">\n",
    "</details>"
   ]
  }
 ],
 "metadata": {
  "kernelspec": {
   "display_name": "Python 3.12.1 64-bit",
   "language": "python",
   "name": "python3"
  },
  "language_info": {
   "codemirror_mode": {
    "name": "ipython",
    "version": 3
   },
   "file_extension": ".py",
   "mimetype": "text/x-python",
   "name": "python",
   "nbconvert_exporter": "python",
   "pygments_lexer": "ipython3",
   "version": "3.12.1"
  },
  "vscode": {
   "interpreter": {
    "hash": "1e6d7caa1a7958a590c4bd068b926f535318dae87793fdcbfa8672193aae8b74"
   }
  }
 },
 "nbformat": 4,
 "nbformat_minor": 4
}
