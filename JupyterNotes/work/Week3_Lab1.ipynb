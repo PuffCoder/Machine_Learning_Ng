{
 "cells": [
  {
   "cell_type": "code",
   "execution_count": null,
   "id": "bc5d97cb-4a9e-4dbc-8301-3254dcfe1b5e",
   "metadata": {},
   "outputs": [
    {
     "ename": "",
     "evalue": "",
     "output_type": "error",
     "traceback": [
      "\u001b[1;31mFailed to start the Kernel. \n",
      "\u001b[1;31mTraceback (most recent call last):\n",
      "\u001b[1;31m  File \"/Users/david/.vscode/extensions/ms-toolsai.jupyter-2022.9.1303220346/pythonFiles/vscode_datascience_helpers/jupyter_daemon.py\", line 158, in _start_notebook\n",
      "\u001b[1;31m    from notebook import notebookapp as app\n",
      "\u001b[1;31mImportError: cannot import name 'notebookapp' from 'notebook' (/Users/david/Library/Python/3.11/lib/python/site-packages/notebook/__init__.py)\n",
      "\u001b[1;31m\n",
      "\u001b[1;31mDuring handling of the above exception, another exception occurred:\n",
      "\u001b[1;31m\n",
      "\u001b[1;31mTraceback (most recent call last):\n",
      "\u001b[1;31m  File \"/Users/david/.vscode/extensions/ms-toolsai.jupyter-2022.9.1303220346/pythonFiles/vscode_datascience_helpers/daemon/daemon_python.py\", line 54, in _decorator\n",
      "\u001b[1;31m    return func(self, *args, **kwargs)\n",
      "\u001b[1;31m           ^^^^^^^^^^^^^^^^^^^^^^^^^^^\n",
      "\u001b[1;31m  File \"/Users/david/.vscode/extensions/ms-toolsai.jupyter-2022.9.1303220346/pythonFiles/vscode_datascience_helpers/jupyter_daemon.py\", line 111, in m_exec_module_observable\n",
      "\u001b[1;31m    self._start_notebook(args, cwd, env)\n",
      "\u001b[1;31m  File \"/Users/david/.vscode/extensions/ms-toolsai.jupyter-2022.9.1303220346/pythonFiles/vscode_datascience_helpers/jupyter_daemon.py\", line 160, in _start_notebook\n",
      "\u001b[1;31m    from notebook import app as app\n",
      "\u001b[1;31m  File \"/Users/david/Library/Python/3.11/lib/python/site-packages/notebook/app.py\", line 17, in <module>\n",
      "\u001b[1;31m    from jupyterlab.commands import (  # type:ignore\n",
      "\u001b[1;31mModuleNotFoundError: No module named 'jupyterlab'\n",
      "\u001b[1;31m\n",
      "\u001b[1;31mFailed to run jupyter as observable with args notebook --no-browser --notebook-dir=\"/Users/david/HProject/Machine_Learning_Ng/MyNotes_ML/JupyterNotes/work\" --config=/var/folders/8v/2l8mtcxj4sjf0ld4nx91607h0000gn/T/22845e31-095e-494e-8ce0-253d6c3ed702/jupyter_notebook_config.py --NotebookApp.iopub_data_rate_limit=10000000000.0. \n",
      "\u001b[1;31mView Jupyter <a href='command:jupyter.viewOutput'>log</a> for further details."
     ]
    }
   ],
   "source": [
    "import numpy as np\n",
    "# %matplotlib widget\n",
    "# import matplotlib.pyplot as plt\n",
    "# from plt_one_addpt_onclick import plt_one_addpt_onclick\n",
    "# from lab_utils_common import draw_vthresh\n",
    "# plt.style.use('./deeplearning.mplstyle')"
   ]
  },
  {
   "cell_type": "markdown",
   "id": "d341388c-6e69-4109-82af-717eb7c9d922",
   "metadata": {},
   "source": [
    "# Dataset\n"
   ]
  },
  {
   "cell_type": "code",
   "execution_count": null,
   "id": "9047ef2b-d4d9-49df-8c37-725092ecb524",
   "metadata": {},
   "outputs": [
    {
     "ename": "",
     "evalue": "",
     "output_type": "error",
     "traceback": [
      "\u001b[1;31mFailed to start the Kernel. \n",
      "\u001b[1;31mTraceback (most recent call last):\n",
      "\u001b[1;31m  File \"/Users/david/.vscode/extensions/ms-toolsai.jupyter-2022.9.1303220346/pythonFiles/vscode_datascience_helpers/jupyter_daemon.py\", line 158, in _start_notebook\n",
      "\u001b[1;31m    from notebook import notebookapp as app\n",
      "\u001b[1;31mImportError: cannot import name 'notebookapp' from 'notebook' (/Users/david/Library/Python/3.11/lib/python/site-packages/notebook/__init__.py)\n",
      "\u001b[1;31m\n",
      "\u001b[1;31mDuring handling of the above exception, another exception occurred:\n",
      "\u001b[1;31m\n",
      "\u001b[1;31mTraceback (most recent call last):\n",
      "\u001b[1;31m  File \"/Users/david/.vscode/extensions/ms-toolsai.jupyter-2022.9.1303220346/pythonFiles/vscode_datascience_helpers/daemon/daemon_python.py\", line 54, in _decorator\n",
      "\u001b[1;31m    return func(self, *args, **kwargs)\n",
      "\u001b[1;31m           ^^^^^^^^^^^^^^^^^^^^^^^^^^^\n",
      "\u001b[1;31m  File \"/Users/david/.vscode/extensions/ms-toolsai.jupyter-2022.9.1303220346/pythonFiles/vscode_datascience_helpers/jupyter_daemon.py\", line 111, in m_exec_module_observable\n",
      "\u001b[1;31m    self._start_notebook(args, cwd, env)\n",
      "\u001b[1;31m  File \"/Users/david/.vscode/extensions/ms-toolsai.jupyter-2022.9.1303220346/pythonFiles/vscode_datascience_helpers/jupyter_daemon.py\", line 160, in _start_notebook\n",
      "\u001b[1;31m    from notebook import app as app\n",
      "\u001b[1;31m  File \"/Users/david/Library/Python/3.11/lib/python/site-packages/notebook/app.py\", line 17, in <module>\n",
      "\u001b[1;31m    from jupyterlab.commands import (  # type:ignore\n",
      "\u001b[1;31mModuleNotFoundError: No module named 'jupyterlab'\n",
      "\u001b[1;31m\n",
      "\u001b[1;31mFailed to run jupyter as observable with args notebook --no-browser --notebook-dir=\"/Users/david/HProject/Machine_Learning_Ng/MyNotes_ML/JupyterNotes/work\" --config=/var/folders/8v/2l8mtcxj4sjf0ld4nx91607h0000gn/T/bd9015b9-b7a0-4f22-b413-d74715e4066a/jupyter_notebook_config.py --NotebookApp.iopub_data_rate_limit=10000000000.0. \n",
      "\u001b[1;31mView Jupyter <a href='command:jupyter.viewOutput'>log</a> for further details."
     ]
    }
   ],
   "source": [
    "X = np.array([[0.5, 1.5], [1,1], [1.5, 0.5], [3, 0.5], [2, 2], [1, 2.5]])\n",
    "y = np.array([0, 0, 0, 1, 1, 1]).reshape(-1,1) "
   ]
  },
  {
   "cell_type": "markdown",
   "id": "3043c284-fa95-4566-bbe7-2f2c523dd8b3",
   "metadata": {},
   "source": [
    "## Plot data"
   ]
  },
  {
   "cell_type": "code",
   "execution_count": 3,
   "id": "52071bb3-bc9a-4418-9b36-9eeaabf949ac",
   "metadata": {},
   "outputs": [
    {
     "ename": "NameError",
     "evalue": "name 'plot_data' is not defined",
     "output_type": "error",
     "traceback": [
      "\u001b[0;31m---------------------------------------------------------------------------\u001b[0m",
      "\u001b[0;31mNameError\u001b[0m                                 Traceback (most recent call last)",
      "Cell \u001b[0;32mIn[3], line 2\u001b[0m\n\u001b[1;32m      1\u001b[0m fig,ax \u001b[38;5;241m=\u001b[39m plt\u001b[38;5;241m.\u001b[39msubplots(\u001b[38;5;241m1\u001b[39m,\u001b[38;5;241m1\u001b[39m,figsize\u001b[38;5;241m=\u001b[39m(\u001b[38;5;241m4\u001b[39m,\u001b[38;5;241m4\u001b[39m))\n\u001b[0;32m----> 2\u001b[0m \u001b[43mplot_data\u001b[49m(X, y, ax)\n\u001b[1;32m      4\u001b[0m ax\u001b[38;5;241m.\u001b[39maxis([\u001b[38;5;241m0\u001b[39m, \u001b[38;5;241m4\u001b[39m, \u001b[38;5;241m0\u001b[39m, \u001b[38;5;241m3.5\u001b[39m])\n\u001b[1;32m      5\u001b[0m ax\u001b[38;5;241m.\u001b[39mset_ylabel(\u001b[38;5;124m'\u001b[39m\u001b[38;5;124m$x_1$\u001b[39m\u001b[38;5;124m'\u001b[39m)\n",
      "\u001b[0;31mNameError\u001b[0m: name 'plot_data' is not defined"
     ]
    },
    {
     "data": {
      "application/vnd.jupyter.widget-view+json": {
       "model_id": "441df935958f438ea9bf67a0a385d9c6",
       "version_major": 2,
       "version_minor": 0
      },
      "image/png": "[encoded data removed]",
      "text/html": [
       "\n",
       "            <div style=\"display: inline-block;\">\n",
       "                <div class=\"jupyter-widgets widget-label\" style=\"text-align: center;\">\n",
       "                    Figure\n",
       "                </div>\n",
       "                <img src='data:image/png;base64,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' width=400.0/>\n",
       "            </div>\n",
       "        "
      ],
      "text/plain": [
       "Canvas(toolbar=Toolbar(toolitems=[('Home', 'Reset original view', 'home', 'home'), ('Back', 'Back to previous …"
      ]
     },
     "metadata": {},
     "output_type": "display_data"
    }
   ],
   "source": [
    "fig,ax = plt.subplots(1,1,figsize=(4,4))\n",
    "plot_data(X, y, ax)\n",
    "\n",
    "ax.axis([0, 4, 0, 3.5])\n",
    "ax.set_ylabel('$x_1$')\n",
    "ax.set_xlabel('$x_0$')\n",
    "plt.show()"
   ]
  },
  {
   "cell_type": "code",
   "execution_count": 4,
   "id": "230ab92e-0e6f-4768-b3ee-877152fa68d7",
   "metadata": {},
   "outputs": [
    {
     "name": "stdout",
     "output_type": "stream",
     "text": [
      "zsh:1: command not found: python\n",
      "python not found\n",
      "python not found\n"
     ]
    }
   ],
   "source": [
    "!python --version\n",
    "!which python  # 在 Unix/Linux 系统中\n",
    "!where python  # 在 Windows 系统中\n"
   ]
  },
  {
   "cell_type": "code",
   "execution_count": null,
   "id": "cd2361bd-8921-4e53-886d-ee763013686f",
   "metadata": {},
   "outputs": [],
   "source": []
  }
 ],
 "metadata": {
  "kernelspec": {
   "display_name": "Python 3.11.6 64-bit",
   "language": "python",
   "name": "python3"
  },
  "language_info": {
   "codemirror_mode": {
    "name": "ipython",
    "version": 3
   },
   "file_extension": ".py",
   "mimetype": "text/x-python",
   "name": "python",
   "nbconvert_exporter": "python",
   "pygments_lexer": "ipython3",
   "version": "3.11.6"
  },
  "vscode": {
   "interpreter": {
    "hash": "b0fa6594d8f4cbf19f97940f81e996739fb7646882a419484c72d19e05852a7e"
   }
  }
 },
 "nbformat": 4,
 "nbformat_minor": 5
}
