{
 "cells": [
  {
   "cell_type": "markdown",
   "metadata": {},
   "source": [
    "## 1 - Packages"
   ]
  },
  {
   "cell_type": "code",
   "execution_count": 1,
   "metadata": {},
   "outputs": [],
   "source": [
    "import numpy as np\n",
    "import matplotlib.pyplot as plt\n",
    "from utils import *\n",
    "import copy\n",
    "import math\n",
    "\n",
    "%matplotlib inline"
   ]
  },
  {
   "cell_type": "markdown",
   "metadata": {},
   "source": [
    "## 2 - Logistic Regression"
   ]
  },
  {
   "cell_type": "code",
   "execution_count": 2,
   "metadata": {},
   "outputs": [],
   "source": [
    "# load dataset\n",
    "X_train, y_train = load_data(\"data/ex2data1.txt\")"
   ]
  },
  {
   "cell_type": "code",
   "execution_count": 3,
   "metadata": {},
   "outputs": [
    {
     "name": "stdout",
     "output_type": "stream",
     "text": [
      "First five elements in X_train are:\n",
      " [[34.62365962 78.02469282]\n",
      " [30.28671077 43.89499752]\n",
      " [35.84740877 72.90219803]\n",
      " [60.18259939 86.3085521 ]\n",
      " [79.03273605 75.34437644]]\n",
      "Type of X_train: <class 'numpy.ndarray'>\n"
     ]
    }
   ],
   "source": [
    "print(\"First five elements in X_train are:\\n\", X_train[:5])\n",
    "print(\"Type of X_train:\",type(X_train))"
   ]
  },
  {
   "cell_type": "code",
   "execution_count": 4,
   "metadata": {},
   "outputs": [
    {
     "name": "stdout",
     "output_type": "stream",
     "text": [
      "First five elements in y_train are:\n",
      " [0. 0. 0. 1. 1.]\n",
      "Type of y_train: <class 'numpy.ndarray'>\n"
     ]
    }
   ],
   "source": [
    "print(\"First five elements in y_train are:\\n\", y_train[:5])\n",
    "print(\"Type of y_train:\",type(y_train))"
   ]
  },
  {
   "cell_type": "code",
   "execution_count": 5,
   "metadata": {},
   "outputs": [
    {
     "name": "stdout",
     "output_type": "stream",
     "text": [
      "The shape of X_train is: (100, 2)\n",
      "The shape of y_train is: (100,)\n",
      "We have m = 100 training examples\n"
     ]
    }
   ],
   "source": [
    "print ('The shape of X_train is: ' + str(X_train.shape))\n",
    "print ('The shape of y_train is: ' + str(y_train.shape))\n",
    "print ('We have m = %d training examples' % (len(y_train)))"
   ]
  },
  {
   "cell_type": "code",
   "execution_count": 6,
   "metadata": {},
   "outputs": [
    {
     "data": {
      "image/png": "[encoded data removed]",
      "image/svg+xml": "<?xml version=\"1.0\" encoding=\"utf-8\" standalone=\"no\"?>\n<!DOCTYPE svg PUBLIC \"-//W3C//DTD SVG 1.1//EN\"\n  \"http://www.w3.org/Graphics/SVG/1.1/DTD/svg11.dtd\">\n<svg xmlns:xlink=\"http://www.w3.org/1999/xlink\" width=\"411.285625pt\" height=\"310.86825pt\" viewBox=\"0 0 411.285625 310.86825\" xmlns=\"http://www.w3.org/2000/svg\" version=\"1.1\">\n <metadata>\n  <rdf:RDF xmlns:dc=\"http://purl.org/dc/elements/1.1/\" xmlns:cc=\"http://creativecommons.org/ns#\" xmlns:rdf=\"http://www.w3.org/1999/02/22-rdf-syntax-ns#\">\n   <cc:Work>\n    <dc:type rdf:resource=\"http://purl.org/dc/dcmitype/StillImage\"/>\n    <dc:date>2024-01-01T16:20:01.911167</dc:date>\n    <dc:format>image/svg+xml</dc:format>\n    <dc:creator>\n     <cc:Agent>\n      <dc:title>Matplotlib v3.8.2, https://matplotlib.org/</dc:title>\n     </cc:Agent>\n    </dc:creator>\n   </cc:Work>\n  </rdf:RDF>\n </metadata>\n <defs>\n  <style type=\"text/css\">*{stroke-linejoin: round; stroke-linecap: butt}</style>\n </defs>\n <g id=\"figure_1\">\n  <g id=\"patch_1\">\n   <path d=\"M 0 310.86825 \nL 411.285625 310.86825 \nL 411.285625 0 \nL 0 0 \nz\n\"/>\n  </g>\n  <g id=\"axes_1\">\n   <g id=\"patch_2\">\n    <path d=\"M 46.965625 273.312 \nL 404.085625 273.312 \nL 404.085625 7.2 \nL 46.965625 7.2 \nz\n\"/>\n   </g>\n   <g id=\"matplotlib.axis_1\">\n    <g id=\"xtick_1\">\n     <g id=\"line2d_1\">\n      <defs>\n       <path id=\"m76023ac1ff\" d=\"M 0 0 \nL 0 3.5 \n\" style=\"stroke: #ffffff; stroke-width: 0.8\"/>\n      </defs>\n      <g>\n       <use xlink:href=\"#m76023ac1ff\" x=\"62.924635\" y=\"273.312\" style=\"fill: #ffffff; stroke: #ffffff; stroke-width: 0.8\"/>\n      </g>\n     </g>\n     <g id=\"text_1\">\n      <!-- 30 -->\n      <g style=\"fill: #ffffff\" transform=\"translate(56.562135 287.910437) scale(0.1 -0.1)\">\n       <defs>\n        <path id=\"DejaVuSans-33\" d=\"M 2597 2516 \nQ 3050 2419 3304 2112 \nQ 3559 1806 3559 1356 \nQ 3559 666 3084 287 \nQ 2609 -91 1734 -91 \nQ 1441 -91 1130 -33 \nQ 819 25 488 141 \nL 488 750 \nQ 750 597 1062 519 \nQ 1375 441 1716 441 \nQ 2309 441 2620 675 \nQ 2931 909 2931 1356 \nQ 2931 1769 2642 2001 \nQ 2353 2234 1838 2234 \nL 1294 2234 \nL 1294 2753 \nL 1863 2753 \nQ 2328 2753 2575 2939 \nQ 2822 3125 2822 3475 \nQ 2822 3834 2567 4026 \nQ 2313 4219 1838 4219 \nQ 1578 4219 1281 4162 \nQ 984 4106 628 3988 \nL 628 4550 \nQ 988 4650 1302 4700 \nQ 1616 4750 1894 4750 \nQ 2613 4750 3031 4423 \nQ 3450 4097 3450 3541 \nQ 3450 3153 3228 2886 \nQ 3006 2619 2597 2516 \nz\n\" transform=\"scale(0.015625)\"/>\n        <path id=\"DejaVuSans-30\" d=\"M 2034 4250 \nQ 1547 4250 1301 3770 \nQ 1056 3291 1056 2328 \nQ 1056 1369 1301 889 \nQ 1547 409 2034 409 \nQ 2525 409 2770 889 \nQ 3016 1369 3016 2328 \nQ 3016 3291 2770 3770 \nQ 2525 4250 2034 4250 \nz\nM 2034 4750 \nQ 2819 4750 3233 4129 \nQ 3647 3509 3647 2328 \nQ 3647 1150 3233 529 \nQ 2819 -91 2034 -91 \nQ 1250 -91 836 529 \nQ 422 1150 422 2328 \nQ 422 3509 836 4129 \nQ 1250 4750 2034 4750 \nz\n\" transform=\"scale(0.015625)\"/>\n       </defs>\n       <use xlink:href=\"#DejaVuSans-33\"/>\n       <use xlink:href=\"#DejaVuSans-30\" x=\"63.623047\"/>\n      </g>\n     </g>\n    </g>\n    <g id=\"xtick_2\">\n     <g id=\"line2d_2\">\n      <g>\n       <use xlink:href=\"#m76023ac1ff\" x=\"109.457391\" y=\"273.312\" style=\"fill: #ffffff; stroke: #ffffff; stroke-width: 0.8\"/>\n      </g>\n     </g>\n     <g id=\"text_2\">\n      <!-- 40 -->\n      <g style=\"fill: #ffffff\" transform=\"translate(103.094891 287.910437) scale(0.1 -0.1)\">\n       <defs>\n        <path id=\"DejaVuSans-34\" d=\"M 2419 4116 \nL 825 1625 \nL 2419 1625 \nL 2419 4116 \nz\nM 2253 4666 \nL 3047 4666 \nL 3047 1625 \nL 3713 1625 \nL 3713 1100 \nL 3047 1100 \nL 3047 0 \nL 2419 0 \nL 2419 1100 \nL 313 1100 \nL 313 1709 \nL 2253 4666 \nz\n\" transform=\"scale(0.015625)\"/>\n       </defs>\n       <use xlink:href=\"#DejaVuSans-34\"/>\n       <use xlink:href=\"#DejaVuSans-30\" x=\"63.623047\"/>\n      </g>\n     </g>\n    </g>\n    <g id=\"xtick_3\">\n     <g id=\"line2d_3\">\n      <g>\n       <use xlink:href=\"#m76023ac1ff\" x=\"155.990146\" y=\"273.312\" style=\"fill: #ffffff; stroke: #ffffff; stroke-width: 0.8\"/>\n      </g>\n     </g>\n     <g id=\"text_3\">\n      <!-- 50 -->\n      <g style=\"fill: #ffffff\" transform=\"translate(149.627646 287.910437) scale(0.1 -0.1)\">\n       <defs>\n        <path id=\"DejaVuSans-35\" d=\"M 691 4666 \nL 3169 4666 \nL 3169 4134 \nL 1269 4134 \nL 1269 2991 \nQ 1406 3038 1543 3061 \nQ 1681 3084 1819 3084 \nQ 2600 3084 3056 2656 \nQ 3513 2228 3513 1497 \nQ 3513 744 3044 326 \nQ 2575 -91 1722 -91 \nQ 1428 -91 1123 -41 \nQ 819 9 494 109 \nL 494 744 \nQ 775 591 1075 516 \nQ 1375 441 1709 441 \nQ 2250 441 2565 725 \nQ 2881 1009 2881 1497 \nQ 2881 1984 2565 2268 \nQ 2250 2553 1709 2553 \nQ 1456 2553 1204 2497 \nQ 953 2441 691 2322 \nL 691 4666 \nz\n\" transform=\"scale(0.015625)\"/>\n       </defs>\n       <use xlink:href=\"#DejaVuSans-35\"/>\n       <use xlink:href=\"#DejaVuSans-30\" x=\"63.623047\"/>\n      </g>\n     </g>\n    </g>\n    <g id=\"xtick_4\">\n     <g id=\"line2d_4\">\n      <g>\n       <use xlink:href=\"#m76023ac1ff\" x=\"202.522901\" y=\"273.312\" style=\"fill: #ffffff; stroke: #ffffff; stroke-width: 0.8\"/>\n      </g>\n     </g>\n     <g id=\"text_4\">\n      <!-- 60 -->\n      <g style=\"fill: #ffffff\" transform=\"translate(196.160401 287.910437) scale(0.1 -0.1)\">\n       <defs>\n        <path id=\"DejaVuSans-36\" d=\"M 2113 2584 \nQ 1688 2584 1439 2293 \nQ 1191 2003 1191 1497 \nQ 1191 994 1439 701 \nQ 1688 409 2113 409 \nQ 2538 409 2786 701 \nQ 3034 994 3034 1497 \nQ 3034 2003 2786 2293 \nQ 2538 2584 2113 2584 \nz\nM 3366 4563 \nL 3366 3988 \nQ 3128 4100 2886 4159 \nQ 2644 4219 2406 4219 \nQ 1781 4219 1451 3797 \nQ 1122 3375 1075 2522 \nQ 1259 2794 1537 2939 \nQ 1816 3084 2150 3084 \nQ 2853 3084 3261 2657 \nQ 3669 2231 3669 1497 \nQ 3669 778 3244 343 \nQ 2819 -91 2113 -91 \nQ 1303 -91 875 529 \nQ 447 1150 447 2328 \nQ 447 3434 972 4092 \nQ 1497 4750 2381 4750 \nQ 2619 4750 2861 4703 \nQ 3103 4656 3366 4563 \nz\n\" transform=\"scale(0.015625)\"/>\n       </defs>\n       <use xlink:href=\"#DejaVuSans-36\"/>\n       <use xlink:href=\"#DejaVuSans-30\" x=\"63.623047\"/>\n      </g>\n     </g>\n    </g>\n    <g id=\"xtick_5\">\n     <g id=\"line2d_5\">\n      <g>\n       <use xlink:href=\"#m76023ac1ff\" x=\"249.055657\" y=\"273.312\" style=\"fill: #ffffff; stroke: #ffffff; stroke-width: 0.8\"/>\n      </g>\n     </g>\n     <g id=\"text_5\">\n      <!-- 70 -->\n      <g style=\"fill: #ffffff\" transform=\"translate(242.693157 287.910437) scale(0.1 -0.1)\">\n       <defs>\n        <path id=\"DejaVuSans-37\" d=\"M 525 4666 \nL 3525 4666 \nL 3525 4397 \nL 1831 0 \nL 1172 0 \nL 2766 4134 \nL 525 4134 \nL 525 4666 \nz\n\" transform=\"scale(0.015625)\"/>\n       </defs>\n       <use xlink:href=\"#DejaVuSans-37\"/>\n       <use xlink:href=\"#DejaVuSans-30\" x=\"63.623047\"/>\n      </g>\n     </g>\n    </g>\n    <g id=\"xtick_6\">\n     <g id=\"line2d_6\">\n      <g>\n       <use xlink:href=\"#m76023ac1ff\" x=\"295.588412\" y=\"273.312\" style=\"fill: #ffffff; stroke: #ffffff; stroke-width: 0.8\"/>\n      </g>\n     </g>\n     <g id=\"text_6\">\n      <!-- 80 -->\n      <g style=\"fill: #ffffff\" transform=\"translate(289.225912 287.910437) scale(0.1 -0.1)\">\n       <defs>\n        <path id=\"DejaVuSans-38\" d=\"M 2034 2216 \nQ 1584 2216 1326 1975 \nQ 1069 1734 1069 1313 \nQ 1069 891 1326 650 \nQ 1584 409 2034 409 \nQ 2484 409 2743 651 \nQ 3003 894 3003 1313 \nQ 3003 1734 2745 1975 \nQ 2488 2216 2034 2216 \nz\nM 1403 2484 \nQ 997 2584 770 2862 \nQ 544 3141 544 3541 \nQ 544 4100 942 4425 \nQ 1341 4750 2034 4750 \nQ 2731 4750 3128 4425 \nQ 3525 4100 3525 3541 \nQ 3525 3141 3298 2862 \nQ 3072 2584 2669 2484 \nQ 3125 2378 3379 2068 \nQ 3634 1759 3634 1313 \nQ 3634 634 3220 271 \nQ 2806 -91 2034 -91 \nQ 1263 -91 848 271 \nQ 434 634 434 1313 \nQ 434 1759 690 2068 \nQ 947 2378 1403 2484 \nz\nM 1172 3481 \nQ 1172 3119 1398 2916 \nQ 1625 2713 2034 2713 \nQ 2441 2713 2670 2916 \nQ 2900 3119 2900 3481 \nQ 2900 3844 2670 4047 \nQ 2441 4250 2034 4250 \nQ 1625 4250 1398 4047 \nQ 1172 3844 1172 3481 \nz\n\" transform=\"scale(0.015625)\"/>\n       </defs>\n       <use xlink:href=\"#DejaVuSans-38\"/>\n       <use xlink:href=\"#DejaVuSans-30\" x=\"63.623047\"/>\n      </g>\n     </g>\n    </g>\n    <g id=\"xtick_7\">\n     <g id=\"line2d_7\">\n      <g>\n       <use xlink:href=\"#m76023ac1ff\" x=\"342.121167\" y=\"273.312\" style=\"fill: #ffffff; stroke: #ffffff; stroke-width: 0.8\"/>\n      </g>\n     </g>\n     <g id=\"text_7\">\n      <!-- 90 -->\n      <g style=\"fill: #ffffff\" transform=\"translate(335.758667 287.910437) scale(0.1 -0.1)\">\n       <defs>\n        <path id=\"DejaVuSans-39\" d=\"M 703 97 \nL 703 672 \nQ 941 559 1184 500 \nQ 1428 441 1663 441 \nQ 2288 441 2617 861 \nQ 2947 1281 2994 2138 \nQ 2813 1869 2534 1725 \nQ 2256 1581 1919 1581 \nQ 1219 1581 811 2004 \nQ 403 2428 403 3163 \nQ 403 3881 828 4315 \nQ 1253 4750 1959 4750 \nQ 2769 4750 3195 4129 \nQ 3622 3509 3622 2328 \nQ 3622 1225 3098 567 \nQ 2575 -91 1691 -91 \nQ 1453 -91 1209 -44 \nQ 966 3 703 97 \nz\nM 1959 2075 \nQ 2384 2075 2632 2365 \nQ 2881 2656 2881 3163 \nQ 2881 3666 2632 3958 \nQ 2384 4250 1959 4250 \nQ 1534 4250 1286 3958 \nQ 1038 3666 1038 3163 \nQ 1038 2656 1286 2365 \nQ 1534 2075 1959 2075 \nz\n\" transform=\"scale(0.015625)\"/>\n       </defs>\n       <use xlink:href=\"#DejaVuSans-39\"/>\n       <use xlink:href=\"#DejaVuSans-30\" x=\"63.623047\"/>\n      </g>\n     </g>\n    </g>\n    <g id=\"xtick_8\">\n     <g id=\"line2d_8\">\n      <g>\n       <use xlink:href=\"#m76023ac1ff\" x=\"388.653923\" y=\"273.312\" style=\"fill: #ffffff; stroke: #ffffff; stroke-width: 0.8\"/>\n      </g>\n     </g>\n     <g id=\"text_8\">\n      <!-- 100 -->\n      <g style=\"fill: #ffffff\" transform=\"translate(379.110173 287.910437) scale(0.1 -0.1)\">\n       <defs>\n        <path id=\"DejaVuSans-31\" d=\"M 794 531 \nL 1825 531 \nL 1825 4091 \nL 703 3866 \nL 703 4441 \nL 1819 4666 \nL 2450 4666 \nL 2450 531 \nL 3481 531 \nL 3481 0 \nL 794 0 \nL 794 531 \nz\n\" transform=\"scale(0.015625)\"/>\n       </defs>\n       <use xlink:href=\"#DejaVuSans-31\"/>\n       <use xlink:href=\"#DejaVuSans-30\" x=\"63.623047\"/>\n       <use xlink:href=\"#DejaVuSans-30\" x=\"127.246094\"/>\n      </g>\n     </g>\n    </g>\n    <g id=\"text_9\">\n     <!-- Exam 1 score -->\n     <g style=\"fill: #ffffff\" transform=\"translate(191.680313 301.588562) scale(0.1 -0.1)\">\n      <defs>\n       <path id=\"DejaVuSans-45\" d=\"M 628 4666 \nL 3578 4666 \nL 3578 4134 \nL 1259 4134 \nL 1259 2753 \nL 3481 2753 \nL 3481 2222 \nL 1259 2222 \nL 1259 531 \nL 3634 531 \nL 3634 0 \nL 628 0 \nL 628 4666 \nz\n\" transform=\"scale(0.015625)\"/>\n       <path id=\"DejaVuSans-78\" d=\"M 3513 3500 \nL 2247 1797 \nL 3578 0 \nL 2900 0 \nL 1881 1375 \nL 863 0 \nL 184 0 \nL 1544 1831 \nL 300 3500 \nL 978 3500 \nL 1906 2253 \nL 2834 3500 \nL 3513 3500 \nz\n\" transform=\"scale(0.015625)\"/>\n       <path id=\"DejaVuSans-61\" d=\"M 2194 1759 \nQ 1497 1759 1228 1600 \nQ 959 1441 959 1056 \nQ 959 750 1161 570 \nQ 1363 391 1709 391 \nQ 2188 391 2477 730 \nQ 2766 1069 2766 1631 \nL 2766 1759 \nL 2194 1759 \nz\nM 3341 1997 \nL 3341 0 \nL 2766 0 \nL 2766 531 \nQ 2569 213 2275 61 \nQ 1981 -91 1556 -91 \nQ 1019 -91 701 211 \nQ 384 513 384 1019 \nQ 384 1609 779 1909 \nQ 1175 2209 1959 2209 \nL 2766 2209 \nL 2766 2266 \nQ 2766 2663 2505 2880 \nQ 2244 3097 1772 3097 \nQ 1472 3097 1187 3025 \nQ 903 2953 641 2809 \nL 641 3341 \nQ 956 3463 1253 3523 \nQ 1550 3584 1831 3584 \nQ 2591 3584 2966 3190 \nQ 3341 2797 3341 1997 \nz\n\" transform=\"scale(0.015625)\"/>\n       <path id=\"DejaVuSans-6d\" d=\"M 3328 2828 \nQ 3544 3216 3844 3400 \nQ 4144 3584 4550 3584 \nQ 5097 3584 5394 3201 \nQ 5691 2819 5691 2113 \nL 5691 0 \nL 5113 0 \nL 5113 2094 \nQ 5113 2597 4934 2840 \nQ 4756 3084 4391 3084 \nQ 3944 3084 3684 2787 \nQ 3425 2491 3425 1978 \nL 3425 0 \nL 2847 0 \nL 2847 2094 \nQ 2847 2600 2669 2842 \nQ 2491 3084 2119 3084 \nQ 1678 3084 1418 2786 \nQ 1159 2488 1159 1978 \nL 1159 0 \nL 581 0 \nL 581 3500 \nL 1159 3500 \nL 1159 2956 \nQ 1356 3278 1631 3431 \nQ 1906 3584 2284 3584 \nQ 2666 3584 2933 3390 \nQ 3200 3197 3328 2828 \nz\n\" transform=\"scale(0.015625)\"/>\n       <path id=\"DejaVuSans-20\" transform=\"scale(0.015625)\"/>\n       <path id=\"DejaVuSans-73\" d=\"M 2834 3397 \nL 2834 2853 \nQ 2591 2978 2328 3040 \nQ 2066 3103 1784 3103 \nQ 1356 3103 1142 2972 \nQ 928 2841 928 2578 \nQ 928 2378 1081 2264 \nQ 1234 2150 1697 2047 \nL 1894 2003 \nQ 2506 1872 2764 1633 \nQ 3022 1394 3022 966 \nQ 3022 478 2636 193 \nQ 2250 -91 1575 -91 \nQ 1294 -91 989 -36 \nQ 684 19 347 128 \nL 347 722 \nQ 666 556 975 473 \nQ 1284 391 1588 391 \nQ 1994 391 2212 530 \nQ 2431 669 2431 922 \nQ 2431 1156 2273 1281 \nQ 2116 1406 1581 1522 \nL 1381 1569 \nQ 847 1681 609 1914 \nQ 372 2147 372 2553 \nQ 372 3047 722 3315 \nQ 1072 3584 1716 3584 \nQ 2034 3584 2315 3537 \nQ 2597 3491 2834 3397 \nz\n\" transform=\"scale(0.015625)\"/>\n       <path id=\"DejaVuSans-63\" d=\"M 3122 3366 \nL 3122 2828 \nQ 2878 2963 2633 3030 \nQ 2388 3097 2138 3097 \nQ 1578 3097 1268 2742 \nQ 959 2388 959 1747 \nQ 959 1106 1268 751 \nQ 1578 397 2138 397 \nQ 2388 397 2633 464 \nQ 2878 531 3122 666 \nL 3122 134 \nQ 2881 22 2623 -34 \nQ 2366 -91 2075 -91 \nQ 1284 -91 818 406 \nQ 353 903 353 1747 \nQ 353 2603 823 3093 \nQ 1294 3584 2113 3584 \nQ 2378 3584 2631 3529 \nQ 2884 3475 3122 3366 \nz\n\" transform=\"scale(0.015625)\"/>\n       <path id=\"DejaVuSans-6f\" d=\"M 1959 3097 \nQ 1497 3097 1228 2736 \nQ 959 2375 959 1747 \nQ 959 1119 1226 758 \nQ 1494 397 1959 397 \nQ 2419 397 2687 759 \nQ 2956 1122 2956 1747 \nQ 2956 2369 2687 2733 \nQ 2419 3097 1959 3097 \nz\nM 1959 3584 \nQ 2709 3584 3137 3096 \nQ 3566 2609 3566 1747 \nQ 3566 888 3137 398 \nQ 2709 -91 1959 -91 \nQ 1206 -91 779 398 \nQ 353 888 353 1747 \nQ 353 2609 779 3096 \nQ 1206 3584 1959 3584 \nz\n\" transform=\"scale(0.015625)\"/>\n       <path id=\"DejaVuSans-72\" d=\"M 2631 2963 \nQ 2534 3019 2420 3045 \nQ 2306 3072 2169 3072 \nQ 1681 3072 1420 2755 \nQ 1159 2438 1159 1844 \nL 1159 0 \nL 581 0 \nL 581 3500 \nL 1159 3500 \nL 1159 2956 \nQ 1341 3275 1631 3429 \nQ 1922 3584 2338 3584 \nQ 2397 3584 2469 3576 \nQ 2541 3569 2628 3553 \nL 2631 2963 \nz\n\" transform=\"scale(0.015625)\"/>\n       <path id=\"DejaVuSans-65\" d=\"M 3597 1894 \nL 3597 1613 \nL 953 1613 \nQ 991 1019 1311 708 \nQ 1631 397 2203 397 \nQ 2534 397 2845 478 \nQ 3156 559 3463 722 \nL 3463 178 \nQ 3153 47 2828 -22 \nQ 2503 -91 2169 -91 \nQ 1331 -91 842 396 \nQ 353 884 353 1716 \nQ 353 2575 817 3079 \nQ 1281 3584 2069 3584 \nQ 2775 3584 3186 3129 \nQ 3597 2675 3597 1894 \nz\nM 3022 2063 \nQ 3016 2534 2758 2815 \nQ 2500 3097 2075 3097 \nQ 1594 3097 1305 2825 \nQ 1016 2553 972 2059 \nL 3022 2063 \nz\n\" transform=\"scale(0.015625)\"/>\n      </defs>\n      <use xlink:href=\"#DejaVuSans-45\"/>\n      <use xlink:href=\"#DejaVuSans-78\" x=\"63.183594\"/>\n      <use xlink:href=\"#DejaVuSans-61\" x=\"122.363281\"/>\n      <use xlink:href=\"#DejaVuSans-6d\" x=\"183.642578\"/>\n      <use xlink:href=\"#DejaVuSans-20\" x=\"281.054688\"/>\n      <use xlink:href=\"#DejaVuSans-31\" x=\"312.841797\"/>\n      <use xlink:href=\"#DejaVuSans-20\" x=\"376.464844\"/>\n      <use xlink:href=\"#DejaVuSans-73\" x=\"408.251953\"/>\n      <use xlink:href=\"#DejaVuSans-63\" x=\"460.351562\"/>\n      <use xlink:href=\"#DejaVuSans-6f\" x=\"515.332031\"/>\n      <use xlink:href=\"#DejaVuSans-72\" x=\"576.513672\"/>\n      <use xlink:href=\"#DejaVuSans-65\" x=\"615.376953\"/>\n     </g>\n    </g>\n   </g>\n   <g id=\"matplotlib.axis_2\">\n    <g id=\"ytick_1\">\n     <g id=\"line2d_9\">\n      <defs>\n       <path id=\"mcb31e794a0\" d=\"M 0 0 \nL -3.5 0 \n\" style=\"stroke: #ffffff; stroke-width: 0.8\"/>\n      </defs>\n      <g>\n       <use xlink:href=\"#mcb31e794a0\" x=\"46.965625\" y=\"263.35383\" style=\"fill: #ffffff; stroke: #ffffff; stroke-width: 0.8\"/>\n      </g>\n     </g>\n     <g id=\"text_10\">\n      <!-- 30 -->\n      <g style=\"fill: #ffffff\" transform=\"translate(27.240625 267.153048) scale(0.1 -0.1)\">\n       <use xlink:href=\"#DejaVuSans-33\"/>\n       <use xlink:href=\"#DejaVuSans-30\" x=\"63.623047\"/>\n      </g>\n     </g>\n    </g>\n    <g id=\"ytick_2\">\n     <g id=\"line2d_10\">\n      <g>\n       <use xlink:href=\"#mcb31e794a0\" x=\"46.965625\" y=\"227.916073\" style=\"fill: #ffffff; stroke: #ffffff; stroke-width: 0.8\"/>\n      </g>\n     </g>\n     <g id=\"text_11\">\n      <!-- 40 -->\n      <g style=\"fill: #ffffff\" transform=\"translate(27.240625 231.715292) scale(0.1 -0.1)\">\n       <use xlink:href=\"#DejaVuSans-34\"/>\n       <use xlink:href=\"#DejaVuSans-30\" x=\"63.623047\"/>\n      </g>\n     </g>\n    </g>\n    <g id=\"ytick_3\">\n     <g id=\"line2d_11\">\n      <g>\n       <use xlink:href=\"#mcb31e794a0\" x=\"46.965625\" y=\"192.478317\" style=\"fill: #ffffff; stroke: #ffffff; stroke-width: 0.8\"/>\n      </g>\n     </g>\n     <g id=\"text_12\">\n      <!-- 50 -->\n      <g style=\"fill: #ffffff\" transform=\"translate(27.240625 196.277535) scale(0.1 -0.1)\">\n       <use xlink:href=\"#DejaVuSans-35\"/>\n       <use xlink:href=\"#DejaVuSans-30\" x=\"63.623047\"/>\n      </g>\n     </g>\n    </g>\n    <g id=\"ytick_4\">\n     <g id=\"line2d_12\">\n      <g>\n       <use xlink:href=\"#mcb31e794a0\" x=\"46.965625\" y=\"157.04056\" style=\"fill: #ffffff; stroke: #ffffff; stroke-width: 0.8\"/>\n      </g>\n     </g>\n     <g id=\"text_13\">\n      <!-- 60 -->\n      <g style=\"fill: #ffffff\" transform=\"translate(27.240625 160.839779) scale(0.1 -0.1)\">\n       <use xlink:href=\"#DejaVuSans-36\"/>\n       <use xlink:href=\"#DejaVuSans-30\" x=\"63.623047\"/>\n      </g>\n     </g>\n    </g>\n    <g id=\"ytick_5\">\n     <g id=\"line2d_13\">\n      <g>\n       <use xlink:href=\"#mcb31e794a0\" x=\"46.965625\" y=\"121.602803\" style=\"fill: #ffffff; stroke: #ffffff; stroke-width: 0.8\"/>\n      </g>\n     </g>\n     <g id=\"text_14\">\n      <!-- 70 -->\n      <g style=\"fill: #ffffff\" transform=\"translate(27.240625 125.402022) scale(0.1 -0.1)\">\n       <use xlink:href=\"#DejaVuSans-37\"/>\n       <use xlink:href=\"#DejaVuSans-30\" x=\"63.623047\"/>\n      </g>\n     </g>\n    </g>\n    <g id=\"ytick_6\">\n     <g id=\"line2d_14\">\n      <g>\n       <use xlink:href=\"#mcb31e794a0\" x=\"46.965625\" y=\"86.165047\" style=\"fill: #ffffff; stroke: #ffffff; stroke-width: 0.8\"/>\n      </g>\n     </g>\n     <g id=\"text_15\">\n      <!-- 80 -->\n      <g style=\"fill: #ffffff\" transform=\"translate(27.240625 89.964266) scale(0.1 -0.1)\">\n       <use xlink:href=\"#DejaVuSans-38\"/>\n       <use xlink:href=\"#DejaVuSans-30\" x=\"63.623047\"/>\n      </g>\n     </g>\n    </g>\n    <g id=\"ytick_7\">\n     <g id=\"line2d_15\">\n      <g>\n       <use xlink:href=\"#mcb31e794a0\" x=\"46.965625\" y=\"50.72729\" style=\"fill: #ffffff; stroke: #ffffff; stroke-width: 0.8\"/>\n      </g>\n     </g>\n     <g id=\"text_16\">\n      <!-- 90 -->\n      <g style=\"fill: #ffffff\" transform=\"translate(27.240625 54.526509) scale(0.1 -0.1)\">\n       <use xlink:href=\"#DejaVuSans-39\"/>\n       <use xlink:href=\"#DejaVuSans-30\" x=\"63.623047\"/>\n      </g>\n     </g>\n    </g>\n    <g id=\"ytick_8\">\n     <g id=\"line2d_16\">\n      <g>\n       <use xlink:href=\"#mcb31e794a0\" x=\"46.965625\" y=\"15.289534\" style=\"fill: #ffffff; stroke: #ffffff; stroke-width: 0.8\"/>\n      </g>\n     </g>\n     <g id=\"text_17\">\n      <!-- 100 -->\n      <g style=\"fill: #ffffff\" transform=\"translate(20.878125 19.088753) scale(0.1 -0.1)\">\n       <use xlink:href=\"#DejaVuSans-31\"/>\n       <use xlink:href=\"#DejaVuSans-30\" x=\"63.623047\"/>\n       <use xlink:href=\"#DejaVuSans-30\" x=\"127.246094\"/>\n      </g>\n     </g>\n    </g>\n    <g id=\"text_18\">\n     <!-- Exam 2 score -->\n     <g style=\"fill: #ffffff\" transform=\"translate(14.798438 174.101312) rotate(-90) scale(0.1 -0.1)\">\n      <defs>\n       <path id=\"DejaVuSans-32\" d=\"M 1228 531 \nL 3431 531 \nL 3431 0 \nL 469 0 \nL 469 531 \nQ 828 903 1448 1529 \nQ 2069 2156 2228 2338 \nQ 2531 2678 2651 2914 \nQ 2772 3150 2772 3378 \nQ 2772 3750 2511 3984 \nQ 2250 4219 1831 4219 \nQ 1534 4219 1204 4116 \nQ 875 4013 500 3803 \nL 500 4441 \nQ 881 4594 1212 4672 \nQ 1544 4750 1819 4750 \nQ 2544 4750 2975 4387 \nQ 3406 4025 3406 3419 \nQ 3406 3131 3298 2873 \nQ 3191 2616 2906 2266 \nQ 2828 2175 2409 1742 \nQ 1991 1309 1228 531 \nz\n\" transform=\"scale(0.015625)\"/>\n      </defs>\n      <use xlink:href=\"#DejaVuSans-45\"/>\n      <use xlink:href=\"#DejaVuSans-78\" x=\"63.183594\"/>\n      <use xlink:href=\"#DejaVuSans-61\" x=\"122.363281\"/>\n      <use xlink:href=\"#DejaVuSans-6d\" x=\"183.642578\"/>\n      <use xlink:href=\"#DejaVuSans-20\" x=\"281.054688\"/>\n      <use xlink:href=\"#DejaVuSans-32\" x=\"312.841797\"/>\n      <use xlink:href=\"#DejaVuSans-20\" x=\"376.464844\"/>\n      <use xlink:href=\"#DejaVuSans-73\" x=\"408.251953\"/>\n      <use xlink:href=\"#DejaVuSans-63\" x=\"460.351562\"/>\n      <use xlink:href=\"#DejaVuSans-6f\" x=\"515.332031\"/>\n      <use xlink:href=\"#DejaVuSans-72\" x=\"576.513672\"/>\n      <use xlink:href=\"#DejaVuSans-65\" x=\"615.376953\"/>\n     </g>\n    </g>\n   </g>\n   <g id=\"line2d_17\">\n    <defs>\n     <path id=\"m0753b0c8ac\" d=\"M -3 0 \nL 3 0 \nM 0 3 \nL 0 -3 \n\" style=\"stroke: #000000\"/>\n    </defs>\n    <g clip-path=\"url(#p5c3a05e147)\">\n     <use xlink:href=\"#m0753b0c8ac\" x=\"203.372587\" y=\"63.808954\" style=\"stroke: #000000\"/>\n     <use xlink:href=\"#m0753b0c8ac\" x=\"291.087466\" y=\"102.663532\" style=\"stroke: #000000\"/>\n     <use xlink:href=\"#m0753b0c8ac\" x=\"207.672516\" y=\"27.652258\" style=\"stroke: #000000\"/>\n     <use xlink:href=\"#m0753b0c8ac\" x=\"272.437182\" y=\"204.690119\" style=\"stroke: #000000\"/>\n     <use xlink:href=\"#m0753b0c8ac\" x=\"277.434992\" y=\"59.868213\" style=\"stroke: #000000\"/>\n     <use xlink:href=\"#m0753b0c8ac\" x=\"316.215545\" y=\"215.39452\" style=\"stroke: #000000\"/>\n     <use xlink:href=\"#m0753b0c8ac\" x=\"306.323767\" y=\"98.63218\" style=\"stroke: #000000\"/>\n     <use xlink:href=\"#m0753b0c8ac\" x=\"246.098913\" y=\"23.373978\" style=\"stroke: #000000\"/>\n     <use xlink:href=\"#m0753b0c8ac\" x=\"174.468546\" y=\"53.536264\" style=\"stroke: #000000\"/>\n     <use xlink:href=\"#m0753b0c8ac\" x=\"244.728781\" y=\"182.766707\" style=\"stroke: #000000\"/>\n     <use xlink:href=\"#m0753b0c8ac\" x=\"252.133843\" y=\"40.35417\" style=\"stroke: #000000\"/>\n     <use xlink:href=\"#m0753b0c8ac\" x=\"281.52986\" y=\"201.068558\" style=\"stroke: #000000\"/>\n     <use xlink:href=\"#m0753b0c8ac\" x=\"340.617116\" y=\"136.488908\" style=\"stroke: #000000\"/>\n     <use xlink:href=\"#m0753b0c8ac\" x=\"285.928638\" y=\"125.244529\" style=\"stroke: #000000\"/>\n     <use xlink:href=\"#m0753b0c8ac\" x=\"213.090554\" y=\"121.764194\" style=\"stroke: #000000\"/>\n     <use xlink:href=\"#m0753b0c8ac\" x=\"296.473376\" y=\"210.829302\" style=\"stroke: #000000\"/>\n     <use xlink:href=\"#m0753b0c8ac\" x=\"208.941115\" y=\"111.652281\" style=\"stroke: #000000\"/>\n     <use xlink:href=\"#m0753b0c8ac\" x=\"320.73713\" y=\"167.487667\" style=\"stroke: #000000\"/>\n     <use xlink:href=\"#m0753b0c8ac\" x=\"165.507978\" y=\"123.61262\" style=\"stroke: #000000\"/>\n     <use xlink:href=\"#m0753b0c8ac\" x=\"221.959581\" y=\"82.947084\" style=\"stroke: #000000\"/>\n     <use xlink:href=\"#m0753b0c8ac\" x=\"313.747325\" y=\"170.124016\" style=\"stroke: #000000\"/>\n     <use xlink:href=\"#m0753b0c8ac\" x=\"362.797382\" y=\"137.305551\" style=\"stroke: #000000\"/>\n     <use xlink:href=\"#m0753b0c8ac\" x=\"282.52683\" y=\"119.979045\" style=\"stroke: #000000\"/>\n     <use xlink:href=\"#m0753b0c8ac\" x=\"378.28456\" y=\"62.323154\" style=\"stroke: #000000\"/>\n     <use xlink:href=\"#m0753b0c8ac\" x=\"212.169438\" y=\"26.740096\" style=\"stroke: #000000\"/>\n     <use xlink:href=\"#m0753b0c8ac\" x=\"349.403425\" y=\"55.347337\" style=\"stroke: #000000\"/>\n     <use xlink:href=\"#m0753b0c8ac\" x=\"295.331635\" y=\"106.849642\" style=\"stroke: #000000\"/>\n     <use xlink:href=\"#m0753b0c8ac\" x=\"385.26879\" y=\"153.500218\" style=\"stroke: #000000\"/>\n     <use xlink:href=\"#m0753b0c8ac\" x=\"344.665179\" y=\"215.900541\" style=\"stroke: #000000\"/>\n     <use xlink:href=\"#m0753b0c8ac\" x=\"377.698409\" y=\"125.637134\" style=\"stroke: #000000\"/>\n     <use xlink:href=\"#m0753b0c8ac\" x=\"268.825988\" y=\"122.224484\" style=\"stroke: #000000\"/>\n     <use xlink:href=\"#m0753b0c8ac\" x=\"257.41509\" y=\"91.645275\" style=\"stroke: #000000\"/>\n     <use xlink:href=\"#m0753b0c8ac\" x=\"274.162924\" y=\"65.753124\" style=\"stroke: #000000\"/>\n     <use xlink:href=\"#m0753b0c8ac\" x=\"111.586501\" y=\"24.024284\" style=\"stroke: #000000\"/>\n     <use xlink:href=\"#m0753b0c8ac\" x=\"296.889347\" y=\"43.228446\" style=\"stroke: #000000\"/>\n     <use xlink:href=\"#m0753b0c8ac\" x=\"233.917242\" y=\"153.527282\" style=\"stroke: #000000\"/>\n     <use xlink:href=\"#m0753b0c8ac\" x=\"221.318972\" y=\"93.140303\" style=\"stroke: #000000\"/>\n     <use xlink:href=\"#m0753b0c8ac\" x=\"259.974541\" y=\"28.658098\" style=\"stroke: #000000\"/>\n     <use xlink:href=\"#m0753b0c8ac\" x=\"204.65357\" y=\"110.634825\" style=\"stroke: #000000\"/>\n     <use xlink:href=\"#m0753b0c8ac\" x=\"197.129551\" y=\"100.841777\" style=\"stroke: #000000\"/>\n     <use xlink:href=\"#m0753b0c8ac\" x=\"387.852898\" y=\"113.206706\" style=\"stroke: #000000\"/>\n     <use xlink:href=\"#m0753b0c8ac\" x=\"143.260036\" y=\"56.128483\" style=\"stroke: #000000\"/>\n     <use xlink:href=\"#m0753b0c8ac\" x=\"158.12209\" y=\"101.013965\" style=\"stroke: #000000\"/>\n     <use xlink:href=\"#m0753b0c8ac\" x=\"337.067228\" y=\"122.298132\" style=\"stroke: #000000\"/>\n     <use xlink:href=\"#m0753b0c8ac\" x=\"364.617459\" y=\"207.736727\" style=\"stroke: #000000\"/>\n     <use xlink:href=\"#m0753b0c8ac\" x=\"236.581423\" y=\"133.689371\" style=\"stroke: #000000\"/>\n     <use xlink:href=\"#m0753b0c8ac\" x=\"189.673841\" y=\"158.761836\" style=\"stroke: #000000\"/>\n     <use xlink:href=\"#m0753b0c8ac\" x=\"297.295029\" y=\"47.324742\" style=\"stroke: #000000\"/>\n     <use xlink:href=\"#m0753b0c8ac\" x=\"241.929267\" y=\"66.340078\" style=\"stroke: #000000\"/>\n     <use xlink:href=\"#m0753b0c8ac\" x=\"274.544913\" y=\"49.222819\" style=\"stroke: #000000\"/>\n     <use xlink:href=\"#m0753b0c8ac\" x=\"289.238666\" y=\"27.1703\" style=\"stroke: #000000\"/>\n     <use xlink:href=\"#m0753b0c8ac\" x=\"361.173218\" y=\"96.232541\" style=\"stroke: #000000\"/>\n     <use xlink:href=\"#m0753b0c8ac\" x=\"344.208399\" y=\"59.555574\" style=\"stroke: #000000\"/>\n     <use xlink:href=\"#m0753b0c8ac\" x=\"269.961392\" y=\"68.994969\" style=\"stroke: #000000\"/>\n     <use xlink:href=\"#m0753b0c8ac\" x=\"341.403664\" y=\"208.927518\" style=\"stroke: #000000\"/>\n     <use xlink:href=\"#m0753b0c8ac\" x=\"311.824448\" y=\"198.21822\" style=\"stroke: #000000\"/>\n     <use xlink:href=\"#m0753b0c8ac\" x=\"119.981708\" y=\"60.990593\" style=\"stroke: #000000\"/>\n     <use xlink:href=\"#m0753b0c8ac\" x=\"385.46647\" y=\"125.942478\" style=\"stroke: #000000\"/>\n     <use xlink:href=\"#m0753b0c8ac\" x=\"180.838719\" y=\"139.562878\" style=\"stroke: #000000\"/>\n     <use xlink:href=\"#m0753b0c8ac\" x=\"271.279203\" y=\"52.393528\" style=\"stroke: #000000\"/>\n    </g>\n   </g>\n   <g id=\"line2d_18\">\n    <defs>\n     <path id=\"maf5297106f\" d=\"M 0 3 \nC 0.795609 3 1.55874 2.683901 2.12132 2.12132 \nC 2.683901 1.55874 3 0.795609 3 0 \nC 3 -0.795609 2.683901 -1.55874 2.12132 -2.12132 \nC 1.55874 -2.683901 0.795609 -3 0 -3 \nC -0.795609 -3 -1.55874 -2.683901 -2.12132 -2.12132 \nC -2.683901 -1.55874 -3 -0.795609 -3 0 \nC -3 0.795609 -2.683901 1.55874 -2.12132 2.12132 \nC -1.55874 2.683901 -0.795609 3 0 3 \nz\n\" style=\"stroke: #bfbf00\"/>\n    </defs>\n    <g clip-path=\"url(#p5c3a05e147)\">\n     <use xlink:href=\"#maf5297106f\" x=\"84.439797\" y=\"93.165092\" style=\"fill: #bfbf00; stroke: #bfbf00\"/>\n     <use xlink:href=\"#maf5297106f\" x=\"64.258779\" y=\"214.113076\" style=\"fill: #bfbf00; stroke: #bfbf00\"/>\n     <use xlink:href=\"#maf5297106f\" x=\"90.134239\" y=\"111.318065\" style=\"fill: #bfbf00; stroke: #bfbf00\"/>\n     <use xlink:href=\"#maf5297106f\" x=\"133.111281\" y=\"170.094512\" style=\"fill: #bfbf00; stroke: #bfbf00\"/>\n     <use xlink:href=\"#maf5297106f\" x=\"369.396598\" y=\"234.205289\" style=\"fill: #bfbf00; stroke: #bfbf00\"/>\n     <use xlink:href=\"#maf5297106f\" x=\"272.385591\" y=\"261.216\" style=\"fill: #bfbf00; stroke: #bfbf00\"/>\n     <use xlink:href=\"#maf5297106f\" x=\"107.309155\" y=\"100.2097\" style=\"fill: #bfbf00; stroke: #bfbf00\"/>\n     <use xlink:href=\"#maf5297106f\" x=\"239.50181\" y=\"204.248705\" style=\"fill: #bfbf00; stroke: #bfbf00\"/>\n     <use xlink:href=\"#maf5297106f\" x=\"236.826977\" y=\"217.857284\" style=\"fill: #bfbf00; stroke: #bfbf00\"/>\n     <use xlink:href=\"#maf5297106f\" x=\"158.478663\" y=\"196.533064\" style=\"fill: #bfbf00; stroke: #bfbf00\"/>\n     <use xlink:href=\"#maf5297106f\" x=\"82.524516\" y=\"212.998448\" style=\"fill: #bfbf00; stroke: #bfbf00\"/>\n     <use xlink:href=\"#maf5297106f\" x=\"356.613277\" y=\"232.166228\" style=\"fill: #bfbf00; stroke: #bfbf00\"/>\n     <use xlink:href=\"#maf5297106f\" x=\"211.039354\" y=\"191.570728\" style=\"fill: #bfbf00; stroke: #bfbf00\"/>\n     <use xlink:href=\"#maf5297106f\" x=\"103.807401\" y=\"139.336987\" style=\"fill: #bfbf00; stroke: #bfbf00\"/>\n     <use xlink:href=\"#maf5297106f\" x=\"165.799156\" y=\"145.956963\" style=\"fill: #bfbf00; stroke: #bfbf00\"/>\n     <use xlink:href=\"#maf5297106f\" x=\"110.559722\" y=\"117.464566\" style=\"fill: #bfbf00; stroke: #bfbf00\"/>\n     <use xlink:href=\"#maf5297106f\" x=\"177.558569\" y=\"184.632802\" style=\"fill: #bfbf00; stroke: #bfbf00\"/>\n     <use xlink:href=\"#maf5297106f\" x=\"81.144536\" y=\"19.296\" style=\"fill: #bfbf00; stroke: #bfbf00\"/>\n     <use xlink:href=\"#maf5297106f\" x=\"271.34137\" y=\"222.340242\" style=\"fill: #bfbf00; stroke: #bfbf00\"/>\n     <use xlink:href=\"#maf5297106f\" x=\"82.392265\" y=\"103.041498\" style=\"fill: #bfbf00; stroke: #bfbf00\"/>\n     <use xlink:href=\"#maf5297106f\" x=\"163.192115\" y=\"203.618919\" style=\"fill: #bfbf00; stroke: #bfbf00\"/>\n     <use xlink:href=\"#maf5297106f\" x=\"306.610876\" y=\"225.725115\" style=\"fill: #bfbf00; stroke: #bfbf00\"/>\n     <use xlink:href=\"#maf5297106f\" x=\"160.865624\" y=\"207.281725\" style=\"fill: #bfbf00; stroke: #bfbf00\"/>\n     <use xlink:href=\"#maf5297106f\" x=\"212.865624\" y=\"185.174623\" style=\"fill: #bfbf00; stroke: #bfbf00\"/>\n     <use xlink:href=\"#maf5297106f\" x=\"83.978445\" y=\"155.636011\" style=\"fill: #bfbf00; stroke: #bfbf00\"/>\n     <use xlink:href=\"#maf5297106f\" x=\"157.323291\" y=\"193.170987\" style=\"fill: #bfbf00; stroke: #bfbf00\"/>\n     <use xlink:href=\"#maf5297106f\" x=\"154.066841\" y=\"157.717595\" style=\"fill: #bfbf00; stroke: #bfbf00\"/>\n     <use xlink:href=\"#maf5297106f\" x=\"74.917058\" y=\"30.887294\" style=\"fill: #bfbf00; stroke: #bfbf00\"/>\n     <use xlink:href=\"#maf5297106f\" x=\"87.522375\" y=\"203.036947\" style=\"fill: #bfbf00; stroke: #bfbf00\"/>\n     <use xlink:href=\"#maf5297106f\" x=\"185.090882\" y=\"230.533249\" style=\"fill: #bfbf00; stroke: #bfbf00\"/>\n     <use xlink:href=\"#maf5297106f\" x=\"63.198352\" y=\"193.920726\" style=\"fill: #bfbf00; stroke: #bfbf00\"/>\n     <use xlink:href=\"#maf5297106f\" x=\"131.180099\" y=\"134.182902\" style=\"fill: #bfbf00; stroke: #bfbf00\"/>\n     <use xlink:href=\"#maf5297106f\" x=\"233.052551\" y=\"224.045922\" style=\"fill: #bfbf00; stroke: #bfbf00\"/>\n     <use xlink:href=\"#maf5297106f\" x=\"151.674527\" y=\"185.804636\" style=\"fill: #bfbf00; stroke: #bfbf00\"/>\n     <use xlink:href=\"#maf5297106f\" x=\"75.594728\" y=\"216.196194\" style=\"fill: #bfbf00; stroke: #bfbf00\"/>\n     <use xlink:href=\"#maf5297106f\" x=\"204.64273\" y=\"219.026833\" style=\"fill: #bfbf00; stroke: #bfbf00\"/>\n     <use xlink:href=\"#maf5297106f\" x=\"305.949682\" y=\"218.277434\" style=\"fill: #bfbf00; stroke: #bfbf00\"/>\n     <use xlink:href=\"#maf5297106f\" x=\"119.115052\" y=\"90.258866\" style=\"fill: #bfbf00; stroke: #bfbf00\"/>\n     <use xlink:href=\"#maf5297106f\" x=\"166.916055\" y=\"154.313606\" style=\"fill: #bfbf00; stroke: #bfbf00\"/>\n     <use xlink:href=\"#maf5297106f\" x=\"181.500152\" y=\"243.612506\" style=\"fill: #bfbf00; stroke: #bfbf00\"/>\n    </g>\n   </g>\n   <g id=\"patch_3\">\n    <path d=\"M 46.965625 273.312 \nL 46.965625 7.2 \n\" style=\"fill: none; stroke: #ffffff; stroke-width: 0.8; stroke-linejoin: miter; stroke-linecap: square\"/>\n   </g>\n   <g id=\"patch_4\">\n    <path d=\"M 404.085625 273.312 \nL 404.085625 7.2 \n\" style=\"fill: none; stroke: #ffffff; stroke-width: 0.8; stroke-linejoin: miter; stroke-linecap: square\"/>\n   </g>\n   <g id=\"patch_5\">\n    <path d=\"M 46.965625 273.312 \nL 404.085625 273.312 \n\" style=\"fill: none; stroke: #ffffff; stroke-width: 0.8; stroke-linejoin: miter; stroke-linecap: square\"/>\n   </g>\n   <g id=\"patch_6\">\n    <path d=\"M 46.965625 7.2 \nL 404.085625 7.2 \n\" style=\"fill: none; stroke: #ffffff; stroke-width: 0.8; stroke-linejoin: miter; stroke-linecap: square\"/>\n   </g>\n   <g id=\"legend_1\">\n    <g id=\"patch_7\">\n     <path d=\"M 299.049688 44.55625 \nL 397.085625 44.55625 \nQ 399.085625 44.55625 399.085625 42.55625 \nL 399.085625 14.2 \nQ 399.085625 12.2 397.085625 12.2 \nL 299.049688 12.2 \nQ 297.049688 12.2 297.049688 14.2 \nL 297.049688 42.55625 \nQ 297.049688 44.55625 299.049688 44.55625 \nz\n\" style=\"opacity: 0.8; stroke: #cccccc; stroke-linejoin: miter\"/>\n    </g>\n    <g id=\"line2d_19\">\n     <g>\n      <use xlink:href=\"#m0753b0c8ac\" x=\"311.049688\" y=\"20.298437\" style=\"stroke: #000000\"/>\n     </g>\n    </g>\n    <g id=\"text_19\">\n     <!-- Admitted -->\n     <g style=\"fill: #ffffff\" transform=\"translate(329.049688 23.798437) scale(0.1 -0.1)\">\n      <defs>\n       <path id=\"DejaVuSans-41\" d=\"M 2188 4044 \nL 1331 1722 \nL 3047 1722 \nL 2188 4044 \nz\nM 1831 4666 \nL 2547 4666 \nL 4325 0 \nL 3669 0 \nL 3244 1197 \nL 1141 1197 \nL 716 0 \nL 50 0 \nL 1831 4666 \nz\n\" transform=\"scale(0.015625)\"/>\n       <path id=\"DejaVuSans-64\" d=\"M 2906 2969 \nL 2906 4863 \nL 3481 4863 \nL 3481 0 \nL 2906 0 \nL 2906 525 \nQ 2725 213 2448 61 \nQ 2172 -91 1784 -91 \nQ 1150 -91 751 415 \nQ 353 922 353 1747 \nQ 353 2572 751 3078 \nQ 1150 3584 1784 3584 \nQ 2172 3584 2448 3432 \nQ 2725 3281 2906 2969 \nz\nM 947 1747 \nQ 947 1113 1208 752 \nQ 1469 391 1925 391 \nQ 2381 391 2643 752 \nQ 2906 1113 2906 1747 \nQ 2906 2381 2643 2742 \nQ 2381 3103 1925 3103 \nQ 1469 3103 1208 2742 \nQ 947 2381 947 1747 \nz\n\" transform=\"scale(0.015625)\"/>\n       <path id=\"DejaVuSans-69\" d=\"M 603 3500 \nL 1178 3500 \nL 1178 0 \nL 603 0 \nL 603 3500 \nz\nM 603 4863 \nL 1178 4863 \nL 1178 4134 \nL 603 4134 \nL 603 4863 \nz\n\" transform=\"scale(0.015625)\"/>\n       <path id=\"DejaVuSans-74\" d=\"M 1172 4494 \nL 1172 3500 \nL 2356 3500 \nL 2356 3053 \nL 1172 3053 \nL 1172 1153 \nQ 1172 725 1289 603 \nQ 1406 481 1766 481 \nL 2356 481 \nL 2356 0 \nL 1766 0 \nQ 1100 0 847 248 \nQ 594 497 594 1153 \nL 594 3053 \nL 172 3053 \nL 172 3500 \nL 594 3500 \nL 594 4494 \nL 1172 4494 \nz\n\" transform=\"scale(0.015625)\"/>\n      </defs>\n      <use xlink:href=\"#DejaVuSans-41\"/>\n      <use xlink:href=\"#DejaVuSans-64\" x=\"66.658203\"/>\n      <use xlink:href=\"#DejaVuSans-6d\" x=\"130.134766\"/>\n      <use xlink:href=\"#DejaVuSans-69\" x=\"227.546875\"/>\n      <use xlink:href=\"#DejaVuSans-74\" x=\"255.330078\"/>\n      <use xlink:href=\"#DejaVuSans-74\" x=\"294.539062\"/>\n      <use xlink:href=\"#DejaVuSans-65\" x=\"333.748047\"/>\n      <use xlink:href=\"#DejaVuSans-64\" x=\"395.271484\"/>\n     </g>\n    </g>\n    <g id=\"line2d_20\">\n     <g>\n      <use xlink:href=\"#maf5297106f\" x=\"311.049688\" y=\"34.976562\" style=\"fill: #bfbf00; stroke: #bfbf00\"/>\n     </g>\n    </g>\n    <g id=\"text_20\">\n     <!-- Not admitted -->\n     <g style=\"fill: #ffffff\" transform=\"translate(329.049688 38.476562) scale(0.1 -0.1)\">\n      <defs>\n       <path id=\"DejaVuSans-4e\" d=\"M 628 4666 \nL 1478 4666 \nL 3547 763 \nL 3547 4666 \nL 4159 4666 \nL 4159 0 \nL 3309 0 \nL 1241 3903 \nL 1241 0 \nL 628 0 \nL 628 4666 \nz\n\" transform=\"scale(0.015625)\"/>\n      </defs>\n      <use xlink:href=\"#DejaVuSans-4e\"/>\n      <use xlink:href=\"#DejaVuSans-6f\" x=\"74.804688\"/>\n      <use xlink:href=\"#DejaVuSans-74\" x=\"135.986328\"/>\n      <use xlink:href=\"#DejaVuSans-20\" x=\"175.195312\"/>\n      <use xlink:href=\"#DejaVuSans-61\" x=\"206.982422\"/>\n      <use xlink:href=\"#DejaVuSans-64\" x=\"268.261719\"/>\n      <use xlink:href=\"#DejaVuSans-6d\" x=\"331.738281\"/>\n      <use xlink:href=\"#DejaVuSans-69\" x=\"429.150391\"/>\n      <use xlink:href=\"#DejaVuSans-74\" x=\"456.933594\"/>\n      <use xlink:href=\"#DejaVuSans-74\" x=\"496.142578\"/>\n      <use xlink:href=\"#DejaVuSans-65\" x=\"535.351562\"/>\n      <use xlink:href=\"#DejaVuSans-64\" x=\"596.875\"/>\n     </g>\n    </g>\n   </g>\n  </g>\n </g>\n <defs>\n  <clipPath id=\"p5c3a05e147\">\n   <rect x=\"46.965625\" y=\"7.2\" width=\"357.12\" height=\"266.112\"/>\n  </clipPath>\n </defs>\n</svg>\n",
      "text/plain": [
       "<Figure size 640x480 with 1 Axes>"
      ]
     },
     "metadata": {},
     "output_type": "display_data"
    }
   ],
   "source": [
    "# Plot examples\n",
    "plot_data(X_train, y_train[:], pos_label=\"Admitted\", neg_label=\"Not admitted\")\n",
    "\n",
    "# Set the y-axis label\n",
    "plt.ylabel('Exam 2 score') \n",
    "# Set the x-axis label\n",
    "plt.xlabel('Exam 1 score') \n",
    "plt.legend(loc=\"upper right\")\n",
    "plt.show()"
   ]
  },
  {
   "cell_type": "markdown",
   "metadata": {},
   "source": [
    "# Exercise 1\n",
    "## 2.3 Sigmoid function"
   ]
  },
  {
   "cell_type": "code",
   "execution_count": 22,
   "metadata": {},
   "outputs": [],
   "source": [
    "# UNQ_C1\n",
    "# GRADED FUNCTION: sigmoid\n",
    "\n",
    "def sigmoid(z):\n",
    "    \"\"\"\n",
    "    Compute the sigmoid of z\n",
    "\n",
    "    Args:\n",
    "        z (ndarray): A scalar, numpy array of any size.\n",
    "\n",
    "    Returns:\n",
    "        g (ndarray): sigmoid(z), with the same shape as z\n",
    "         \n",
    "    \"\"\"\n",
    "          \n",
    "    ### START CODE HERE ### \n",
    "    g = 1/(1+np.exp(-z))\n",
    "    \n",
    "    ### END SOLUTION ###  \n",
    "    \n",
    "    return g"
   ]
  },
  {
   "cell_type": "code",
   "execution_count": 23,
   "metadata": {},
   "outputs": [
    {
     "name": "stdout",
     "output_type": "stream",
     "text": [
      "sigmoid(-1) = 0.2689414213699951\n"
     ]
    }
   ],
   "source": [
    "# Note: You can edit this value\n",
    "value = -1\n",
    "\n",
    "print (f\"sigmoid({value}) = {sigmoid(value)}\")\n",
    "# print(sigmoid(0))"
   ]
  },
  {
   "cell_type": "code",
   "execution_count": 24,
   "metadata": {},
   "outputs": [
    {
     "name": "stdout",
     "output_type": "stream",
     "text": [
      "sigmoid([ -1, 0, 1, 2]) = [0.26894142 0.5        0.73105858 0.88079708]\n",
      "\u001b[92mAll tests passed!\n"
     ]
    }
   ],
   "source": [
    "print (\"sigmoid([ -1, 0, 1, 2]) = \" + str(sigmoid(np.array([-1, 0, 1, 2]))))\n",
    "\n",
    "# UNIT TESTS\n",
    "from public_tests import *\n",
    "sigmoid_test(sigmoid)"
   ]
  },
  {
   "cell_type": "markdown",
   "metadata": {},
   "source": [
    "## Exercise 2\n",
    "## 2.4 Cost function for logistic regression"
   ]
  },
  {
   "cell_type": "code",
   "execution_count": 147,
   "metadata": {},
   "outputs": [],
   "source": [
    "# UNQ_C2\n",
    "# GRADED FUNCTION: compute_cost\n",
    "def compute_cost(X, y, w, b, *argv):\n",
    "    \"\"\"\n",
    "    Computes the cost over all examples\n",
    "    Args:\n",
    "      X : (ndarray Shape (m,n)) data, m examples by n features\n",
    "      y : (ndarray Shape (m,))  target value \n",
    "      w : (ndarray Shape (n,))  values of parameters of the model      \n",
    "      b : (scalar)              value of bias parameter of the model\n",
    "      *argv : unused, for compatibility with regularized version below\n",
    "    Returns:\n",
    "      total_cost : (scalar) cost \n",
    "    \"\"\"\n",
    "\n",
    "    m, n = X.shape\n",
    "    \n",
    "    ### START CODE HERE ###\n",
    "    F_wb = sigmoid(np.dot(X,w) + b)\n",
    "    \n",
    "    F_loss = np.dot(-y,np.log(F_wb)) - np.dot((1-y),np.log(1-F_wb))\n",
    "    \n",
    "    total_cost = F_loss / m\n",
    "  \n",
    "    ### END CODE HERE ### \n",
    "\n",
    "    return total_cost"
   ]
  },
  {
   "cell_type": "code",
   "execution_count": 150,
   "metadata": {},
   "outputs": [
    {
     "name": "stdout",
     "output_type": "stream",
     "text": [
      "Cost at test w and b (non-zeros): 0.218\n",
      "\u001b[92mAll tests passed!\n"
     ]
    }
   ],
   "source": [
    "# Compute and display cost with non-zero w and b\n",
    "test_w = np.array([0.2, 0.2])\n",
    "test_b = -24.\n",
    "cost = compute_cost(X_train, y_train, test_w, test_b)\n",
    "\n",
    "print('Cost at test w and b (non-zeros): {:.3f}'.format(cost))\n",
    "\n",
    "\n",
    "# UNIT TESTS\n",
    "compute_cost_test(compute_cost)"
   ]
  },
  {
   "cell_type": "markdown",
   "metadata": {},
   "source": [
    "# 2.5 Gradient for logistic regression"
   ]
  },
  {
   "cell_type": "markdown",
   "metadata": {},
   "source": [
    "## Exercise 3"
   ]
  },
  {
   "cell_type": "code",
   "execution_count": 151,
   "metadata": {},
   "outputs": [],
   "source": [
    "# UNQ_C3\n",
    "# GRADED FUNCTION: compute_gradient\n",
    "def compute_gradient(X, y, w, b, *argv): \n",
    "    \"\"\"\n",
    "    Computes the gradient for logistic regression \n",
    " \n",
    "    Args:\n",
    "      X : (ndarray Shape (m,n)) data, m examples by n features\n",
    "      y : (ndarray Shape (m,))  target value \n",
    "      w : (ndarray Shape (n,))  values of parameters of the model      \n",
    "      b : (scalar)              value of bias parameter of the model\n",
    "      *argv : unused, for compatibility with regularized version below\n",
    "    Returns\n",
    "      dj_dw : (ndarray Shape (n,)) The gradient of the cost w.r.t. the parameters w. \n",
    "      dj_db : (scalar)             The gradient of the cost w.r.t. the parameter b. \n",
    "    \"\"\"\n",
    "    m, n = X.shape\n",
    "    dj_dw = np.zeros(w.shape)\n",
    "    dj_db = 0.\n",
    "    \n",
    "  \n",
    "    \n",
    "    ### START CODE HERE ### \n",
    "    for i in range(m):\n",
    "        z_wb = None\n",
    "        for j in range(n): \n",
    "            z_wb += None\n",
    "        z_wb += None\n",
    "        f_wb = None\n",
    "        \n",
    "        dj_db_i = None\n",
    "        dj_db += None\n",
    "        \n",
    "        for j in range(n):\n",
    "            dj_dw[j] = None\n",
    "            \n",
    "    dj_dw = None\n",
    "    dj_db = None\n",
    "    ### END CODE HERE ###\n",
    "\n",
    "        \n",
    "    return dj_db, dj_dw"
   ]
  },
  {
   "cell_type": "code",
   "execution_count": 157,
   "metadata": {},
   "outputs": [],
   "source": [
    "\n",
    "import numpy as np\n",
    "\n",
    "def compute_gradient(X, y, w, b, *argv):\n",
    "    \"\"\"\n",
    "    Computes the gradient for logistic regression\n",
    "\n",
    "    Args:\n",
    "      X : (ndarray Shape (m,n)) data, m examples by n features\n",
    "      y : (ndarray Shape (m,))  target value \n",
    "      w : (ndarray Shape (n,))  values of parameters of the model      \n",
    "      b : (scalar)              value of bias parameter of the model\n",
    "      *argv : unused, for compatibility with regularized version below\n",
    "    Returns\n",
    "      dj_dw : (ndarray Shape (n,)) The gradient of the cost w.r.t. the parameters w. \n",
    "      dj_db : (scalar)             The gradient of the cost w.r.t. the parameter b. \n",
    "    \"\"\"\n",
    "    m, n = X.shape\n",
    "    dj_dw = np.zeros(w.shape)\n",
    "    dj_db = 0.\n",
    "    \n",
    "    ### START CODE HERE ### \n",
    "    for i in range(m):\n",
    "        # Compute z = w * x + b\n",
    "        z_wb = np.dot(X[i], w) + b\n",
    "        \n",
    "        # Compute f_wb = sigmoid(z)\n",
    "        f_wb = 1 / (1 + np.exp(-z_wb))\n",
    "        \n",
    "        # Compute the gradient of the loss with respect to b\n",
    "        dj_db_i = f_wb - y[i]\n",
    "        dj_db += dj_db_i\n",
    "        \n",
    "        # Compute the gradient of the loss with respect to w\n",
    "        for j in range(n):\n",
    "            dj_dw[j] += dj_db_i * X[i, j]\n",
    "            \n",
    "    # Average over all examples\n",
    "    dj_dw = dj_dw / m\n",
    "    dj_db = dj_db / m\n",
    "    ### END CODE HERE ###\n",
    "\n",
    "    return dj_db, dj_dw\n"
   ]
  },
  {
   "cell_type": "code",
   "execution_count": 158,
   "metadata": {},
   "outputs": [
    {
     "name": "stdout",
     "output_type": "stream",
     "text": [
      "dj_db at initial w and b (zeros):-0.1\n",
      "dj_dw at initial w and b (zeros):[-12.00921658929115, -11.262842205513591]\n"
     ]
    }
   ],
   "source": [
    "# Compute and display gradient with w and b initialized to zeros\n",
    "initial_w = np.zeros(n)\n",
    "initial_b = 0.\n",
    "\n",
    "dj_db, dj_dw = compute_gradient(X_train, y_train, initial_w, initial_b)\n",
    "print(f'dj_db at initial w and b (zeros):{dj_db}' )\n",
    "print(f'dj_dw at initial w and b (zeros):{dj_dw.tolist()}' )"
   ]
  },
  {
   "cell_type": "code",
   "execution_count": 160,
   "metadata": {},
   "outputs": [
    {
     "name": "stdout",
     "output_type": "stream",
     "text": [
      "dj_db at test w and b: -0.5999999999991071\n",
      "dj_dw at test w and b: [-44.831353617873795, -44.37384124953978]\n",
      "\u001b[92mAll tests passed!\n"
     ]
    }
   ],
   "source": [
    "# Compute and display cost and gradient with non-zero w and b\n",
    "test_w = np.array([ 0.2, -0.5])\n",
    "test_b = -24\n",
    "dj_db, dj_dw  = compute_gradient(X_train, y_train, test_w, test_b)\n",
    "\n",
    "print('dj_db at test w and b:', dj_db)\n",
    "print('dj_dw at test w and b:', dj_dw.tolist())\n",
    "\n",
    "# UNIT TESTS    \n",
    "compute_gradient_test(compute_gradient)"
   ]
  },
  {
   "cell_type": "code",
   "execution_count": null,
   "metadata": {},
   "outputs": [],
   "source": []
  },
  {
   "cell_type": "markdown",
   "metadata": {},
   "source": [
    "# Exercise 4"
   ]
  },
  {
   "cell_type": "code",
   "execution_count": null,
   "metadata": {},
   "outputs": [],
   "source": [
    "# UNQ_C4\n",
    "# GRADED FUNCTION: predict\n",
    "\n",
    "def predict(X, w, b): \n",
    "    \"\"\"\n",
    "    Predict whether the label is 0 or 1 using learned logistic\n",
    "    regression parameters w\n",
    "    \n",
    "    Args:\n",
    "      X : (ndarray Shape (m,n)) data, m examples by n features\n",
    "      w : (ndarray Shape (n,))  values of parameters of the model      \n",
    "      b : (scalar)              value of bias parameter of the model\n",
    "\n",
    "    Returns:\n",
    "      p : (ndarray (m,)) The predictions for X using a threshold at 0.5\n",
    "    \"\"\"\n",
    "    # number of training examples\n",
    "    m, n = X.shape   \n",
    "    p = np.zeros(m)\n",
    "   \n",
    "    ### START CODE HERE ### \n",
    "    # Loop over each example\n",
    "    for i in range(m):   \n",
    "        z_wb = np.dot(X[i], w) + b \n",
    "        f_wb = 1 / (1 + np.exp(-z_wb))\n",
    "        \n",
    "        if f_wb >= 0.5:\n",
    "          p[i] = 1\n",
    "        else:\n",
    "          p[i] = 0 \n",
    "        \n",
    "    ### END CODE HERE ### \n",
    "    return p"
   ]
  },
  {
   "cell_type": "code",
   "execution_count": 161,
   "metadata": {},
   "outputs": [],
   "source": [
    "import numpy as np\n",
    "\n",
    "def predict(X, w, b): \n",
    "    \"\"\"\n",
    "    Predict whether the label is 0 or 1 using learned logistic\n",
    "    regression parameters w\n",
    "    \n",
    "    Args:\n",
    "      X : (ndarray Shape (m,n)) data, m examples by n features\n",
    "      w : (ndarray Shape (n,))  values of parameters of the model      \n",
    "      b : (scalar)              value of bias parameter of the model\n",
    "\n",
    "    Returns:\n",
    "      p : (ndarray (m,)) The predictions for X using a threshold at 0.5\n",
    "    \"\"\"\n",
    "    # number of training examples\n",
    "    m, n = X.shape   \n",
    "    p = np.zeros(m)\n",
    "   \n",
    "    ### START CODE HERE ### \n",
    "    # Loop over each example\n",
    "    for i in range(m):   \n",
    "        # Compute z = w * x + b\n",
    "        z_wb = np.dot(X[i], w) + b\n",
    "        \n",
    "        # Calculate the prediction for this example using the sigmoid function\n",
    "        f_wb = 1 / (1 + np.exp(-z_wb))\n",
    "\n",
    "        # Apply the threshold to convert probabilities to binary predictions\n",
    "        if f_wb >= 0.5:\n",
    "            p[i] = 1\n",
    "        else:\n",
    "            p[i] = 0\n",
    "        \n",
    "    ### END CODE HERE ### \n",
    "    return p\n"
   ]
  },
  {
   "cell_type": "code",
   "execution_count": 162,
   "metadata": {},
   "outputs": [
    {
     "name": "stdout",
     "output_type": "stream",
     "text": [
      "Output of predict: shape (4,), value [0. 1. 1. 1.]\n",
      "\u001b[92mAll tests passed!\n"
     ]
    }
   ],
   "source": [
    "# Test your predict code\n",
    "np.random.seed(1)\n",
    "tmp_w = np.random.randn(2)\n",
    "tmp_b = 0.3    \n",
    "tmp_X = np.random.randn(4, 2) - 0.5\n",
    "\n",
    "tmp_p = predict(tmp_X, tmp_w, tmp_b)\n",
    "print(f'Output of predict: shape {tmp_p.shape}, value {tmp_p}')\n",
    "\n",
    "# UNIT TESTS        \n",
    "predict_test(predict)"
   ]
  },
  {
   "cell_type": "markdown",
   "metadata": {},
   "source": [
    "# Exercise 5"
   ]
  },
  {
   "cell_type": "code",
   "execution_count": null,
   "metadata": {},
   "outputs": [],
   "source": [
    "# UNQ_C5\n",
    "def compute_cost_reg(X, y, w, b, lambda_ = 1):\n",
    "    \"\"\"\n",
    "    Computes the cost over all examples\n",
    "    Args:\n",
    "      X : (ndarray Shape (m,n)) data, m examples by n features\n",
    "      y : (ndarray Shape (m,))  target value \n",
    "      w : (ndarray Shape (n,))  values of parameters of the model      \n",
    "      b : (scalar)              value of bias parameter of the model\n",
    "      lambda_ : (scalar, float) Controls amount of regularization\n",
    "    Returns:\n",
    "      total_cost : (scalar)     cost \n",
    "    \"\"\"\n",
    "\n",
    "    m, n = X.shape\n",
    "    \n",
    "    # Calls the compute_cost function that you implemented above\n",
    "    cost_without_reg = compute_cost(X, y, w, b) \n",
    "    \n",
    "    # You need to calculate this value\n",
    "    reg_cost = 0.\n",
    "    \n",
    "    ### START CODE HERE ###\n",
    "    \n",
    "        \n",
    "    \n",
    "    ### END CODE HERE ### \n",
    "    \n",
    "    # Add the regularization cost to get the total cost\n",
    "    total_cost = cost_without_reg + reg_cost\n",
    "\n",
    "    return total_cost"
   ]
  },
  {
   "cell_type": "code",
   "execution_count": 163,
   "metadata": {},
   "outputs": [],
   "source": [
    "import numpy as np\n",
    "\n",
    "def compute_cost_reg(X, y, w, b, lambda_ = 1):\n",
    "    \"\"\"\n",
    "    Computes the cost over all examples with regularization\n",
    "    Args:\n",
    "      X : (ndarray Shape (m,n)) data, m examples by n features\n",
    "      y : (ndarray Shape (m,))  target value \n",
    "      w : (ndarray Shape (n,))  values of parameters of the model      \n",
    "      b : (scalar)              value of bias parameter of the model\n",
    "      lambda_ : (scalar, float) Controls amount of regularization\n",
    "    Returns:\n",
    "      total_cost : (scalar)     cost \n",
    "    \"\"\"\n",
    "\n",
    "    m, n = X.shape\n",
    "    \n",
    "    # Calls the compute_cost function that you implemented above\n",
    "    cost_without_reg = compute_cost(X, y, w, b)  # You should have implemented this function earlier\n",
    "    \n",
    "    # Calculate the regularization cost\n",
    "    reg_cost = (lambda_ / (2 * m)) * np.sum(np.square(w))\n",
    "    \n",
    "    # Add the regularization cost to get the total cost\n",
    "    total_cost = cost_without_reg + reg_cost\n",
    "\n",
    "    return total_cost\n"
   ]
  },
  {
   "cell_type": "code",
   "execution_count": 165,
   "metadata": {},
   "outputs": [
    {
     "name": "stdout",
     "output_type": "stream",
     "text": [
      "Regularized cost : nan\n"
     ]
    },
    {
     "name": "stderr",
     "output_type": "stream",
     "text": [
      "/var/folders/8v/2l8mtcxj4sjf0ld4nx91607h0000gn/T/ipykernel_92695/2638189054.py:17: RuntimeWarning: overflow encountered in exp\n",
      "  g = 1/(1+np.exp(-z))\n",
      "/var/folders/8v/2l8mtcxj4sjf0ld4nx91607h0000gn/T/ipykernel_92695/3220879444.py:22: RuntimeWarning: divide by zero encountered in log\n",
      "  F_loss = np.dot(-y,np.log(F_wb)) - np.dot((1-y),np.log(1-F_wb))\n"
     ]
    }
   ],
   "source": [
    "X_mapped = map_feature(X_train[:, 0], X_train[:, 1])\n",
    "np.random.seed(1)\n",
    "initial_w = np.random.rand(X_mapped.shape[1]) - 0.5\n",
    "initial_b = 0.5\n",
    "lambda_ = 0.5\n",
    "cost = compute_cost_reg(X_mapped, y_train, initial_w, initial_b, lambda_)\n",
    "\n",
    "print(\"Regularized cost :\", cost)\n",
    "\n",
    "# UNIT TEST    \n",
    "# compute_cost_reg_test(compute_cost_reg)"
   ]
  },
  {
   "cell_type": "code",
   "execution_count": null,
   "metadata": {},
   "outputs": [],
   "source": []
  },
  {
   "cell_type": "code",
   "execution_count": 166,
   "metadata": {},
   "outputs": [],
   "source": [
    "import numpy as np\n",
    "\n",
    "def compute_gradient_reg(X, y, w, b, lambda_ = 1): \n",
    "    \"\"\"\n",
    "    Computes the gradient for logistic regression with regularization\n",
    " \n",
    "    Args:\n",
    "      X : (ndarray Shape (m,n)) data, m examples by n features\n",
    "      y : (ndarray Shape (m,))  target value \n",
    "      w : (ndarray Shape (n,))  values of parameters of the model      \n",
    "      b : (scalar)              value of bias parameter of the model\n",
    "      lambda_ : (scalar,float)  regularization constant\n",
    "    Returns\n",
    "      dj_db : (scalar)             The gradient of the cost w.r.t. the parameter b. \n",
    "      dj_dw : (ndarray Shape (n,)) The gradient of the cost w.r.t. the parameters w. \n",
    "    \"\"\"\n",
    "    m, n = X.shape\n",
    "    \n",
    "    # Compute the gradient without regularization\n",
    "    dj_db, dj_dw = compute_gradient(X, y, w, b)  # You should have implemented this function earlier\n",
    "\n",
    "    ### START CODE HERE ###     \n",
    "    # Add regularization to the gradient of the weights\n",
    "    dj_dw += (lambda_ / m) * w\n",
    "    ### END CODE HERE ###         \n",
    "        \n",
    "    return dj_db, dj_dw\n"
   ]
  },
  {
   "cell_type": "code",
   "execution_count": 167,
   "metadata": {},
   "outputs": [
    {
     "name": "stdout",
     "output_type": "stream",
     "text": [
      "dj_db: 0.28\n",
      "First few elements of regularized dj_dw:\n",
      " [16.237444240683217, 12.047326628088538, 1026.397204362715, 696.2311299647832]\n",
      "\u001b[92mAll tests passed!\n"
     ]
    },
    {
     "name": "stderr",
     "output_type": "stream",
     "text": [
      "/var/folders/8v/2l8mtcxj4sjf0ld4nx91607h0000gn/T/ipykernel_92695/2663770091.py:28: RuntimeWarning: overflow encountered in exp\n",
      "  f_wb = 1 / (1 + np.exp(-z_wb))\n"
     ]
    }
   ],
   "source": [
    "X_mapped = map_feature(X_train[:, 0], X_train[:, 1])\n",
    "np.random.seed(1) \n",
    "initial_w  = np.random.rand(X_mapped.shape[1]) - 0.5 \n",
    "initial_b = 0.5\n",
    " \n",
    "lambda_ = 0.5\n",
    "dj_db, dj_dw = compute_gradient_reg(X_mapped, y_train, initial_w, initial_b, lambda_)\n",
    "\n",
    "print(f\"dj_db: {dj_db}\", )\n",
    "print(f\"First few elements of regularized dj_dw:\\n {dj_dw[:4].tolist()}\", )\n",
    "\n",
    "# UNIT TESTS    \n",
    "compute_gradient_reg_test(compute_gradient_reg)"
   ]
  },
  {
   "cell_type": "code",
   "execution_count": null,
   "metadata": {},
   "outputs": [],
   "source": []
  }
 ],
 "metadata": {
  "kernelspec": {
   "display_name": "Python 3.12.1 64-bit",
   "language": "python",
   "name": "python3"
  },
  "language_info": {
   "codemirror_mode": {
    "name": "ipython",
    "version": 3
   },
   "file_extension": ".py",
   "mimetype": "text/x-python",
   "name": "python",
   "nbconvert_exporter": "python",
   "pygments_lexer": "ipython3",
   "version": "3.12.1"
  },
  "orig_nbformat": 4,
  "vscode": {
   "interpreter": {
    "hash": "1e6d7caa1a7958a590c4bd068b926f535318dae87793fdcbfa8672193aae8b74"
   }
  }
 },
 "nbformat": 4,
 "nbformat_minor": 2
}
